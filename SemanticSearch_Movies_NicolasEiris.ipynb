{
  "nbformat": 4,
  "nbformat_minor": 0,
  "metadata": {
    "colab": {
      "provenance": [],
      "gpuType": "T4",
      "include_colab_link": true
    },
    "kernelspec": {
      "name": "python3",
      "display_name": "Python 3"
    },
    "language_info": {
      "name": "python"
    },
    "accelerator": "GPU",
    "widgets": {
      "application/vnd.jupyter.widget-state+json": {
        "df166c9201d34569a49a6f83e79f1608": {
          "model_module": "@jupyter-widgets/controls",
          "model_name": "HBoxModel",
          "model_module_version": "1.5.0",
          "state": {
            "_dom_classes": [],
            "_model_module": "@jupyter-widgets/controls",
            "_model_module_version": "1.5.0",
            "_model_name": "HBoxModel",
            "_view_count": null,
            "_view_module": "@jupyter-widgets/controls",
            "_view_module_version": "1.5.0",
            "_view_name": "HBoxView",
            "box_style": "",
            "children": [
              "IPY_MODEL_062d11e4eed7413e951de60b027a2bde",
              "IPY_MODEL_aa88137dc55047648a333a30b3cc6371",
              "IPY_MODEL_1a086a765f6b40e1b1f6b833978ca19f"
            ],
            "layout": "IPY_MODEL_521d6dab1f20456fa5dc516c97a8e30f"
          }
        },
        "062d11e4eed7413e951de60b027a2bde": {
          "model_module": "@jupyter-widgets/controls",
          "model_name": "HTMLModel",
          "model_module_version": "1.5.0",
          "state": {
            "_dom_classes": [],
            "_model_module": "@jupyter-widgets/controls",
            "_model_module_version": "1.5.0",
            "_model_name": "HTMLModel",
            "_view_count": null,
            "_view_module": "@jupyter-widgets/controls",
            "_view_module_version": "1.5.0",
            "_view_name": "HTMLView",
            "description": "",
            "description_tooltip": null,
            "layout": "IPY_MODEL_ffa3674910164726b54e93c0f12f9f33",
            "placeholder": "​",
            "style": "IPY_MODEL_0c81128c48654c57b82cf4e0e96560cf",
            "value": "Downloading (…)solve/main/vocab.txt: 100%"
          }
        },
        "aa88137dc55047648a333a30b3cc6371": {
          "model_module": "@jupyter-widgets/controls",
          "model_name": "FloatProgressModel",
          "model_module_version": "1.5.0",
          "state": {
            "_dom_classes": [],
            "_model_module": "@jupyter-widgets/controls",
            "_model_module_version": "1.5.0",
            "_model_name": "FloatProgressModel",
            "_view_count": null,
            "_view_module": "@jupyter-widgets/controls",
            "_view_module_version": "1.5.0",
            "_view_name": "ProgressView",
            "bar_style": "success",
            "description": "",
            "description_tooltip": null,
            "layout": "IPY_MODEL_efa84c32f5414483b18aa365f8192643",
            "max": 231508,
            "min": 0,
            "orientation": "horizontal",
            "style": "IPY_MODEL_69e4b0713d164706bac1a3c6422045be",
            "value": 231508
          }
        },
        "1a086a765f6b40e1b1f6b833978ca19f": {
          "model_module": "@jupyter-widgets/controls",
          "model_name": "HTMLModel",
          "model_module_version": "1.5.0",
          "state": {
            "_dom_classes": [],
            "_model_module": "@jupyter-widgets/controls",
            "_model_module_version": "1.5.0",
            "_model_name": "HTMLModel",
            "_view_count": null,
            "_view_module": "@jupyter-widgets/controls",
            "_view_module_version": "1.5.0",
            "_view_name": "HTMLView",
            "description": "",
            "description_tooltip": null,
            "layout": "IPY_MODEL_1985366fc86a4dca98966f50680adb67",
            "placeholder": "​",
            "style": "IPY_MODEL_7867e9e17c9c4032b3aa9316e80787fb",
            "value": " 232k/232k [00:00&lt;00:00, 7.01MB/s]"
          }
        },
        "521d6dab1f20456fa5dc516c97a8e30f": {
          "model_module": "@jupyter-widgets/base",
          "model_name": "LayoutModel",
          "model_module_version": "1.2.0",
          "state": {
            "_model_module": "@jupyter-widgets/base",
            "_model_module_version": "1.2.0",
            "_model_name": "LayoutModel",
            "_view_count": null,
            "_view_module": "@jupyter-widgets/base",
            "_view_module_version": "1.2.0",
            "_view_name": "LayoutView",
            "align_content": null,
            "align_items": null,
            "align_self": null,
            "border": null,
            "bottom": null,
            "display": null,
            "flex": null,
            "flex_flow": null,
            "grid_area": null,
            "grid_auto_columns": null,
            "grid_auto_flow": null,
            "grid_auto_rows": null,
            "grid_column": null,
            "grid_gap": null,
            "grid_row": null,
            "grid_template_areas": null,
            "grid_template_columns": null,
            "grid_template_rows": null,
            "height": null,
            "justify_content": null,
            "justify_items": null,
            "left": null,
            "margin": null,
            "max_height": null,
            "max_width": null,
            "min_height": null,
            "min_width": null,
            "object_fit": null,
            "object_position": null,
            "order": null,
            "overflow": null,
            "overflow_x": null,
            "overflow_y": null,
            "padding": null,
            "right": null,
            "top": null,
            "visibility": null,
            "width": null
          }
        },
        "ffa3674910164726b54e93c0f12f9f33": {
          "model_module": "@jupyter-widgets/base",
          "model_name": "LayoutModel",
          "model_module_version": "1.2.0",
          "state": {
            "_model_module": "@jupyter-widgets/base",
            "_model_module_version": "1.2.0",
            "_model_name": "LayoutModel",
            "_view_count": null,
            "_view_module": "@jupyter-widgets/base",
            "_view_module_version": "1.2.0",
            "_view_name": "LayoutView",
            "align_content": null,
            "align_items": null,
            "align_self": null,
            "border": null,
            "bottom": null,
            "display": null,
            "flex": null,
            "flex_flow": null,
            "grid_area": null,
            "grid_auto_columns": null,
            "grid_auto_flow": null,
            "grid_auto_rows": null,
            "grid_column": null,
            "grid_gap": null,
            "grid_row": null,
            "grid_template_areas": null,
            "grid_template_columns": null,
            "grid_template_rows": null,
            "height": null,
            "justify_content": null,
            "justify_items": null,
            "left": null,
            "margin": null,
            "max_height": null,
            "max_width": null,
            "min_height": null,
            "min_width": null,
            "object_fit": null,
            "object_position": null,
            "order": null,
            "overflow": null,
            "overflow_x": null,
            "overflow_y": null,
            "padding": null,
            "right": null,
            "top": null,
            "visibility": null,
            "width": null
          }
        },
        "0c81128c48654c57b82cf4e0e96560cf": {
          "model_module": "@jupyter-widgets/controls",
          "model_name": "DescriptionStyleModel",
          "model_module_version": "1.5.0",
          "state": {
            "_model_module": "@jupyter-widgets/controls",
            "_model_module_version": "1.5.0",
            "_model_name": "DescriptionStyleModel",
            "_view_count": null,
            "_view_module": "@jupyter-widgets/base",
            "_view_module_version": "1.2.0",
            "_view_name": "StyleView",
            "description_width": ""
          }
        },
        "efa84c32f5414483b18aa365f8192643": {
          "model_module": "@jupyter-widgets/base",
          "model_name": "LayoutModel",
          "model_module_version": "1.2.0",
          "state": {
            "_model_module": "@jupyter-widgets/base",
            "_model_module_version": "1.2.0",
            "_model_name": "LayoutModel",
            "_view_count": null,
            "_view_module": "@jupyter-widgets/base",
            "_view_module_version": "1.2.0",
            "_view_name": "LayoutView",
            "align_content": null,
            "align_items": null,
            "align_self": null,
            "border": null,
            "bottom": null,
            "display": null,
            "flex": null,
            "flex_flow": null,
            "grid_area": null,
            "grid_auto_columns": null,
            "grid_auto_flow": null,
            "grid_auto_rows": null,
            "grid_column": null,
            "grid_gap": null,
            "grid_row": null,
            "grid_template_areas": null,
            "grid_template_columns": null,
            "grid_template_rows": null,
            "height": null,
            "justify_content": null,
            "justify_items": null,
            "left": null,
            "margin": null,
            "max_height": null,
            "max_width": null,
            "min_height": null,
            "min_width": null,
            "object_fit": null,
            "object_position": null,
            "order": null,
            "overflow": null,
            "overflow_x": null,
            "overflow_y": null,
            "padding": null,
            "right": null,
            "top": null,
            "visibility": null,
            "width": null
          }
        },
        "69e4b0713d164706bac1a3c6422045be": {
          "model_module": "@jupyter-widgets/controls",
          "model_name": "ProgressStyleModel",
          "model_module_version": "1.5.0",
          "state": {
            "_model_module": "@jupyter-widgets/controls",
            "_model_module_version": "1.5.0",
            "_model_name": "ProgressStyleModel",
            "_view_count": null,
            "_view_module": "@jupyter-widgets/base",
            "_view_module_version": "1.2.0",
            "_view_name": "StyleView",
            "bar_color": null,
            "description_width": ""
          }
        },
        "1985366fc86a4dca98966f50680adb67": {
          "model_module": "@jupyter-widgets/base",
          "model_name": "LayoutModel",
          "model_module_version": "1.2.0",
          "state": {
            "_model_module": "@jupyter-widgets/base",
            "_model_module_version": "1.2.0",
            "_model_name": "LayoutModel",
            "_view_count": null,
            "_view_module": "@jupyter-widgets/base",
            "_view_module_version": "1.2.0",
            "_view_name": "LayoutView",
            "align_content": null,
            "align_items": null,
            "align_self": null,
            "border": null,
            "bottom": null,
            "display": null,
            "flex": null,
            "flex_flow": null,
            "grid_area": null,
            "grid_auto_columns": null,
            "grid_auto_flow": null,
            "grid_auto_rows": null,
            "grid_column": null,
            "grid_gap": null,
            "grid_row": null,
            "grid_template_areas": null,
            "grid_template_columns": null,
            "grid_template_rows": null,
            "height": null,
            "justify_content": null,
            "justify_items": null,
            "left": null,
            "margin": null,
            "max_height": null,
            "max_width": null,
            "min_height": null,
            "min_width": null,
            "object_fit": null,
            "object_position": null,
            "order": null,
            "overflow": null,
            "overflow_x": null,
            "overflow_y": null,
            "padding": null,
            "right": null,
            "top": null,
            "visibility": null,
            "width": null
          }
        },
        "7867e9e17c9c4032b3aa9316e80787fb": {
          "model_module": "@jupyter-widgets/controls",
          "model_name": "DescriptionStyleModel",
          "model_module_version": "1.5.0",
          "state": {
            "_model_module": "@jupyter-widgets/controls",
            "_model_module_version": "1.5.0",
            "_model_name": "DescriptionStyleModel",
            "_view_count": null,
            "_view_module": "@jupyter-widgets/base",
            "_view_module_version": "1.2.0",
            "_view_name": "StyleView",
            "description_width": ""
          }
        },
        "98cf1fc291814c3b89f6c4c08a469a45": {
          "model_module": "@jupyter-widgets/controls",
          "model_name": "HBoxModel",
          "model_module_version": "1.5.0",
          "state": {
            "_dom_classes": [],
            "_model_module": "@jupyter-widgets/controls",
            "_model_module_version": "1.5.0",
            "_model_name": "HBoxModel",
            "_view_count": null,
            "_view_module": "@jupyter-widgets/controls",
            "_view_module_version": "1.5.0",
            "_view_name": "HBoxView",
            "box_style": "",
            "children": [
              "IPY_MODEL_9a05fdf2eca045dc914c7ed8df5b27a8",
              "IPY_MODEL_41809b7e781547d19170071ca0837310",
              "IPY_MODEL_b10bdcddde7d418698fae203e0078917"
            ],
            "layout": "IPY_MODEL_1ca779f2f71f40768fca644d91112a5d"
          }
        },
        "9a05fdf2eca045dc914c7ed8df5b27a8": {
          "model_module": "@jupyter-widgets/controls",
          "model_name": "HTMLModel",
          "model_module_version": "1.5.0",
          "state": {
            "_dom_classes": [],
            "_model_module": "@jupyter-widgets/controls",
            "_model_module_version": "1.5.0",
            "_model_name": "HTMLModel",
            "_view_count": null,
            "_view_module": "@jupyter-widgets/controls",
            "_view_module_version": "1.5.0",
            "_view_name": "HTMLView",
            "description": "",
            "description_tooltip": null,
            "layout": "IPY_MODEL_ff7679194d93450b82ce43195754bfa6",
            "placeholder": "​",
            "style": "IPY_MODEL_606d593eb9a44651b741995a2dc9d9d1",
            "value": "Downloading (…)okenizer_config.json: 100%"
          }
        },
        "41809b7e781547d19170071ca0837310": {
          "model_module": "@jupyter-widgets/controls",
          "model_name": "FloatProgressModel",
          "model_module_version": "1.5.0",
          "state": {
            "_dom_classes": [],
            "_model_module": "@jupyter-widgets/controls",
            "_model_module_version": "1.5.0",
            "_model_name": "FloatProgressModel",
            "_view_count": null,
            "_view_module": "@jupyter-widgets/controls",
            "_view_module_version": "1.5.0",
            "_view_name": "ProgressView",
            "bar_style": "success",
            "description": "",
            "description_tooltip": null,
            "layout": "IPY_MODEL_cbe2df77d9ca464e84a714804aab9b2e",
            "max": 28,
            "min": 0,
            "orientation": "horizontal",
            "style": "IPY_MODEL_78e803ac1aa24ec5b8785f4b12f9ad82",
            "value": 28
          }
        },
        "b10bdcddde7d418698fae203e0078917": {
          "model_module": "@jupyter-widgets/controls",
          "model_name": "HTMLModel",
          "model_module_version": "1.5.0",
          "state": {
            "_dom_classes": [],
            "_model_module": "@jupyter-widgets/controls",
            "_model_module_version": "1.5.0",
            "_model_name": "HTMLModel",
            "_view_count": null,
            "_view_module": "@jupyter-widgets/controls",
            "_view_module_version": "1.5.0",
            "_view_name": "HTMLView",
            "description": "",
            "description_tooltip": null,
            "layout": "IPY_MODEL_d99373538bf14fb6bf7f92b1ba044b51",
            "placeholder": "​",
            "style": "IPY_MODEL_bacb653bc43f4325bf1b4d7b95d76ff1",
            "value": " 28.0/28.0 [00:00&lt;00:00, 1.90kB/s]"
          }
        },
        "1ca779f2f71f40768fca644d91112a5d": {
          "model_module": "@jupyter-widgets/base",
          "model_name": "LayoutModel",
          "model_module_version": "1.2.0",
          "state": {
            "_model_module": "@jupyter-widgets/base",
            "_model_module_version": "1.2.0",
            "_model_name": "LayoutModel",
            "_view_count": null,
            "_view_module": "@jupyter-widgets/base",
            "_view_module_version": "1.2.0",
            "_view_name": "LayoutView",
            "align_content": null,
            "align_items": null,
            "align_self": null,
            "border": null,
            "bottom": null,
            "display": null,
            "flex": null,
            "flex_flow": null,
            "grid_area": null,
            "grid_auto_columns": null,
            "grid_auto_flow": null,
            "grid_auto_rows": null,
            "grid_column": null,
            "grid_gap": null,
            "grid_row": null,
            "grid_template_areas": null,
            "grid_template_columns": null,
            "grid_template_rows": null,
            "height": null,
            "justify_content": null,
            "justify_items": null,
            "left": null,
            "margin": null,
            "max_height": null,
            "max_width": null,
            "min_height": null,
            "min_width": null,
            "object_fit": null,
            "object_position": null,
            "order": null,
            "overflow": null,
            "overflow_x": null,
            "overflow_y": null,
            "padding": null,
            "right": null,
            "top": null,
            "visibility": null,
            "width": null
          }
        },
        "ff7679194d93450b82ce43195754bfa6": {
          "model_module": "@jupyter-widgets/base",
          "model_name": "LayoutModel",
          "model_module_version": "1.2.0",
          "state": {
            "_model_module": "@jupyter-widgets/base",
            "_model_module_version": "1.2.0",
            "_model_name": "LayoutModel",
            "_view_count": null,
            "_view_module": "@jupyter-widgets/base",
            "_view_module_version": "1.2.0",
            "_view_name": "LayoutView",
            "align_content": null,
            "align_items": null,
            "align_self": null,
            "border": null,
            "bottom": null,
            "display": null,
            "flex": null,
            "flex_flow": null,
            "grid_area": null,
            "grid_auto_columns": null,
            "grid_auto_flow": null,
            "grid_auto_rows": null,
            "grid_column": null,
            "grid_gap": null,
            "grid_row": null,
            "grid_template_areas": null,
            "grid_template_columns": null,
            "grid_template_rows": null,
            "height": null,
            "justify_content": null,
            "justify_items": null,
            "left": null,
            "margin": null,
            "max_height": null,
            "max_width": null,
            "min_height": null,
            "min_width": null,
            "object_fit": null,
            "object_position": null,
            "order": null,
            "overflow": null,
            "overflow_x": null,
            "overflow_y": null,
            "padding": null,
            "right": null,
            "top": null,
            "visibility": null,
            "width": null
          }
        },
        "606d593eb9a44651b741995a2dc9d9d1": {
          "model_module": "@jupyter-widgets/controls",
          "model_name": "DescriptionStyleModel",
          "model_module_version": "1.5.0",
          "state": {
            "_model_module": "@jupyter-widgets/controls",
            "_model_module_version": "1.5.0",
            "_model_name": "DescriptionStyleModel",
            "_view_count": null,
            "_view_module": "@jupyter-widgets/base",
            "_view_module_version": "1.2.0",
            "_view_name": "StyleView",
            "description_width": ""
          }
        },
        "cbe2df77d9ca464e84a714804aab9b2e": {
          "model_module": "@jupyter-widgets/base",
          "model_name": "LayoutModel",
          "model_module_version": "1.2.0",
          "state": {
            "_model_module": "@jupyter-widgets/base",
            "_model_module_version": "1.2.0",
            "_model_name": "LayoutModel",
            "_view_count": null,
            "_view_module": "@jupyter-widgets/base",
            "_view_module_version": "1.2.0",
            "_view_name": "LayoutView",
            "align_content": null,
            "align_items": null,
            "align_self": null,
            "border": null,
            "bottom": null,
            "display": null,
            "flex": null,
            "flex_flow": null,
            "grid_area": null,
            "grid_auto_columns": null,
            "grid_auto_flow": null,
            "grid_auto_rows": null,
            "grid_column": null,
            "grid_gap": null,
            "grid_row": null,
            "grid_template_areas": null,
            "grid_template_columns": null,
            "grid_template_rows": null,
            "height": null,
            "justify_content": null,
            "justify_items": null,
            "left": null,
            "margin": null,
            "max_height": null,
            "max_width": null,
            "min_height": null,
            "min_width": null,
            "object_fit": null,
            "object_position": null,
            "order": null,
            "overflow": null,
            "overflow_x": null,
            "overflow_y": null,
            "padding": null,
            "right": null,
            "top": null,
            "visibility": null,
            "width": null
          }
        },
        "78e803ac1aa24ec5b8785f4b12f9ad82": {
          "model_module": "@jupyter-widgets/controls",
          "model_name": "ProgressStyleModel",
          "model_module_version": "1.5.0",
          "state": {
            "_model_module": "@jupyter-widgets/controls",
            "_model_module_version": "1.5.0",
            "_model_name": "ProgressStyleModel",
            "_view_count": null,
            "_view_module": "@jupyter-widgets/base",
            "_view_module_version": "1.2.0",
            "_view_name": "StyleView",
            "bar_color": null,
            "description_width": ""
          }
        },
        "d99373538bf14fb6bf7f92b1ba044b51": {
          "model_module": "@jupyter-widgets/base",
          "model_name": "LayoutModel",
          "model_module_version": "1.2.0",
          "state": {
            "_model_module": "@jupyter-widgets/base",
            "_model_module_version": "1.2.0",
            "_model_name": "LayoutModel",
            "_view_count": null,
            "_view_module": "@jupyter-widgets/base",
            "_view_module_version": "1.2.0",
            "_view_name": "LayoutView",
            "align_content": null,
            "align_items": null,
            "align_self": null,
            "border": null,
            "bottom": null,
            "display": null,
            "flex": null,
            "flex_flow": null,
            "grid_area": null,
            "grid_auto_columns": null,
            "grid_auto_flow": null,
            "grid_auto_rows": null,
            "grid_column": null,
            "grid_gap": null,
            "grid_row": null,
            "grid_template_areas": null,
            "grid_template_columns": null,
            "grid_template_rows": null,
            "height": null,
            "justify_content": null,
            "justify_items": null,
            "left": null,
            "margin": null,
            "max_height": null,
            "max_width": null,
            "min_height": null,
            "min_width": null,
            "object_fit": null,
            "object_position": null,
            "order": null,
            "overflow": null,
            "overflow_x": null,
            "overflow_y": null,
            "padding": null,
            "right": null,
            "top": null,
            "visibility": null,
            "width": null
          }
        },
        "bacb653bc43f4325bf1b4d7b95d76ff1": {
          "model_module": "@jupyter-widgets/controls",
          "model_name": "DescriptionStyleModel",
          "model_module_version": "1.5.0",
          "state": {
            "_model_module": "@jupyter-widgets/controls",
            "_model_module_version": "1.5.0",
            "_model_name": "DescriptionStyleModel",
            "_view_count": null,
            "_view_module": "@jupyter-widgets/base",
            "_view_module_version": "1.2.0",
            "_view_name": "StyleView",
            "description_width": ""
          }
        },
        "4439206f640f42df9072e603bfb93a02": {
          "model_module": "@jupyter-widgets/controls",
          "model_name": "HBoxModel",
          "model_module_version": "1.5.0",
          "state": {
            "_dom_classes": [],
            "_model_module": "@jupyter-widgets/controls",
            "_model_module_version": "1.5.0",
            "_model_name": "HBoxModel",
            "_view_count": null,
            "_view_module": "@jupyter-widgets/controls",
            "_view_module_version": "1.5.0",
            "_view_name": "HBoxView",
            "box_style": "",
            "children": [
              "IPY_MODEL_6f23f702d0f44b3f8dd91bd17decc9eb",
              "IPY_MODEL_5eb2aef7031243538302daa58648bfe7",
              "IPY_MODEL_862304f5b609497384b63d736fd34ca7"
            ],
            "layout": "IPY_MODEL_4765b3d545ec409caf93c7daf49ed0e7"
          }
        },
        "6f23f702d0f44b3f8dd91bd17decc9eb": {
          "model_module": "@jupyter-widgets/controls",
          "model_name": "HTMLModel",
          "model_module_version": "1.5.0",
          "state": {
            "_dom_classes": [],
            "_model_module": "@jupyter-widgets/controls",
            "_model_module_version": "1.5.0",
            "_model_name": "HTMLModel",
            "_view_count": null,
            "_view_module": "@jupyter-widgets/controls",
            "_view_module_version": "1.5.0",
            "_view_name": "HTMLView",
            "description": "",
            "description_tooltip": null,
            "layout": "IPY_MODEL_332821dd8c2f416b91bf0fae94022cfb",
            "placeholder": "​",
            "style": "IPY_MODEL_36dc62d92fa34d758aa1f732776c95e4",
            "value": "Downloading (…)lve/main/config.json: 100%"
          }
        },
        "5eb2aef7031243538302daa58648bfe7": {
          "model_module": "@jupyter-widgets/controls",
          "model_name": "FloatProgressModel",
          "model_module_version": "1.5.0",
          "state": {
            "_dom_classes": [],
            "_model_module": "@jupyter-widgets/controls",
            "_model_module_version": "1.5.0",
            "_model_name": "FloatProgressModel",
            "_view_count": null,
            "_view_module": "@jupyter-widgets/controls",
            "_view_module_version": "1.5.0",
            "_view_name": "ProgressView",
            "bar_style": "success",
            "description": "",
            "description_tooltip": null,
            "layout": "IPY_MODEL_8322c739d17e4b6eb7b63d66e6da0e75",
            "max": 570,
            "min": 0,
            "orientation": "horizontal",
            "style": "IPY_MODEL_f7162ce229f8456faacfaa6774bd5367",
            "value": 570
          }
        },
        "862304f5b609497384b63d736fd34ca7": {
          "model_module": "@jupyter-widgets/controls",
          "model_name": "HTMLModel",
          "model_module_version": "1.5.0",
          "state": {
            "_dom_classes": [],
            "_model_module": "@jupyter-widgets/controls",
            "_model_module_version": "1.5.0",
            "_model_name": "HTMLModel",
            "_view_count": null,
            "_view_module": "@jupyter-widgets/controls",
            "_view_module_version": "1.5.0",
            "_view_name": "HTMLView",
            "description": "",
            "description_tooltip": null,
            "layout": "IPY_MODEL_fc6d631e59464a1590f7e1f8419f04d5",
            "placeholder": "​",
            "style": "IPY_MODEL_5b024ce449ca406b881e1d22f6e37d3d",
            "value": " 570/570 [00:00&lt;00:00, 39.1kB/s]"
          }
        },
        "4765b3d545ec409caf93c7daf49ed0e7": {
          "model_module": "@jupyter-widgets/base",
          "model_name": "LayoutModel",
          "model_module_version": "1.2.0",
          "state": {
            "_model_module": "@jupyter-widgets/base",
            "_model_module_version": "1.2.0",
            "_model_name": "LayoutModel",
            "_view_count": null,
            "_view_module": "@jupyter-widgets/base",
            "_view_module_version": "1.2.0",
            "_view_name": "LayoutView",
            "align_content": null,
            "align_items": null,
            "align_self": null,
            "border": null,
            "bottom": null,
            "display": null,
            "flex": null,
            "flex_flow": null,
            "grid_area": null,
            "grid_auto_columns": null,
            "grid_auto_flow": null,
            "grid_auto_rows": null,
            "grid_column": null,
            "grid_gap": null,
            "grid_row": null,
            "grid_template_areas": null,
            "grid_template_columns": null,
            "grid_template_rows": null,
            "height": null,
            "justify_content": null,
            "justify_items": null,
            "left": null,
            "margin": null,
            "max_height": null,
            "max_width": null,
            "min_height": null,
            "min_width": null,
            "object_fit": null,
            "object_position": null,
            "order": null,
            "overflow": null,
            "overflow_x": null,
            "overflow_y": null,
            "padding": null,
            "right": null,
            "top": null,
            "visibility": null,
            "width": null
          }
        },
        "332821dd8c2f416b91bf0fae94022cfb": {
          "model_module": "@jupyter-widgets/base",
          "model_name": "LayoutModel",
          "model_module_version": "1.2.0",
          "state": {
            "_model_module": "@jupyter-widgets/base",
            "_model_module_version": "1.2.0",
            "_model_name": "LayoutModel",
            "_view_count": null,
            "_view_module": "@jupyter-widgets/base",
            "_view_module_version": "1.2.0",
            "_view_name": "LayoutView",
            "align_content": null,
            "align_items": null,
            "align_self": null,
            "border": null,
            "bottom": null,
            "display": null,
            "flex": null,
            "flex_flow": null,
            "grid_area": null,
            "grid_auto_columns": null,
            "grid_auto_flow": null,
            "grid_auto_rows": null,
            "grid_column": null,
            "grid_gap": null,
            "grid_row": null,
            "grid_template_areas": null,
            "grid_template_columns": null,
            "grid_template_rows": null,
            "height": null,
            "justify_content": null,
            "justify_items": null,
            "left": null,
            "margin": null,
            "max_height": null,
            "max_width": null,
            "min_height": null,
            "min_width": null,
            "object_fit": null,
            "object_position": null,
            "order": null,
            "overflow": null,
            "overflow_x": null,
            "overflow_y": null,
            "padding": null,
            "right": null,
            "top": null,
            "visibility": null,
            "width": null
          }
        },
        "36dc62d92fa34d758aa1f732776c95e4": {
          "model_module": "@jupyter-widgets/controls",
          "model_name": "DescriptionStyleModel",
          "model_module_version": "1.5.0",
          "state": {
            "_model_module": "@jupyter-widgets/controls",
            "_model_module_version": "1.5.0",
            "_model_name": "DescriptionStyleModel",
            "_view_count": null,
            "_view_module": "@jupyter-widgets/base",
            "_view_module_version": "1.2.0",
            "_view_name": "StyleView",
            "description_width": ""
          }
        },
        "8322c739d17e4b6eb7b63d66e6da0e75": {
          "model_module": "@jupyter-widgets/base",
          "model_name": "LayoutModel",
          "model_module_version": "1.2.0",
          "state": {
            "_model_module": "@jupyter-widgets/base",
            "_model_module_version": "1.2.0",
            "_model_name": "LayoutModel",
            "_view_count": null,
            "_view_module": "@jupyter-widgets/base",
            "_view_module_version": "1.2.0",
            "_view_name": "LayoutView",
            "align_content": null,
            "align_items": null,
            "align_self": null,
            "border": null,
            "bottom": null,
            "display": null,
            "flex": null,
            "flex_flow": null,
            "grid_area": null,
            "grid_auto_columns": null,
            "grid_auto_flow": null,
            "grid_auto_rows": null,
            "grid_column": null,
            "grid_gap": null,
            "grid_row": null,
            "grid_template_areas": null,
            "grid_template_columns": null,
            "grid_template_rows": null,
            "height": null,
            "justify_content": null,
            "justify_items": null,
            "left": null,
            "margin": null,
            "max_height": null,
            "max_width": null,
            "min_height": null,
            "min_width": null,
            "object_fit": null,
            "object_position": null,
            "order": null,
            "overflow": null,
            "overflow_x": null,
            "overflow_y": null,
            "padding": null,
            "right": null,
            "top": null,
            "visibility": null,
            "width": null
          }
        },
        "f7162ce229f8456faacfaa6774bd5367": {
          "model_module": "@jupyter-widgets/controls",
          "model_name": "ProgressStyleModel",
          "model_module_version": "1.5.0",
          "state": {
            "_model_module": "@jupyter-widgets/controls",
            "_model_module_version": "1.5.0",
            "_model_name": "ProgressStyleModel",
            "_view_count": null,
            "_view_module": "@jupyter-widgets/base",
            "_view_module_version": "1.2.0",
            "_view_name": "StyleView",
            "bar_color": null,
            "description_width": ""
          }
        },
        "fc6d631e59464a1590f7e1f8419f04d5": {
          "model_module": "@jupyter-widgets/base",
          "model_name": "LayoutModel",
          "model_module_version": "1.2.0",
          "state": {
            "_model_module": "@jupyter-widgets/base",
            "_model_module_version": "1.2.0",
            "_model_name": "LayoutModel",
            "_view_count": null,
            "_view_module": "@jupyter-widgets/base",
            "_view_module_version": "1.2.0",
            "_view_name": "LayoutView",
            "align_content": null,
            "align_items": null,
            "align_self": null,
            "border": null,
            "bottom": null,
            "display": null,
            "flex": null,
            "flex_flow": null,
            "grid_area": null,
            "grid_auto_columns": null,
            "grid_auto_flow": null,
            "grid_auto_rows": null,
            "grid_column": null,
            "grid_gap": null,
            "grid_row": null,
            "grid_template_areas": null,
            "grid_template_columns": null,
            "grid_template_rows": null,
            "height": null,
            "justify_content": null,
            "justify_items": null,
            "left": null,
            "margin": null,
            "max_height": null,
            "max_width": null,
            "min_height": null,
            "min_width": null,
            "object_fit": null,
            "object_position": null,
            "order": null,
            "overflow": null,
            "overflow_x": null,
            "overflow_y": null,
            "padding": null,
            "right": null,
            "top": null,
            "visibility": null,
            "width": null
          }
        },
        "5b024ce449ca406b881e1d22f6e37d3d": {
          "model_module": "@jupyter-widgets/controls",
          "model_name": "DescriptionStyleModel",
          "model_module_version": "1.5.0",
          "state": {
            "_model_module": "@jupyter-widgets/controls",
            "_model_module_version": "1.5.0",
            "_model_name": "DescriptionStyleModel",
            "_view_count": null,
            "_view_module": "@jupyter-widgets/base",
            "_view_module_version": "1.2.0",
            "_view_name": "StyleView",
            "description_width": ""
          }
        },
        "655ba53f2ff44fbaa3e2c13baaddd6d5": {
          "model_module": "@jupyter-widgets/controls",
          "model_name": "HBoxModel",
          "model_module_version": "1.5.0",
          "state": {
            "_dom_classes": [],
            "_model_module": "@jupyter-widgets/controls",
            "_model_module_version": "1.5.0",
            "_model_name": "HBoxModel",
            "_view_count": null,
            "_view_module": "@jupyter-widgets/controls",
            "_view_module_version": "1.5.0",
            "_view_name": "HBoxView",
            "box_style": "",
            "children": [
              "IPY_MODEL_ea96c624d0c444399975039227bf74ea",
              "IPY_MODEL_2cfcc3785f4b4c6a9a3c7accf528b61b",
              "IPY_MODEL_25518aa668fd475caefc3028a43458f7"
            ],
            "layout": "IPY_MODEL_ab26d7b079af4178b0a409dbb49468c0"
          }
        },
        "ea96c624d0c444399975039227bf74ea": {
          "model_module": "@jupyter-widgets/controls",
          "model_name": "HTMLModel",
          "model_module_version": "1.5.0",
          "state": {
            "_dom_classes": [],
            "_model_module": "@jupyter-widgets/controls",
            "_model_module_version": "1.5.0",
            "_model_name": "HTMLModel",
            "_view_count": null,
            "_view_module": "@jupyter-widgets/controls",
            "_view_module_version": "1.5.0",
            "_view_name": "HTMLView",
            "description": "",
            "description_tooltip": null,
            "layout": "IPY_MODEL_8695c3509ce549d198d930ac3fe5cb53",
            "placeholder": "​",
            "style": "IPY_MODEL_d1f6ce0fedfd4075afe18a26251267c2",
            "value": "Downloading model.safetensors: 100%"
          }
        },
        "2cfcc3785f4b4c6a9a3c7accf528b61b": {
          "model_module": "@jupyter-widgets/controls",
          "model_name": "FloatProgressModel",
          "model_module_version": "1.5.0",
          "state": {
            "_dom_classes": [],
            "_model_module": "@jupyter-widgets/controls",
            "_model_module_version": "1.5.0",
            "_model_name": "FloatProgressModel",
            "_view_count": null,
            "_view_module": "@jupyter-widgets/controls",
            "_view_module_version": "1.5.0",
            "_view_name": "ProgressView",
            "bar_style": "success",
            "description": "",
            "description_tooltip": null,
            "layout": "IPY_MODEL_1dde3cb962fe46e5b4d78e68585e9bd9",
            "max": 440449768,
            "min": 0,
            "orientation": "horizontal",
            "style": "IPY_MODEL_184acbfaded54fd4a36986d664ab7b26",
            "value": 440449768
          }
        },
        "25518aa668fd475caefc3028a43458f7": {
          "model_module": "@jupyter-widgets/controls",
          "model_name": "HTMLModel",
          "model_module_version": "1.5.0",
          "state": {
            "_dom_classes": [],
            "_model_module": "@jupyter-widgets/controls",
            "_model_module_version": "1.5.0",
            "_model_name": "HTMLModel",
            "_view_count": null,
            "_view_module": "@jupyter-widgets/controls",
            "_view_module_version": "1.5.0",
            "_view_name": "HTMLView",
            "description": "",
            "description_tooltip": null,
            "layout": "IPY_MODEL_86e3e5bc9c74425f948761c69ee3c296",
            "placeholder": "​",
            "style": "IPY_MODEL_5e05efa141784b6eb5f295c5079ac5fe",
            "value": " 440M/440M [00:01&lt;00:00, 307MB/s]"
          }
        },
        "ab26d7b079af4178b0a409dbb49468c0": {
          "model_module": "@jupyter-widgets/base",
          "model_name": "LayoutModel",
          "model_module_version": "1.2.0",
          "state": {
            "_model_module": "@jupyter-widgets/base",
            "_model_module_version": "1.2.0",
            "_model_name": "LayoutModel",
            "_view_count": null,
            "_view_module": "@jupyter-widgets/base",
            "_view_module_version": "1.2.0",
            "_view_name": "LayoutView",
            "align_content": null,
            "align_items": null,
            "align_self": null,
            "border": null,
            "bottom": null,
            "display": null,
            "flex": null,
            "flex_flow": null,
            "grid_area": null,
            "grid_auto_columns": null,
            "grid_auto_flow": null,
            "grid_auto_rows": null,
            "grid_column": null,
            "grid_gap": null,
            "grid_row": null,
            "grid_template_areas": null,
            "grid_template_columns": null,
            "grid_template_rows": null,
            "height": null,
            "justify_content": null,
            "justify_items": null,
            "left": null,
            "margin": null,
            "max_height": null,
            "max_width": null,
            "min_height": null,
            "min_width": null,
            "object_fit": null,
            "object_position": null,
            "order": null,
            "overflow": null,
            "overflow_x": null,
            "overflow_y": null,
            "padding": null,
            "right": null,
            "top": null,
            "visibility": null,
            "width": null
          }
        },
        "8695c3509ce549d198d930ac3fe5cb53": {
          "model_module": "@jupyter-widgets/base",
          "model_name": "LayoutModel",
          "model_module_version": "1.2.0",
          "state": {
            "_model_module": "@jupyter-widgets/base",
            "_model_module_version": "1.2.0",
            "_model_name": "LayoutModel",
            "_view_count": null,
            "_view_module": "@jupyter-widgets/base",
            "_view_module_version": "1.2.0",
            "_view_name": "LayoutView",
            "align_content": null,
            "align_items": null,
            "align_self": null,
            "border": null,
            "bottom": null,
            "display": null,
            "flex": null,
            "flex_flow": null,
            "grid_area": null,
            "grid_auto_columns": null,
            "grid_auto_flow": null,
            "grid_auto_rows": null,
            "grid_column": null,
            "grid_gap": null,
            "grid_row": null,
            "grid_template_areas": null,
            "grid_template_columns": null,
            "grid_template_rows": null,
            "height": null,
            "justify_content": null,
            "justify_items": null,
            "left": null,
            "margin": null,
            "max_height": null,
            "max_width": null,
            "min_height": null,
            "min_width": null,
            "object_fit": null,
            "object_position": null,
            "order": null,
            "overflow": null,
            "overflow_x": null,
            "overflow_y": null,
            "padding": null,
            "right": null,
            "top": null,
            "visibility": null,
            "width": null
          }
        },
        "d1f6ce0fedfd4075afe18a26251267c2": {
          "model_module": "@jupyter-widgets/controls",
          "model_name": "DescriptionStyleModel",
          "model_module_version": "1.5.0",
          "state": {
            "_model_module": "@jupyter-widgets/controls",
            "_model_module_version": "1.5.0",
            "_model_name": "DescriptionStyleModel",
            "_view_count": null,
            "_view_module": "@jupyter-widgets/base",
            "_view_module_version": "1.2.0",
            "_view_name": "StyleView",
            "description_width": ""
          }
        },
        "1dde3cb962fe46e5b4d78e68585e9bd9": {
          "model_module": "@jupyter-widgets/base",
          "model_name": "LayoutModel",
          "model_module_version": "1.2.0",
          "state": {
            "_model_module": "@jupyter-widgets/base",
            "_model_module_version": "1.2.0",
            "_model_name": "LayoutModel",
            "_view_count": null,
            "_view_module": "@jupyter-widgets/base",
            "_view_module_version": "1.2.0",
            "_view_name": "LayoutView",
            "align_content": null,
            "align_items": null,
            "align_self": null,
            "border": null,
            "bottom": null,
            "display": null,
            "flex": null,
            "flex_flow": null,
            "grid_area": null,
            "grid_auto_columns": null,
            "grid_auto_flow": null,
            "grid_auto_rows": null,
            "grid_column": null,
            "grid_gap": null,
            "grid_row": null,
            "grid_template_areas": null,
            "grid_template_columns": null,
            "grid_template_rows": null,
            "height": null,
            "justify_content": null,
            "justify_items": null,
            "left": null,
            "margin": null,
            "max_height": null,
            "max_width": null,
            "min_height": null,
            "min_width": null,
            "object_fit": null,
            "object_position": null,
            "order": null,
            "overflow": null,
            "overflow_x": null,
            "overflow_y": null,
            "padding": null,
            "right": null,
            "top": null,
            "visibility": null,
            "width": null
          }
        },
        "184acbfaded54fd4a36986d664ab7b26": {
          "model_module": "@jupyter-widgets/controls",
          "model_name": "ProgressStyleModel",
          "model_module_version": "1.5.0",
          "state": {
            "_model_module": "@jupyter-widgets/controls",
            "_model_module_version": "1.5.0",
            "_model_name": "ProgressStyleModel",
            "_view_count": null,
            "_view_module": "@jupyter-widgets/base",
            "_view_module_version": "1.2.0",
            "_view_name": "StyleView",
            "bar_color": null,
            "description_width": ""
          }
        },
        "86e3e5bc9c74425f948761c69ee3c296": {
          "model_module": "@jupyter-widgets/base",
          "model_name": "LayoutModel",
          "model_module_version": "1.2.0",
          "state": {
            "_model_module": "@jupyter-widgets/base",
            "_model_module_version": "1.2.0",
            "_model_name": "LayoutModel",
            "_view_count": null,
            "_view_module": "@jupyter-widgets/base",
            "_view_module_version": "1.2.0",
            "_view_name": "LayoutView",
            "align_content": null,
            "align_items": null,
            "align_self": null,
            "border": null,
            "bottom": null,
            "display": null,
            "flex": null,
            "flex_flow": null,
            "grid_area": null,
            "grid_auto_columns": null,
            "grid_auto_flow": null,
            "grid_auto_rows": null,
            "grid_column": null,
            "grid_gap": null,
            "grid_row": null,
            "grid_template_areas": null,
            "grid_template_columns": null,
            "grid_template_rows": null,
            "height": null,
            "justify_content": null,
            "justify_items": null,
            "left": null,
            "margin": null,
            "max_height": null,
            "max_width": null,
            "min_height": null,
            "min_width": null,
            "object_fit": null,
            "object_position": null,
            "order": null,
            "overflow": null,
            "overflow_x": null,
            "overflow_y": null,
            "padding": null,
            "right": null,
            "top": null,
            "visibility": null,
            "width": null
          }
        },
        "5e05efa141784b6eb5f295c5079ac5fe": {
          "model_module": "@jupyter-widgets/controls",
          "model_name": "DescriptionStyleModel",
          "model_module_version": "1.5.0",
          "state": {
            "_model_module": "@jupyter-widgets/controls",
            "_model_module_version": "1.5.0",
            "_model_name": "DescriptionStyleModel",
            "_view_count": null,
            "_view_module": "@jupyter-widgets/base",
            "_view_module_version": "1.2.0",
            "_view_name": "StyleView",
            "description_width": ""
          }
        }
      }
    }
  },
  "cells": [
    {
      "cell_type": "markdown",
      "metadata": {
        "id": "view-in-github",
        "colab_type": "text"
      },
      "source": [
        "<a href=\"https://colab.research.google.com/github/nicoeiris11/NLP-semantic-search/blob/main/SemanticSearch_Movies_NicolasEiris.ipynb\" target=\"_parent\"><img src=\"https://colab.research.google.com/assets/colab-badge.svg\" alt=\"Open In Colab\"/></a>"
      ]
    },
    {
      "cell_type": "markdown",
      "source": [
        "### Check if can access data from the notebook\n",
        "\n"
      ],
      "metadata": {
        "id": "8D3wDeCqdkv2"
      }
    },
    {
      "cell_type": "code",
      "execution_count": 1,
      "metadata": {
        "colab": {
          "base_uri": "https://localhost:8080/",
          "height": 0
        },
        "id": "ME2l5pg5q5eV",
        "outputId": "d385856c-c0f6-45f7-ee5a-70119027eac4"
      },
      "outputs": [
        {
          "output_type": "stream",
          "name": "stdout",
          "text": [
            "Mounted at /content/drive\n"
          ]
        }
      ],
      "source": [
        "from google.colab import drive\n",
        "drive.mount('/content/drive')"
      ]
    },
    {
      "cell_type": "code",
      "source": [
        "%ls /content/drive/'My Drive'/'wiki_movie_plots_deduped_with_summaries.csv'\n",
        "dataset_path = \"/content/drive/My Drive/wiki_movie_plots_deduped_with_summaries.csv\""
      ],
      "metadata": {
        "colab": {
          "base_uri": "https://localhost:8080/",
          "height": 0
        },
        "id": "miyQ616RcNTZ",
        "outputId": "5cb33f1c-f5f5-4fc5-f4f9-bf2901b0d83a"
      },
      "execution_count": 2,
      "outputs": [
        {
          "output_type": "stream",
          "name": "stdout",
          "text": [
            "'/content/drive/My Drive/wiki_movie_plots_deduped_with_summaries.csv'\n"
          ]
        }
      ]
    },
    {
      "cell_type": "markdown",
      "source": [
        "# Imports"
      ],
      "metadata": {
        "id": "Hp9x4bxjdp0t"
      }
    },
    {
      "cell_type": "code",
      "source": [
        "!pip install transformers\n",
        "!pip install faiss-gpu\n",
        "\n",
        "import pandas as pd\n",
        "import torch\n",
        "from transformers import BertTokenizer, BertModel\n",
        "import faiss\n",
        "import time\n",
        "from tqdm import tqdm\n",
        "import numpy as np\n",
        "import re\n",
        "import nltk\n",
        "from nltk.corpus import stopwords\n",
        "from nltk.stem import WordNetLemmatizer\n",
        "from nltk.tokenize import sent_tokenize\n",
        "\n",
        "nltk.download('stopwords')\n",
        "nltk.download('wordnet')\n",
        "nltk.download('punkt')"
      ],
      "metadata": {
        "colab": {
          "base_uri": "https://localhost:8080/",
          "height": 0
        },
        "id": "rFBedR5xdr_l",
        "outputId": "bf1ac72a-2ba6-4919-e8e1-164146d27876"
      },
      "execution_count": 141,
      "outputs": [
        {
          "output_type": "stream",
          "name": "stdout",
          "text": [
            "Requirement already satisfied: transformers in /usr/local/lib/python3.10/dist-packages (4.32.1)\n",
            "Requirement already satisfied: filelock in /usr/local/lib/python3.10/dist-packages (from transformers) (3.12.2)\n",
            "Requirement already satisfied: huggingface-hub<1.0,>=0.15.1 in /usr/local/lib/python3.10/dist-packages (from transformers) (0.16.4)\n",
            "Requirement already satisfied: numpy>=1.17 in /usr/local/lib/python3.10/dist-packages (from transformers) (1.23.5)\n",
            "Requirement already satisfied: packaging>=20.0 in /usr/local/lib/python3.10/dist-packages (from transformers) (23.1)\n",
            "Requirement already satisfied: pyyaml>=5.1 in /usr/local/lib/python3.10/dist-packages (from transformers) (6.0.1)\n",
            "Requirement already satisfied: regex!=2019.12.17 in /usr/local/lib/python3.10/dist-packages (from transformers) (2023.6.3)\n",
            "Requirement already satisfied: requests in /usr/local/lib/python3.10/dist-packages (from transformers) (2.31.0)\n",
            "Requirement already satisfied: tokenizers!=0.11.3,<0.14,>=0.11.1 in /usr/local/lib/python3.10/dist-packages (from transformers) (0.13.3)\n",
            "Requirement already satisfied: safetensors>=0.3.1 in /usr/local/lib/python3.10/dist-packages (from transformers) (0.3.3)\n",
            "Requirement already satisfied: tqdm>=4.27 in /usr/local/lib/python3.10/dist-packages (from transformers) (4.66.1)\n",
            "Requirement already satisfied: fsspec in /usr/local/lib/python3.10/dist-packages (from huggingface-hub<1.0,>=0.15.1->transformers) (2023.6.0)\n",
            "Requirement already satisfied: typing-extensions>=3.7.4.3 in /usr/local/lib/python3.10/dist-packages (from huggingface-hub<1.0,>=0.15.1->transformers) (4.7.1)\n",
            "Requirement already satisfied: charset-normalizer<4,>=2 in /usr/local/lib/python3.10/dist-packages (from requests->transformers) (3.2.0)\n",
            "Requirement already satisfied: idna<4,>=2.5 in /usr/local/lib/python3.10/dist-packages (from requests->transformers) (3.4)\n",
            "Requirement already satisfied: urllib3<3,>=1.21.1 in /usr/local/lib/python3.10/dist-packages (from requests->transformers) (2.0.4)\n",
            "Requirement already satisfied: certifi>=2017.4.17 in /usr/local/lib/python3.10/dist-packages (from requests->transformers) (2023.7.22)\n",
            "Requirement already satisfied: faiss-gpu in /usr/local/lib/python3.10/dist-packages (1.7.2)\n"
          ]
        },
        {
          "output_type": "stream",
          "name": "stderr",
          "text": [
            "[nltk_data] Downloading package stopwords to /root/nltk_data...\n",
            "[nltk_data]   Package stopwords is already up-to-date!\n",
            "[nltk_data] Downloading package wordnet to /root/nltk_data...\n",
            "[nltk_data]   Package wordnet is already up-to-date!\n",
            "[nltk_data] Downloading package punkt to /root/nltk_data...\n",
            "[nltk_data]   Unzipping tokenizers/punkt.zip.\n"
          ]
        },
        {
          "output_type": "execute_result",
          "data": {
            "text/plain": [
              "True"
            ]
          },
          "metadata": {},
          "execution_count": 141
        }
      ]
    },
    {
      "cell_type": "markdown",
      "source": [
        "# Data loading & analysis\n",
        "\n",
        "This first part of the notebook have the following purposes:\n",
        "- Load data\n",
        "- Analyze\n",
        "  - Size of dataset\n",
        "  - Explore the data to gain insights and understanding of the movie plots and plot\n",
        "  - Perform any necessary data cleaning and preprocessing you find necessary.\n",
        "\n",
        "Before working on the indexing and NLP model, it is very important to really understand the data we are working with. If we do not analyze data and pre-process it correctly, final accuracy will likely be lower than it could be."
      ],
      "metadata": {
        "id": "-Gx0k4V6fJ72"
      }
    },
    {
      "cell_type": "code",
      "source": [
        "df = pd.read_csv(dataset_path)\n",
        "\n",
        "pd.set_option('display.width', 200)\n",
        "# Display the first few rows of the DataFrame\n",
        "print(df.head(3))"
      ],
      "metadata": {
        "colab": {
          "base_uri": "https://localhost:8080/",
          "height": 0
        },
        "id": "CozjlN0sbUJd",
        "outputId": "b8eac312-afe2-4430-b8be-0620742acf4a"
      },
      "execution_count": 150,
      "outputs": [
        {
          "output_type": "stream",
          "name": "stdout",
          "text": [
            "   Release Year                          Title Origin/Ethnicity Director Cast    Genre                                          Wiki Page                                               Plot  \\\n",
            "0          1901         Kansas Saloon Smashers         American  Unknown  NaN  unknown  https://en.wikipedia.org/wiki/Kansas_Saloon_Sm...  A bartender is working at a saloon, serving dr...   \n",
            "1          1901  Love by the Light of the Moon         American  Unknown  NaN  unknown  https://en.wikipedia.org/wiki/Love_by_the_Ligh...  The moon, painted with a smiling face hangs ov...   \n",
            "2          1901        The Martyred Presidents         American  Unknown  NaN  unknown  https://en.wikipedia.org/wiki/The_Martyred_Pre...  The film, just over a minute long, is composed...   \n",
            "\n",
            "                                         PlotSummary  \n",
            "0  Carrie Nation and her followers burst into a s...  \n",
            "1  The moon, painted with a smiling face hangs ov...  \n",
            "2  The film, just over a minute long, is composed...  \n"
          ]
        }
      ]
    },
    {
      "cell_type": "code",
      "source": [
        "# Columns types\n",
        "print(\"Data types:\")\n",
        "print(df.dtypes)"
      ],
      "metadata": {
        "colab": {
          "base_uri": "https://localhost:8080/",
          "height": 0
        },
        "id": "uDQNiELMbl6A",
        "outputId": "db2d6f96-fe69-4e93-bb79-106493d8163c"
      },
      "execution_count": 151,
      "outputs": [
        {
          "output_type": "stream",
          "name": "stdout",
          "text": [
            "Data types:\n",
            "Release Year         int64\n",
            "Title               object\n",
            "Origin/Ethnicity    object\n",
            "Director            object\n",
            "Cast                object\n",
            "Genre               object\n",
            "Wiki Page           object\n",
            "Plot                object\n",
            "PlotSummary         object\n",
            "dtype: object\n"
          ]
        }
      ]
    },
    {
      "cell_type": "code",
      "source": [
        "# DF info\n",
        "print(df.info())"
      ],
      "metadata": {
        "colab": {
          "base_uri": "https://localhost:8080/",
          "height": 0
        },
        "id": "3swzc6jqd7e8",
        "outputId": "45685767-c240-47b0-88cb-3f274d963453"
      },
      "execution_count": 152,
      "outputs": [
        {
          "output_type": "stream",
          "name": "stdout",
          "text": [
            "<class 'pandas.core.frame.DataFrame'>\n",
            "RangeIndex: 34886 entries, 0 to 34885\n",
            "Data columns (total 9 columns):\n",
            " #   Column            Non-Null Count  Dtype \n",
            "---  ------            --------------  ----- \n",
            " 0   Release Year      34886 non-null  int64 \n",
            " 1   Title             34886 non-null  object\n",
            " 2   Origin/Ethnicity  34886 non-null  object\n",
            " 3   Director          34886 non-null  object\n",
            " 4   Cast              33464 non-null  object\n",
            " 5   Genre             34886 non-null  object\n",
            " 6   Wiki Page         34886 non-null  object\n",
            " 7   Plot              34886 non-null  object\n",
            " 8   PlotSummary       34886 non-null  object\n",
            "dtypes: int64(1), object(8)\n",
            "memory usage: 2.4+ MB\n",
            "None\n"
          ]
        }
      ]
    },
    {
      "cell_type": "code",
      "source": [
        "# Missing values\n",
        "print(df.isna().sum())"
      ],
      "metadata": {
        "colab": {
          "base_uri": "https://localhost:8080/",
          "height": 0
        },
        "id": "k3aLC8MOji6W",
        "outputId": "bc2f50b0-7ce2-4394-8e32-cc4eb33ec7a9"
      },
      "execution_count": 153,
      "outputs": [
        {
          "output_type": "stream",
          "name": "stdout",
          "text": [
            "Release Year           0\n",
            "Title                  0\n",
            "Origin/Ethnicity       0\n",
            "Director               0\n",
            "Cast                1422\n",
            "Genre                  0\n",
            "Wiki Page              0\n",
            "Plot                   0\n",
            "PlotSummary            0\n",
            "dtype: int64\n"
          ]
        }
      ]
    },
    {
      "cell_type": "markdown",
      "source": [
        "There are no missing values for \"Plot\" and \"PlotSummary\" columns.\n",
        "\n",
        "### Let's analyze duplicates and both columns length distribution. Before that, let's just sample some data points and see the nature of the data to possibly detect data cleaning steps..."
      ],
      "metadata": {
        "id": "_ODNRI79kxFt"
      }
    },
    {
      "cell_type": "code",
      "source": [
        "df[['Plot', 'PlotSummary']].sample(4)"
      ],
      "metadata": {
        "colab": {
          "base_uri": "https://localhost:8080/",
          "height": 1101
        },
        "id": "wUpjPMXHkoPa",
        "outputId": "2b9ef0c4-abd7-4189-c6cd-cf3918d46c6c"
      },
      "execution_count": 154,
      "outputs": [
        {
          "output_type": "execute_result",
          "data": {
            "text/plain": [
              "                                                    Plot                                        PlotSummary\n",
              "20370  Mr. Neville (Anthony Higgins), a young and arr...  Mr. Neville (Anthony Higgins) is contracted to...\n",
              "24368  The story revolves around a farmer, Shambu Mah...  The story revolves around a farmer, Shambu Mah...\n",
              "21671  Billy Moore (Joe Cole) is sent to prison in Th...  Billy Moore (Joe Cole) is sent to prison in Th...\n",
              "33929  The story revolves around Kako Motoya, a first...  The story revolves around Kako Motoya, a first..."
            ],
            "text/html": [
              "\n",
              "  <div id=\"df-5570e2bf-ca28-434d-a3cf-358c041592c1\" class=\"colab-df-container\">\n",
              "    <div>\n",
              "<style scoped>\n",
              "    .dataframe tbody tr th:only-of-type {\n",
              "        vertical-align: middle;\n",
              "    }\n",
              "\n",
              "    .dataframe tbody tr th {\n",
              "        vertical-align: top;\n",
              "    }\n",
              "\n",
              "    .dataframe thead th {\n",
              "        text-align: right;\n",
              "    }\n",
              "</style>\n",
              "<table border=\"1\" class=\"dataframe\">\n",
              "  <thead>\n",
              "    <tr style=\"text-align: right;\">\n",
              "      <th></th>\n",
              "      <th>Plot</th>\n",
              "      <th>PlotSummary</th>\n",
              "    </tr>\n",
              "  </thead>\n",
              "  <tbody>\n",
              "    <tr>\n",
              "      <th>20370</th>\n",
              "      <td>Mr. Neville (Anthony Higgins), a young and arr...</td>\n",
              "      <td>Mr. Neville (Anthony Higgins) is contracted to...</td>\n",
              "    </tr>\n",
              "    <tr>\n",
              "      <th>24368</th>\n",
              "      <td>The story revolves around a farmer, Shambu Mah...</td>\n",
              "      <td>The story revolves around a farmer, Shambu Mah...</td>\n",
              "    </tr>\n",
              "    <tr>\n",
              "      <th>21671</th>\n",
              "      <td>Billy Moore (Joe Cole) is sent to prison in Th...</td>\n",
              "      <td>Billy Moore (Joe Cole) is sent to prison in Th...</td>\n",
              "    </tr>\n",
              "    <tr>\n",
              "      <th>33929</th>\n",
              "      <td>The story revolves around Kako Motoya, a first...</td>\n",
              "      <td>The story revolves around Kako Motoya, a first...</td>\n",
              "    </tr>\n",
              "  </tbody>\n",
              "</table>\n",
              "</div>\n",
              "    <div class=\"colab-df-buttons\">\n",
              "\n",
              "  <div class=\"colab-df-container\">\n",
              "    <button class=\"colab-df-convert\" onclick=\"convertToInteractive('df-5570e2bf-ca28-434d-a3cf-358c041592c1')\"\n",
              "            title=\"Convert this dataframe to an interactive table.\"\n",
              "            style=\"display:none;\">\n",
              "\n",
              "  <svg xmlns=\"http://www.w3.org/2000/svg\" height=\"24px\" viewBox=\"0 -960 960 960\">\n",
              "    <path d=\"M120-120v-720h720v720H120Zm60-500h600v-160H180v160Zm220 220h160v-160H400v160Zm0 220h160v-160H400v160ZM180-400h160v-160H180v160Zm440 0h160v-160H620v160ZM180-180h160v-160H180v160Zm440 0h160v-160H620v160Z\"/>\n",
              "  </svg>\n",
              "    </button>\n",
              "\n",
              "  <style>\n",
              "    .colab-df-container {\n",
              "      display:flex;\n",
              "      gap: 12px;\n",
              "    }\n",
              "\n",
              "    .colab-df-convert {\n",
              "      background-color: #E8F0FE;\n",
              "      border: none;\n",
              "      border-radius: 50%;\n",
              "      cursor: pointer;\n",
              "      display: none;\n",
              "      fill: #1967D2;\n",
              "      height: 32px;\n",
              "      padding: 0 0 0 0;\n",
              "      width: 32px;\n",
              "    }\n",
              "\n",
              "    .colab-df-convert:hover {\n",
              "      background-color: #E2EBFA;\n",
              "      box-shadow: 0px 1px 2px rgba(60, 64, 67, 0.3), 0px 1px 3px 1px rgba(60, 64, 67, 0.15);\n",
              "      fill: #174EA6;\n",
              "    }\n",
              "\n",
              "    .colab-df-buttons div {\n",
              "      margin-bottom: 4px;\n",
              "    }\n",
              "\n",
              "    [theme=dark] .colab-df-convert {\n",
              "      background-color: #3B4455;\n",
              "      fill: #D2E3FC;\n",
              "    }\n",
              "\n",
              "    [theme=dark] .colab-df-convert:hover {\n",
              "      background-color: #434B5C;\n",
              "      box-shadow: 0px 1px 3px 1px rgba(0, 0, 0, 0.15);\n",
              "      filter: drop-shadow(0px 1px 2px rgba(0, 0, 0, 0.3));\n",
              "      fill: #FFFFFF;\n",
              "    }\n",
              "  </style>\n",
              "\n",
              "    <script>\n",
              "      const buttonEl =\n",
              "        document.querySelector('#df-5570e2bf-ca28-434d-a3cf-358c041592c1 button.colab-df-convert');\n",
              "      buttonEl.style.display =\n",
              "        google.colab.kernel.accessAllowed ? 'block' : 'none';\n",
              "\n",
              "      async function convertToInteractive(key) {\n",
              "        const element = document.querySelector('#df-5570e2bf-ca28-434d-a3cf-358c041592c1');\n",
              "        const dataTable =\n",
              "          await google.colab.kernel.invokeFunction('convertToInteractive',\n",
              "                                                    [key], {});\n",
              "        if (!dataTable) return;\n",
              "\n",
              "        const docLinkHtml = 'Like what you see? Visit the ' +\n",
              "          '<a target=\"_blank\" href=https://colab.research.google.com/notebooks/data_table.ipynb>data table notebook</a>'\n",
              "          + ' to learn more about interactive tables.';\n",
              "        element.innerHTML = '';\n",
              "        dataTable['output_type'] = 'display_data';\n",
              "        await google.colab.output.renderOutput(dataTable, element);\n",
              "        const docLink = document.createElement('div');\n",
              "        docLink.innerHTML = docLinkHtml;\n",
              "        element.appendChild(docLink);\n",
              "      }\n",
              "    </script>\n",
              "  </div>\n",
              "\n",
              "    </div>\n",
              "  </div>\n"
            ]
          },
          "metadata": {},
          "execution_count": 154
        }
      ]
    },
    {
      "cell_type": "markdown",
      "source": [
        "### Check duplicated rows"
      ],
      "metadata": {
        "id": "7M9l9FGOqnfe"
      }
    },
    {
      "cell_type": "code",
      "source": [
        "df[df.duplicated(subset=['Plot', 'PlotSummary'])].head(3)"
      ],
      "metadata": {
        "colab": {
          "base_uri": "https://localhost:8080/",
          "height": 213
        },
        "id": "kQi7RwcD5Zp_",
        "outputId": "e44d1576-fa9d-40eb-b421-64c0af950936"
      },
      "execution_count": 155,
      "outputs": [
        {
          "output_type": "execute_result",
          "data": {
            "text/plain": [
              "     Release Year                   Title Origin/Ethnicity                     Director                         Cast   Genre                                          Wiki Page  \\\n",
              "286          1919  Nine-Tenths of the Law         American              B. Reeves Eason   Mitchell Lewis, Jimsy Maye   drama  https://en.wikipedia.org/wiki/Nine-Tenths_of_t...   \n",
              "370          1921     Among Those Present         American             Fred C. Newmeyer                 Harold Lloyd  comedy  https://en.wikipedia.org/wiki/Among_Those_Present   \n",
              "400          1921            Now or Never         American  Fred C. Newmeyer, Hal Roach  Harold Lloyd, Mildred Davis  comedy  https://en.wikipedia.org/wiki/Now_or_Never_(19...   \n",
              "\n",
              "                                                  Plot                                        PlotSummary  \n",
              "286  As described in a film magazine,[1] Jules Lene...  Jules Leneau (Lewis) and his wife Jane (Maye),...  \n",
              "370  Mrs. O'Brien (Herring) is eager to be accepted...  Mrs. O'Brien (Herring) hosts a fox hunt as par...  \n",
              "400  A young woman, who is employed as a nanny to a...  A young woman takes a young nanny to a lonesom...  "
            ],
            "text/html": [
              "\n",
              "  <div id=\"df-6e802466-1438-4de1-aec0-488842caac65\" class=\"colab-df-container\">\n",
              "    <div>\n",
              "<style scoped>\n",
              "    .dataframe tbody tr th:only-of-type {\n",
              "        vertical-align: middle;\n",
              "    }\n",
              "\n",
              "    .dataframe tbody tr th {\n",
              "        vertical-align: top;\n",
              "    }\n",
              "\n",
              "    .dataframe thead th {\n",
              "        text-align: right;\n",
              "    }\n",
              "</style>\n",
              "<table border=\"1\" class=\"dataframe\">\n",
              "  <thead>\n",
              "    <tr style=\"text-align: right;\">\n",
              "      <th></th>\n",
              "      <th>Release Year</th>\n",
              "      <th>Title</th>\n",
              "      <th>Origin/Ethnicity</th>\n",
              "      <th>Director</th>\n",
              "      <th>Cast</th>\n",
              "      <th>Genre</th>\n",
              "      <th>Wiki Page</th>\n",
              "      <th>Plot</th>\n",
              "      <th>PlotSummary</th>\n",
              "    </tr>\n",
              "  </thead>\n",
              "  <tbody>\n",
              "    <tr>\n",
              "      <th>286</th>\n",
              "      <td>1919</td>\n",
              "      <td>Nine-Tenths of the Law</td>\n",
              "      <td>American</td>\n",
              "      <td>B. Reeves Eason</td>\n",
              "      <td>Mitchell Lewis, Jimsy Maye</td>\n",
              "      <td>drama</td>\n",
              "      <td>https://en.wikipedia.org/wiki/Nine-Tenths_of_t...</td>\n",
              "      <td>As described in a film magazine,[1] Jules Lene...</td>\n",
              "      <td>Jules Leneau (Lewis) and his wife Jane (Maye),...</td>\n",
              "    </tr>\n",
              "    <tr>\n",
              "      <th>370</th>\n",
              "      <td>1921</td>\n",
              "      <td>Among Those Present</td>\n",
              "      <td>American</td>\n",
              "      <td>Fred C. Newmeyer</td>\n",
              "      <td>Harold Lloyd</td>\n",
              "      <td>comedy</td>\n",
              "      <td>https://en.wikipedia.org/wiki/Among_Those_Present</td>\n",
              "      <td>Mrs. O'Brien (Herring) is eager to be accepted...</td>\n",
              "      <td>Mrs. O'Brien (Herring) hosts a fox hunt as par...</td>\n",
              "    </tr>\n",
              "    <tr>\n",
              "      <th>400</th>\n",
              "      <td>1921</td>\n",
              "      <td>Now or Never</td>\n",
              "      <td>American</td>\n",
              "      <td>Fred C. Newmeyer, Hal Roach</td>\n",
              "      <td>Harold Lloyd, Mildred Davis</td>\n",
              "      <td>comedy</td>\n",
              "      <td>https://en.wikipedia.org/wiki/Now_or_Never_(19...</td>\n",
              "      <td>A young woman, who is employed as a nanny to a...</td>\n",
              "      <td>A young woman takes a young nanny to a lonesom...</td>\n",
              "    </tr>\n",
              "  </tbody>\n",
              "</table>\n",
              "</div>\n",
              "    <div class=\"colab-df-buttons\">\n",
              "\n",
              "  <div class=\"colab-df-container\">\n",
              "    <button class=\"colab-df-convert\" onclick=\"convertToInteractive('df-6e802466-1438-4de1-aec0-488842caac65')\"\n",
              "            title=\"Convert this dataframe to an interactive table.\"\n",
              "            style=\"display:none;\">\n",
              "\n",
              "  <svg xmlns=\"http://www.w3.org/2000/svg\" height=\"24px\" viewBox=\"0 -960 960 960\">\n",
              "    <path d=\"M120-120v-720h720v720H120Zm60-500h600v-160H180v160Zm220 220h160v-160H400v160Zm0 220h160v-160H400v160ZM180-400h160v-160H180v160Zm440 0h160v-160H620v160ZM180-180h160v-160H180v160Zm440 0h160v-160H620v160Z\"/>\n",
              "  </svg>\n",
              "    </button>\n",
              "\n",
              "  <style>\n",
              "    .colab-df-container {\n",
              "      display:flex;\n",
              "      gap: 12px;\n",
              "    }\n",
              "\n",
              "    .colab-df-convert {\n",
              "      background-color: #E8F0FE;\n",
              "      border: none;\n",
              "      border-radius: 50%;\n",
              "      cursor: pointer;\n",
              "      display: none;\n",
              "      fill: #1967D2;\n",
              "      height: 32px;\n",
              "      padding: 0 0 0 0;\n",
              "      width: 32px;\n",
              "    }\n",
              "\n",
              "    .colab-df-convert:hover {\n",
              "      background-color: #E2EBFA;\n",
              "      box-shadow: 0px 1px 2px rgba(60, 64, 67, 0.3), 0px 1px 3px 1px rgba(60, 64, 67, 0.15);\n",
              "      fill: #174EA6;\n",
              "    }\n",
              "\n",
              "    .colab-df-buttons div {\n",
              "      margin-bottom: 4px;\n",
              "    }\n",
              "\n",
              "    [theme=dark] .colab-df-convert {\n",
              "      background-color: #3B4455;\n",
              "      fill: #D2E3FC;\n",
              "    }\n",
              "\n",
              "    [theme=dark] .colab-df-convert:hover {\n",
              "      background-color: #434B5C;\n",
              "      box-shadow: 0px 1px 3px 1px rgba(0, 0, 0, 0.15);\n",
              "      filter: drop-shadow(0px 1px 2px rgba(0, 0, 0, 0.3));\n",
              "      fill: #FFFFFF;\n",
              "    }\n",
              "  </style>\n",
              "\n",
              "    <script>\n",
              "      const buttonEl =\n",
              "        document.querySelector('#df-6e802466-1438-4de1-aec0-488842caac65 button.colab-df-convert');\n",
              "      buttonEl.style.display =\n",
              "        google.colab.kernel.accessAllowed ? 'block' : 'none';\n",
              "\n",
              "      async function convertToInteractive(key) {\n",
              "        const element = document.querySelector('#df-6e802466-1438-4de1-aec0-488842caac65');\n",
              "        const dataTable =\n",
              "          await google.colab.kernel.invokeFunction('convertToInteractive',\n",
              "                                                    [key], {});\n",
              "        if (!dataTable) return;\n",
              "\n",
              "        const docLinkHtml = 'Like what you see? Visit the ' +\n",
              "          '<a target=\"_blank\" href=https://colab.research.google.com/notebooks/data_table.ipynb>data table notebook</a>'\n",
              "          + ' to learn more about interactive tables.';\n",
              "        element.innerHTML = '';\n",
              "        dataTable['output_type'] = 'display_data';\n",
              "        await google.colab.output.renderOutput(dataTable, element);\n",
              "        const docLink = document.createElement('div');\n",
              "        docLink.innerHTML = docLinkHtml;\n",
              "        element.appendChild(docLink);\n",
              "      }\n",
              "    </script>\n",
              "  </div>\n",
              "\n",
              "    </div>\n",
              "  </div>\n"
            ]
          },
          "metadata": {},
          "execution_count": 155
        }
      ]
    },
    {
      "cell_type": "code",
      "source": [
        "df[df[\"Plot\"] == df.iloc[286][\"Plot\"]]"
      ],
      "metadata": {
        "colab": {
          "base_uri": "https://localhost:8080/",
          "height": 164
        },
        "id": "SysL_AY45gB4",
        "outputId": "ae4025d9-bb80-470b-c71b-ab9629a10878"
      },
      "execution_count": 156,
      "outputs": [
        {
          "output_type": "execute_result",
          "data": {
            "text/plain": [
              "     Release Year                   Title Origin/Ethnicity         Director                        Cast  Genre                                          Wiki Page  \\\n",
              "227          1918  Nine-Tenths of the Law         American  B. Reeves Eason              Mitchell Lewis  drama  https://en.wikipedia.org/wiki/Nine-Tenths_of_t...   \n",
              "286          1919  Nine-Tenths of the Law         American  B. Reeves Eason  Mitchell Lewis, Jimsy Maye  drama  https://en.wikipedia.org/wiki/Nine-Tenths_of_t...   \n",
              "\n",
              "                                                  Plot                                        PlotSummary  \n",
              "227  As described in a film magazine,[1] Jules Lene...  Jules Leneau (Lewis) and his wife Jane (Maye),...  \n",
              "286  As described in a film magazine,[1] Jules Lene...  Jules Leneau (Lewis) and his wife Jane (Maye),...  "
            ],
            "text/html": [
              "\n",
              "  <div id=\"df-c07a7e6f-43f5-4b22-8d2a-71c64b173f1d\" class=\"colab-df-container\">\n",
              "    <div>\n",
              "<style scoped>\n",
              "    .dataframe tbody tr th:only-of-type {\n",
              "        vertical-align: middle;\n",
              "    }\n",
              "\n",
              "    .dataframe tbody tr th {\n",
              "        vertical-align: top;\n",
              "    }\n",
              "\n",
              "    .dataframe thead th {\n",
              "        text-align: right;\n",
              "    }\n",
              "</style>\n",
              "<table border=\"1\" class=\"dataframe\">\n",
              "  <thead>\n",
              "    <tr style=\"text-align: right;\">\n",
              "      <th></th>\n",
              "      <th>Release Year</th>\n",
              "      <th>Title</th>\n",
              "      <th>Origin/Ethnicity</th>\n",
              "      <th>Director</th>\n",
              "      <th>Cast</th>\n",
              "      <th>Genre</th>\n",
              "      <th>Wiki Page</th>\n",
              "      <th>Plot</th>\n",
              "      <th>PlotSummary</th>\n",
              "    </tr>\n",
              "  </thead>\n",
              "  <tbody>\n",
              "    <tr>\n",
              "      <th>227</th>\n",
              "      <td>1918</td>\n",
              "      <td>Nine-Tenths of the Law</td>\n",
              "      <td>American</td>\n",
              "      <td>B. Reeves Eason</td>\n",
              "      <td>Mitchell Lewis</td>\n",
              "      <td>drama</td>\n",
              "      <td>https://en.wikipedia.org/wiki/Nine-Tenths_of_t...</td>\n",
              "      <td>As described in a film magazine,[1] Jules Lene...</td>\n",
              "      <td>Jules Leneau (Lewis) and his wife Jane (Maye),...</td>\n",
              "    </tr>\n",
              "    <tr>\n",
              "      <th>286</th>\n",
              "      <td>1919</td>\n",
              "      <td>Nine-Tenths of the Law</td>\n",
              "      <td>American</td>\n",
              "      <td>B. Reeves Eason</td>\n",
              "      <td>Mitchell Lewis, Jimsy Maye</td>\n",
              "      <td>drama</td>\n",
              "      <td>https://en.wikipedia.org/wiki/Nine-Tenths_of_t...</td>\n",
              "      <td>As described in a film magazine,[1] Jules Lene...</td>\n",
              "      <td>Jules Leneau (Lewis) and his wife Jane (Maye),...</td>\n",
              "    </tr>\n",
              "  </tbody>\n",
              "</table>\n",
              "</div>\n",
              "    <div class=\"colab-df-buttons\">\n",
              "\n",
              "  <div class=\"colab-df-container\">\n",
              "    <button class=\"colab-df-convert\" onclick=\"convertToInteractive('df-c07a7e6f-43f5-4b22-8d2a-71c64b173f1d')\"\n",
              "            title=\"Convert this dataframe to an interactive table.\"\n",
              "            style=\"display:none;\">\n",
              "\n",
              "  <svg xmlns=\"http://www.w3.org/2000/svg\" height=\"24px\" viewBox=\"0 -960 960 960\">\n",
              "    <path d=\"M120-120v-720h720v720H120Zm60-500h600v-160H180v160Zm220 220h160v-160H400v160Zm0 220h160v-160H400v160ZM180-400h160v-160H180v160Zm440 0h160v-160H620v160ZM180-180h160v-160H180v160Zm440 0h160v-160H620v160Z\"/>\n",
              "  </svg>\n",
              "    </button>\n",
              "\n",
              "  <style>\n",
              "    .colab-df-container {\n",
              "      display:flex;\n",
              "      gap: 12px;\n",
              "    }\n",
              "\n",
              "    .colab-df-convert {\n",
              "      background-color: #E8F0FE;\n",
              "      border: none;\n",
              "      border-radius: 50%;\n",
              "      cursor: pointer;\n",
              "      display: none;\n",
              "      fill: #1967D2;\n",
              "      height: 32px;\n",
              "      padding: 0 0 0 0;\n",
              "      width: 32px;\n",
              "    }\n",
              "\n",
              "    .colab-df-convert:hover {\n",
              "      background-color: #E2EBFA;\n",
              "      box-shadow: 0px 1px 2px rgba(60, 64, 67, 0.3), 0px 1px 3px 1px rgba(60, 64, 67, 0.15);\n",
              "      fill: #174EA6;\n",
              "    }\n",
              "\n",
              "    .colab-df-buttons div {\n",
              "      margin-bottom: 4px;\n",
              "    }\n",
              "\n",
              "    [theme=dark] .colab-df-convert {\n",
              "      background-color: #3B4455;\n",
              "      fill: #D2E3FC;\n",
              "    }\n",
              "\n",
              "    [theme=dark] .colab-df-convert:hover {\n",
              "      background-color: #434B5C;\n",
              "      box-shadow: 0px 1px 3px 1px rgba(0, 0, 0, 0.15);\n",
              "      filter: drop-shadow(0px 1px 2px rgba(0, 0, 0, 0.3));\n",
              "      fill: #FFFFFF;\n",
              "    }\n",
              "  </style>\n",
              "\n",
              "    <script>\n",
              "      const buttonEl =\n",
              "        document.querySelector('#df-c07a7e6f-43f5-4b22-8d2a-71c64b173f1d button.colab-df-convert');\n",
              "      buttonEl.style.display =\n",
              "        google.colab.kernel.accessAllowed ? 'block' : 'none';\n",
              "\n",
              "      async function convertToInteractive(key) {\n",
              "        const element = document.querySelector('#df-c07a7e6f-43f5-4b22-8d2a-71c64b173f1d');\n",
              "        const dataTable =\n",
              "          await google.colab.kernel.invokeFunction('convertToInteractive',\n",
              "                                                    [key], {});\n",
              "        if (!dataTable) return;\n",
              "\n",
              "        const docLinkHtml = 'Like what you see? Visit the ' +\n",
              "          '<a target=\"_blank\" href=https://colab.research.google.com/notebooks/data_table.ipynb>data table notebook</a>'\n",
              "          + ' to learn more about interactive tables.';\n",
              "        element.innerHTML = '';\n",
              "        dataTable['output_type'] = 'display_data';\n",
              "        await google.colab.output.renderOutput(dataTable, element);\n",
              "        const docLink = document.createElement('div');\n",
              "        docLink.innerHTML = docLinkHtml;\n",
              "        element.appendChild(docLink);\n",
              "      }\n",
              "    </script>\n",
              "  </div>\n",
              "\n",
              "    </div>\n",
              "  </div>\n"
            ]
          },
          "metadata": {},
          "execution_count": 156
        }
      ]
    },
    {
      "cell_type": "code",
      "source": [
        "print(f\"Number of duplicated rows: {len(df[df.duplicated(subset=['Plot', 'PlotSummary'])])}\")\n",
        "\n",
        "print(f\"DF length before duplicates removal: {len(df)}\")\n",
        "df = df.drop_duplicates(subset=['Plot', 'PlotSummary'])\n",
        "print(f\"DF length after duplicates removal: {len(df)}\")"
      ],
      "metadata": {
        "colab": {
          "base_uri": "https://localhost:8080/",
          "height": 0
        },
        "id": "M1P-hclN0MAj",
        "outputId": "4e2156dd-6fdf-453e-e3b6-26020e1581be"
      },
      "execution_count": 157,
      "outputs": [
        {
          "output_type": "stream",
          "name": "stdout",
          "text": [
            "Number of duplicated rows: 1017\n",
            "DF length before duplicates removal: 34886\n",
            "DF length after duplicates removal: 33869\n"
          ]
        }
      ]
    },
    {
      "cell_type": "markdown",
      "source": [
        "### Let's check rows where PlotSummary = Plot"
      ],
      "metadata": {
        "id": "QysGGcbAtoFu"
      }
    },
    {
      "cell_type": "code",
      "source": [
        "summ_equals_plot_mask = df['Plot'] == df['PlotSummary']\n",
        "summ_equals_plot = df[summ_equals_plot_mask]\n",
        "print(\"# of rows were Summary equals Plot:\", len(summ_equals_plot))\n",
        "summ_equals_plot.head(3)[['Plot', 'PlotSummary']]"
      ],
      "metadata": {
        "colab": {
          "base_uri": "https://localhost:8080/",
          "height": 287
        },
        "id": "1aZk86QztsB8",
        "outputId": "9b07e0ed-d957-470c-ccee-746b906a7677"
      },
      "execution_count": 158,
      "outputs": [
        {
          "output_type": "stream",
          "name": "stdout",
          "text": [
            "# of rows were Summary equals Plot: 121\n"
          ]
        },
        {
          "output_type": "execute_result",
          "data": {
            "text/plain": [
              "                                                  Plot                                        PlotSummary\n",
              "120  A young sculptor searches for the perfect mode...  A young sculptor searches for the perfect mode...\n",
              "385  Buster plays a drifter who cons his way into w...  Buster plays a drifter who cons his way into w...\n",
              "441  Chaplin plays a laborer on a house constructio...  Chaplin plays a laborer on a house constructio..."
            ],
            "text/html": [
              "\n",
              "  <div id=\"df-b8dc53eb-cbef-49fb-bd83-135e5581e041\" class=\"colab-df-container\">\n",
              "    <div>\n",
              "<style scoped>\n",
              "    .dataframe tbody tr th:only-of-type {\n",
              "        vertical-align: middle;\n",
              "    }\n",
              "\n",
              "    .dataframe tbody tr th {\n",
              "        vertical-align: top;\n",
              "    }\n",
              "\n",
              "    .dataframe thead th {\n",
              "        text-align: right;\n",
              "    }\n",
              "</style>\n",
              "<table border=\"1\" class=\"dataframe\">\n",
              "  <thead>\n",
              "    <tr style=\"text-align: right;\">\n",
              "      <th></th>\n",
              "      <th>Plot</th>\n",
              "      <th>PlotSummary</th>\n",
              "    </tr>\n",
              "  </thead>\n",
              "  <tbody>\n",
              "    <tr>\n",
              "      <th>120</th>\n",
              "      <td>A young sculptor searches for the perfect mode...</td>\n",
              "      <td>A young sculptor searches for the perfect mode...</td>\n",
              "    </tr>\n",
              "    <tr>\n",
              "      <th>385</th>\n",
              "      <td>Buster plays a drifter who cons his way into w...</td>\n",
              "      <td>Buster plays a drifter who cons his way into w...</td>\n",
              "    </tr>\n",
              "    <tr>\n",
              "      <th>441</th>\n",
              "      <td>Chaplin plays a laborer on a house constructio...</td>\n",
              "      <td>Chaplin plays a laborer on a house constructio...</td>\n",
              "    </tr>\n",
              "  </tbody>\n",
              "</table>\n",
              "</div>\n",
              "    <div class=\"colab-df-buttons\">\n",
              "\n",
              "  <div class=\"colab-df-container\">\n",
              "    <button class=\"colab-df-convert\" onclick=\"convertToInteractive('df-b8dc53eb-cbef-49fb-bd83-135e5581e041')\"\n",
              "            title=\"Convert this dataframe to an interactive table.\"\n",
              "            style=\"display:none;\">\n",
              "\n",
              "  <svg xmlns=\"http://www.w3.org/2000/svg\" height=\"24px\" viewBox=\"0 -960 960 960\">\n",
              "    <path d=\"M120-120v-720h720v720H120Zm60-500h600v-160H180v160Zm220 220h160v-160H400v160Zm0 220h160v-160H400v160ZM180-400h160v-160H180v160Zm440 0h160v-160H620v160ZM180-180h160v-160H180v160Zm440 0h160v-160H620v160Z\"/>\n",
              "  </svg>\n",
              "    </button>\n",
              "\n",
              "  <style>\n",
              "    .colab-df-container {\n",
              "      display:flex;\n",
              "      gap: 12px;\n",
              "    }\n",
              "\n",
              "    .colab-df-convert {\n",
              "      background-color: #E8F0FE;\n",
              "      border: none;\n",
              "      border-radius: 50%;\n",
              "      cursor: pointer;\n",
              "      display: none;\n",
              "      fill: #1967D2;\n",
              "      height: 32px;\n",
              "      padding: 0 0 0 0;\n",
              "      width: 32px;\n",
              "    }\n",
              "\n",
              "    .colab-df-convert:hover {\n",
              "      background-color: #E2EBFA;\n",
              "      box-shadow: 0px 1px 2px rgba(60, 64, 67, 0.3), 0px 1px 3px 1px rgba(60, 64, 67, 0.15);\n",
              "      fill: #174EA6;\n",
              "    }\n",
              "\n",
              "    .colab-df-buttons div {\n",
              "      margin-bottom: 4px;\n",
              "    }\n",
              "\n",
              "    [theme=dark] .colab-df-convert {\n",
              "      background-color: #3B4455;\n",
              "      fill: #D2E3FC;\n",
              "    }\n",
              "\n",
              "    [theme=dark] .colab-df-convert:hover {\n",
              "      background-color: #434B5C;\n",
              "      box-shadow: 0px 1px 3px 1px rgba(0, 0, 0, 0.15);\n",
              "      filter: drop-shadow(0px 1px 2px rgba(0, 0, 0, 0.3));\n",
              "      fill: #FFFFFF;\n",
              "    }\n",
              "  </style>\n",
              "\n",
              "    <script>\n",
              "      const buttonEl =\n",
              "        document.querySelector('#df-b8dc53eb-cbef-49fb-bd83-135e5581e041 button.colab-df-convert');\n",
              "      buttonEl.style.display =\n",
              "        google.colab.kernel.accessAllowed ? 'block' : 'none';\n",
              "\n",
              "      async function convertToInteractive(key) {\n",
              "        const element = document.querySelector('#df-b8dc53eb-cbef-49fb-bd83-135e5581e041');\n",
              "        const dataTable =\n",
              "          await google.colab.kernel.invokeFunction('convertToInteractive',\n",
              "                                                    [key], {});\n",
              "        if (!dataTable) return;\n",
              "\n",
              "        const docLinkHtml = 'Like what you see? Visit the ' +\n",
              "          '<a target=\"_blank\" href=https://colab.research.google.com/notebooks/data_table.ipynb>data table notebook</a>'\n",
              "          + ' to learn more about interactive tables.';\n",
              "        element.innerHTML = '';\n",
              "        dataTable['output_type'] = 'display_data';\n",
              "        await google.colab.output.renderOutput(dataTable, element);\n",
              "        const docLink = document.createElement('div');\n",
              "        docLink.innerHTML = docLinkHtml;\n",
              "        element.appendChild(docLink);\n",
              "      }\n",
              "    </script>\n",
              "  </div>\n",
              "\n",
              "    </div>\n",
              "  </div>\n"
            ]
          },
          "metadata": {},
          "execution_count": 158
        }
      ]
    },
    {
      "cell_type": "code",
      "source": [
        "# Let's make the Plot empty for rows where Plot equals Summary\n",
        "df.loc[summ_equals_plot_mask, 'Plot'] = ''\n",
        "df[df['Plot'] == df['PlotSummary']].head(3)[['Plot', 'PlotSummary']]"
      ],
      "metadata": {
        "colab": {
          "base_uri": "https://localhost:8080/",
          "height": 53
        },
        "id": "iIilAL9fuHTX",
        "outputId": "f1b0890f-0620-4a27-e231-2fc610cf5e34"
      },
      "execution_count": 159,
      "outputs": [
        {
          "output_type": "execute_result",
          "data": {
            "text/plain": [
              "Empty DataFrame\n",
              "Columns: [Plot, PlotSummary]\n",
              "Index: []"
            ],
            "text/html": [
              "\n",
              "  <div id=\"df-61f6816a-fcea-49fb-8aa8-a54c92738701\" class=\"colab-df-container\">\n",
              "    <div>\n",
              "<style scoped>\n",
              "    .dataframe tbody tr th:only-of-type {\n",
              "        vertical-align: middle;\n",
              "    }\n",
              "\n",
              "    .dataframe tbody tr th {\n",
              "        vertical-align: top;\n",
              "    }\n",
              "\n",
              "    .dataframe thead th {\n",
              "        text-align: right;\n",
              "    }\n",
              "</style>\n",
              "<table border=\"1\" class=\"dataframe\">\n",
              "  <thead>\n",
              "    <tr style=\"text-align: right;\">\n",
              "      <th></th>\n",
              "      <th>Plot</th>\n",
              "      <th>PlotSummary</th>\n",
              "    </tr>\n",
              "  </thead>\n",
              "  <tbody>\n",
              "  </tbody>\n",
              "</table>\n",
              "</div>\n",
              "    <div class=\"colab-df-buttons\">\n",
              "\n",
              "  <div class=\"colab-df-container\">\n",
              "    <button class=\"colab-df-convert\" onclick=\"convertToInteractive('df-61f6816a-fcea-49fb-8aa8-a54c92738701')\"\n",
              "            title=\"Convert this dataframe to an interactive table.\"\n",
              "            style=\"display:none;\">\n",
              "\n",
              "  <svg xmlns=\"http://www.w3.org/2000/svg\" height=\"24px\" viewBox=\"0 -960 960 960\">\n",
              "    <path d=\"M120-120v-720h720v720H120Zm60-500h600v-160H180v160Zm220 220h160v-160H400v160Zm0 220h160v-160H400v160ZM180-400h160v-160H180v160Zm440 0h160v-160H620v160ZM180-180h160v-160H180v160Zm440 0h160v-160H620v160Z\"/>\n",
              "  </svg>\n",
              "    </button>\n",
              "\n",
              "  <style>\n",
              "    .colab-df-container {\n",
              "      display:flex;\n",
              "      gap: 12px;\n",
              "    }\n",
              "\n",
              "    .colab-df-convert {\n",
              "      background-color: #E8F0FE;\n",
              "      border: none;\n",
              "      border-radius: 50%;\n",
              "      cursor: pointer;\n",
              "      display: none;\n",
              "      fill: #1967D2;\n",
              "      height: 32px;\n",
              "      padding: 0 0 0 0;\n",
              "      width: 32px;\n",
              "    }\n",
              "\n",
              "    .colab-df-convert:hover {\n",
              "      background-color: #E2EBFA;\n",
              "      box-shadow: 0px 1px 2px rgba(60, 64, 67, 0.3), 0px 1px 3px 1px rgba(60, 64, 67, 0.15);\n",
              "      fill: #174EA6;\n",
              "    }\n",
              "\n",
              "    .colab-df-buttons div {\n",
              "      margin-bottom: 4px;\n",
              "    }\n",
              "\n",
              "    [theme=dark] .colab-df-convert {\n",
              "      background-color: #3B4455;\n",
              "      fill: #D2E3FC;\n",
              "    }\n",
              "\n",
              "    [theme=dark] .colab-df-convert:hover {\n",
              "      background-color: #434B5C;\n",
              "      box-shadow: 0px 1px 3px 1px rgba(0, 0, 0, 0.15);\n",
              "      filter: drop-shadow(0px 1px 2px rgba(0, 0, 0, 0.3));\n",
              "      fill: #FFFFFF;\n",
              "    }\n",
              "  </style>\n",
              "\n",
              "    <script>\n",
              "      const buttonEl =\n",
              "        document.querySelector('#df-61f6816a-fcea-49fb-8aa8-a54c92738701 button.colab-df-convert');\n",
              "      buttonEl.style.display =\n",
              "        google.colab.kernel.accessAllowed ? 'block' : 'none';\n",
              "\n",
              "      async function convertToInteractive(key) {\n",
              "        const element = document.querySelector('#df-61f6816a-fcea-49fb-8aa8-a54c92738701');\n",
              "        const dataTable =\n",
              "          await google.colab.kernel.invokeFunction('convertToInteractive',\n",
              "                                                    [key], {});\n",
              "        if (!dataTable) return;\n",
              "\n",
              "        const docLinkHtml = 'Like what you see? Visit the ' +\n",
              "          '<a target=\"_blank\" href=https://colab.research.google.com/notebooks/data_table.ipynb>data table notebook</a>'\n",
              "          + ' to learn more about interactive tables.';\n",
              "        element.innerHTML = '';\n",
              "        dataTable['output_type'] = 'display_data';\n",
              "        await google.colab.output.renderOutput(dataTable, element);\n",
              "        const docLink = document.createElement('div');\n",
              "        docLink.innerHTML = docLinkHtml;\n",
              "        element.appendChild(docLink);\n",
              "      }\n",
              "    </script>\n",
              "  </div>\n",
              "\n",
              "    </div>\n",
              "  </div>\n"
            ]
          },
          "metadata": {},
          "execution_count": 159
        }
      ]
    },
    {
      "cell_type": "markdown",
      "source": [
        "### Let's check rows where PlotSummary starts with Plot content and viceversa"
      ],
      "metadata": {
        "id": "4XRWwVPYUAn4"
      }
    },
    {
      "cell_type": "code",
      "source": [
        "summ_starts_w_plot_mask = df.apply(lambda row: row['PlotSummary'].startswith(row['Plot']), axis=1)\n",
        "summ_starts_w_plot = df[summ_starts_w_plot_mask]\n",
        "print(\"# of rows were Summary starts with Plot:\", len(summ_starts_w_plot))\n",
        "summ_starts_w_plot.head(3)[['Plot', 'PlotSummary']]"
      ],
      "metadata": {
        "colab": {
          "base_uri": "https://localhost:8080/",
          "height": 271
        },
        "id": "noYsW4ZyRInX",
        "outputId": "d1564339-9a2f-4314-9f43-93caa7d4e04c"
      },
      "execution_count": 160,
      "outputs": [
        {
          "output_type": "stream",
          "name": "stdout",
          "text": [
            "# of rows were Summary starts with Plot: 935\n"
          ]
        },
        {
          "output_type": "execute_result",
          "data": {
            "text/plain": [
              "                                                 Plot                                        PlotSummary\n",
              "11  The film features a train traveling through th...  The film features a train traveling through th...\n",
              "43  The story concerns a soldier who deserts his r...  The story concerns a soldier who deserts his r...\n",
              "52  Barney Oldfield races a speeding locomotive to...  Barney Oldfield races a speeding locomotive to..."
            ],
            "text/html": [
              "\n",
              "  <div id=\"df-6c12bdbd-8652-4e4b-abee-98286398105c\" class=\"colab-df-container\">\n",
              "    <div>\n",
              "<style scoped>\n",
              "    .dataframe tbody tr th:only-of-type {\n",
              "        vertical-align: middle;\n",
              "    }\n",
              "\n",
              "    .dataframe tbody tr th {\n",
              "        vertical-align: top;\n",
              "    }\n",
              "\n",
              "    .dataframe thead th {\n",
              "        text-align: right;\n",
              "    }\n",
              "</style>\n",
              "<table border=\"1\" class=\"dataframe\">\n",
              "  <thead>\n",
              "    <tr style=\"text-align: right;\">\n",
              "      <th></th>\n",
              "      <th>Plot</th>\n",
              "      <th>PlotSummary</th>\n",
              "    </tr>\n",
              "  </thead>\n",
              "  <tbody>\n",
              "    <tr>\n",
              "      <th>11</th>\n",
              "      <td>The film features a train traveling through th...</td>\n",
              "      <td>The film features a train traveling through th...</td>\n",
              "    </tr>\n",
              "    <tr>\n",
              "      <th>43</th>\n",
              "      <td>The story concerns a soldier who deserts his r...</td>\n",
              "      <td>The story concerns a soldier who deserts his r...</td>\n",
              "    </tr>\n",
              "    <tr>\n",
              "      <th>52</th>\n",
              "      <td>Barney Oldfield races a speeding locomotive to...</td>\n",
              "      <td>Barney Oldfield races a speeding locomotive to...</td>\n",
              "    </tr>\n",
              "  </tbody>\n",
              "</table>\n",
              "</div>\n",
              "    <div class=\"colab-df-buttons\">\n",
              "\n",
              "  <div class=\"colab-df-container\">\n",
              "    <button class=\"colab-df-convert\" onclick=\"convertToInteractive('df-6c12bdbd-8652-4e4b-abee-98286398105c')\"\n",
              "            title=\"Convert this dataframe to an interactive table.\"\n",
              "            style=\"display:none;\">\n",
              "\n",
              "  <svg xmlns=\"http://www.w3.org/2000/svg\" height=\"24px\" viewBox=\"0 -960 960 960\">\n",
              "    <path d=\"M120-120v-720h720v720H120Zm60-500h600v-160H180v160Zm220 220h160v-160H400v160Zm0 220h160v-160H400v160ZM180-400h160v-160H180v160Zm440 0h160v-160H620v160ZM180-180h160v-160H180v160Zm440 0h160v-160H620v160Z\"/>\n",
              "  </svg>\n",
              "    </button>\n",
              "\n",
              "  <style>\n",
              "    .colab-df-container {\n",
              "      display:flex;\n",
              "      gap: 12px;\n",
              "    }\n",
              "\n",
              "    .colab-df-convert {\n",
              "      background-color: #E8F0FE;\n",
              "      border: none;\n",
              "      border-radius: 50%;\n",
              "      cursor: pointer;\n",
              "      display: none;\n",
              "      fill: #1967D2;\n",
              "      height: 32px;\n",
              "      padding: 0 0 0 0;\n",
              "      width: 32px;\n",
              "    }\n",
              "\n",
              "    .colab-df-convert:hover {\n",
              "      background-color: #E2EBFA;\n",
              "      box-shadow: 0px 1px 2px rgba(60, 64, 67, 0.3), 0px 1px 3px 1px rgba(60, 64, 67, 0.15);\n",
              "      fill: #174EA6;\n",
              "    }\n",
              "\n",
              "    .colab-df-buttons div {\n",
              "      margin-bottom: 4px;\n",
              "    }\n",
              "\n",
              "    [theme=dark] .colab-df-convert {\n",
              "      background-color: #3B4455;\n",
              "      fill: #D2E3FC;\n",
              "    }\n",
              "\n",
              "    [theme=dark] .colab-df-convert:hover {\n",
              "      background-color: #434B5C;\n",
              "      box-shadow: 0px 1px 3px 1px rgba(0, 0, 0, 0.15);\n",
              "      filter: drop-shadow(0px 1px 2px rgba(0, 0, 0, 0.3));\n",
              "      fill: #FFFFFF;\n",
              "    }\n",
              "  </style>\n",
              "\n",
              "    <script>\n",
              "      const buttonEl =\n",
              "        document.querySelector('#df-6c12bdbd-8652-4e4b-abee-98286398105c button.colab-df-convert');\n",
              "      buttonEl.style.display =\n",
              "        google.colab.kernel.accessAllowed ? 'block' : 'none';\n",
              "\n",
              "      async function convertToInteractive(key) {\n",
              "        const element = document.querySelector('#df-6c12bdbd-8652-4e4b-abee-98286398105c');\n",
              "        const dataTable =\n",
              "          await google.colab.kernel.invokeFunction('convertToInteractive',\n",
              "                                                    [key], {});\n",
              "        if (!dataTable) return;\n",
              "\n",
              "        const docLinkHtml = 'Like what you see? Visit the ' +\n",
              "          '<a target=\"_blank\" href=https://colab.research.google.com/notebooks/data_table.ipynb>data table notebook</a>'\n",
              "          + ' to learn more about interactive tables.';\n",
              "        element.innerHTML = '';\n",
              "        dataTable['output_type'] = 'display_data';\n",
              "        await google.colab.output.renderOutput(dataTable, element);\n",
              "        const docLink = document.createElement('div');\n",
              "        docLink.innerHTML = docLinkHtml;\n",
              "        element.appendChild(docLink);\n",
              "      }\n",
              "    </script>\n",
              "  </div>\n",
              "\n",
              "    </div>\n",
              "  </div>\n"
            ]
          },
          "metadata": {},
          "execution_count": 160
        }
      ]
    },
    {
      "cell_type": "code",
      "source": [
        "plot_starts_w_summ_mask = df.apply(lambda row: row['Plot'].startswith(row['PlotSummary']), axis=1)\n",
        "plot_starts_w_summ = df[plot_starts_w_summ_mask]\n",
        "print(\"# of rows were Plot starts with Summary:\", len(plot_starts_w_summ))\n",
        "plot_starts_w_summ.head(3)[['Plot', 'PlotSummary']]"
      ],
      "metadata": {
        "colab": {
          "base_uri": "https://localhost:8080/",
          "height": 419
        },
        "id": "qLHRrq8glRZs",
        "outputId": "8d1bce81-2180-4987-be0d-0d012184f997"
      },
      "execution_count": 161,
      "outputs": [
        {
          "output_type": "stream",
          "name": "stdout",
          "text": [
            "# of rows were Plot starts with Summary: 387\n"
          ]
        },
        {
          "output_type": "execute_result",
          "data": {
            "text/plain": [
              "                                                 Plot                                        PlotSummary\n",
              "1   The moon, painted with a smiling face hangs ov...  The moon, painted with a smiling face hangs ov...\n",
              "38  The story deals with Tom Brown's efforts to sa...  The story deals with Tom Brown's efforts to sa...\n",
              "46  The film is about a poor married couple living...  The film is about a poor married couple living..."
            ],
            "text/html": [
              "\n",
              "  <div id=\"df-407305bb-f2e2-402c-9254-700b114acdec\" class=\"colab-df-container\">\n",
              "    <div>\n",
              "<style scoped>\n",
              "    .dataframe tbody tr th:only-of-type {\n",
              "        vertical-align: middle;\n",
              "    }\n",
              "\n",
              "    .dataframe tbody tr th {\n",
              "        vertical-align: top;\n",
              "    }\n",
              "\n",
              "    .dataframe thead th {\n",
              "        text-align: right;\n",
              "    }\n",
              "</style>\n",
              "<table border=\"1\" class=\"dataframe\">\n",
              "  <thead>\n",
              "    <tr style=\"text-align: right;\">\n",
              "      <th></th>\n",
              "      <th>Plot</th>\n",
              "      <th>PlotSummary</th>\n",
              "    </tr>\n",
              "  </thead>\n",
              "  <tbody>\n",
              "    <tr>\n",
              "      <th>1</th>\n",
              "      <td>The moon, painted with a smiling face hangs ov...</td>\n",
              "      <td>The moon, painted with a smiling face hangs ov...</td>\n",
              "    </tr>\n",
              "    <tr>\n",
              "      <th>38</th>\n",
              "      <td>The story deals with Tom Brown's efforts to sa...</td>\n",
              "      <td>The story deals with Tom Brown's efforts to sa...</td>\n",
              "    </tr>\n",
              "    <tr>\n",
              "      <th>46</th>\n",
              "      <td>The film is about a poor married couple living...</td>\n",
              "      <td>The film is about a poor married couple living...</td>\n",
              "    </tr>\n",
              "  </tbody>\n",
              "</table>\n",
              "</div>\n",
              "    <div class=\"colab-df-buttons\">\n",
              "\n",
              "  <div class=\"colab-df-container\">\n",
              "    <button class=\"colab-df-convert\" onclick=\"convertToInteractive('df-407305bb-f2e2-402c-9254-700b114acdec')\"\n",
              "            title=\"Convert this dataframe to an interactive table.\"\n",
              "            style=\"display:none;\">\n",
              "\n",
              "  <svg xmlns=\"http://www.w3.org/2000/svg\" height=\"24px\" viewBox=\"0 -960 960 960\">\n",
              "    <path d=\"M120-120v-720h720v720H120Zm60-500h600v-160H180v160Zm220 220h160v-160H400v160Zm0 220h160v-160H400v160ZM180-400h160v-160H180v160Zm440 0h160v-160H620v160ZM180-180h160v-160H180v160Zm440 0h160v-160H620v160Z\"/>\n",
              "  </svg>\n",
              "    </button>\n",
              "\n",
              "  <style>\n",
              "    .colab-df-container {\n",
              "      display:flex;\n",
              "      gap: 12px;\n",
              "    }\n",
              "\n",
              "    .colab-df-convert {\n",
              "      background-color: #E8F0FE;\n",
              "      border: none;\n",
              "      border-radius: 50%;\n",
              "      cursor: pointer;\n",
              "      display: none;\n",
              "      fill: #1967D2;\n",
              "      height: 32px;\n",
              "      padding: 0 0 0 0;\n",
              "      width: 32px;\n",
              "    }\n",
              "\n",
              "    .colab-df-convert:hover {\n",
              "      background-color: #E2EBFA;\n",
              "      box-shadow: 0px 1px 2px rgba(60, 64, 67, 0.3), 0px 1px 3px 1px rgba(60, 64, 67, 0.15);\n",
              "      fill: #174EA6;\n",
              "    }\n",
              "\n",
              "    .colab-df-buttons div {\n",
              "      margin-bottom: 4px;\n",
              "    }\n",
              "\n",
              "    [theme=dark] .colab-df-convert {\n",
              "      background-color: #3B4455;\n",
              "      fill: #D2E3FC;\n",
              "    }\n",
              "\n",
              "    [theme=dark] .colab-df-convert:hover {\n",
              "      background-color: #434B5C;\n",
              "      box-shadow: 0px 1px 3px 1px rgba(0, 0, 0, 0.15);\n",
              "      filter: drop-shadow(0px 1px 2px rgba(0, 0, 0, 0.3));\n",
              "      fill: #FFFFFF;\n",
              "    }\n",
              "  </style>\n",
              "\n",
              "    <script>\n",
              "      const buttonEl =\n",
              "        document.querySelector('#df-407305bb-f2e2-402c-9254-700b114acdec button.colab-df-convert');\n",
              "      buttonEl.style.display =\n",
              "        google.colab.kernel.accessAllowed ? 'block' : 'none';\n",
              "\n",
              "      async function convertToInteractive(key) {\n",
              "        const element = document.querySelector('#df-407305bb-f2e2-402c-9254-700b114acdec');\n",
              "        const dataTable =\n",
              "          await google.colab.kernel.invokeFunction('convertToInteractive',\n",
              "                                                    [key], {});\n",
              "        if (!dataTable) return;\n",
              "\n",
              "        const docLinkHtml = 'Like what you see? Visit the ' +\n",
              "          '<a target=\"_blank\" href=https://colab.research.google.com/notebooks/data_table.ipynb>data table notebook</a>'\n",
              "          + ' to learn more about interactive tables.';\n",
              "        element.innerHTML = '';\n",
              "        dataTable['output_type'] = 'display_data';\n",
              "        await google.colab.output.renderOutput(dataTable, element);\n",
              "        const docLink = document.createElement('div');\n",
              "        docLink.innerHTML = docLinkHtml;\n",
              "        element.appendChild(docLink);\n",
              "      }\n",
              "    </script>\n",
              "  </div>\n",
              "\n",
              "    </div>\n",
              "  </div>\n"
            ]
          },
          "metadata": {},
          "execution_count": 161
        }
      ]
    },
    {
      "cell_type": "code",
      "source": [
        "starts_with_inner_join = pd.merge(summ_starts_w_plot, plot_starts_w_summ, left_index=True, right_index=True, how='inner')\n",
        "print(\"# of rows with same Plot and Summary (expected 0): \", len(starts_with_inner_join))\n",
        "starts_with_inner_join.head(3)[['Plot_x', 'PlotSummary_x']]"
      ],
      "metadata": {
        "colab": {
          "base_uri": "https://localhost:8080/",
          "height": 70
        },
        "id": "19do4lAinTKV",
        "outputId": "9f4d0055-8851-456d-eff5-18dbca101a5b"
      },
      "execution_count": 163,
      "outputs": [
        {
          "output_type": "stream",
          "name": "stdout",
          "text": [
            "# of rows with same Plot and Summary (expected 0):  0\n"
          ]
        },
        {
          "output_type": "execute_result",
          "data": {
            "text/plain": [
              "Empty DataFrame\n",
              "Columns: [Plot_x, PlotSummary_x]\n",
              "Index: []"
            ],
            "text/html": [
              "\n",
              "  <div id=\"df-9b51117c-ab4e-4311-9e37-ad49c69315bd\" class=\"colab-df-container\">\n",
              "    <div>\n",
              "<style scoped>\n",
              "    .dataframe tbody tr th:only-of-type {\n",
              "        vertical-align: middle;\n",
              "    }\n",
              "\n",
              "    .dataframe tbody tr th {\n",
              "        vertical-align: top;\n",
              "    }\n",
              "\n",
              "    .dataframe thead th {\n",
              "        text-align: right;\n",
              "    }\n",
              "</style>\n",
              "<table border=\"1\" class=\"dataframe\">\n",
              "  <thead>\n",
              "    <tr style=\"text-align: right;\">\n",
              "      <th></th>\n",
              "      <th>Plot_x</th>\n",
              "      <th>PlotSummary_x</th>\n",
              "    </tr>\n",
              "  </thead>\n",
              "  <tbody>\n",
              "  </tbody>\n",
              "</table>\n",
              "</div>\n",
              "    <div class=\"colab-df-buttons\">\n",
              "\n",
              "  <div class=\"colab-df-container\">\n",
              "    <button class=\"colab-df-convert\" onclick=\"convertToInteractive('df-9b51117c-ab4e-4311-9e37-ad49c69315bd')\"\n",
              "            title=\"Convert this dataframe to an interactive table.\"\n",
              "            style=\"display:none;\">\n",
              "\n",
              "  <svg xmlns=\"http://www.w3.org/2000/svg\" height=\"24px\" viewBox=\"0 -960 960 960\">\n",
              "    <path d=\"M120-120v-720h720v720H120Zm60-500h600v-160H180v160Zm220 220h160v-160H400v160Zm0 220h160v-160H400v160ZM180-400h160v-160H180v160Zm440 0h160v-160H620v160ZM180-180h160v-160H180v160Zm440 0h160v-160H620v160Z\"/>\n",
              "  </svg>\n",
              "    </button>\n",
              "\n",
              "  <style>\n",
              "    .colab-df-container {\n",
              "      display:flex;\n",
              "      gap: 12px;\n",
              "    }\n",
              "\n",
              "    .colab-df-convert {\n",
              "      background-color: #E8F0FE;\n",
              "      border: none;\n",
              "      border-radius: 50%;\n",
              "      cursor: pointer;\n",
              "      display: none;\n",
              "      fill: #1967D2;\n",
              "      height: 32px;\n",
              "      padding: 0 0 0 0;\n",
              "      width: 32px;\n",
              "    }\n",
              "\n",
              "    .colab-df-convert:hover {\n",
              "      background-color: #E2EBFA;\n",
              "      box-shadow: 0px 1px 2px rgba(60, 64, 67, 0.3), 0px 1px 3px 1px rgba(60, 64, 67, 0.15);\n",
              "      fill: #174EA6;\n",
              "    }\n",
              "\n",
              "    .colab-df-buttons div {\n",
              "      margin-bottom: 4px;\n",
              "    }\n",
              "\n",
              "    [theme=dark] .colab-df-convert {\n",
              "      background-color: #3B4455;\n",
              "      fill: #D2E3FC;\n",
              "    }\n",
              "\n",
              "    [theme=dark] .colab-df-convert:hover {\n",
              "      background-color: #434B5C;\n",
              "      box-shadow: 0px 1px 3px 1px rgba(0, 0, 0, 0.15);\n",
              "      filter: drop-shadow(0px 1px 2px rgba(0, 0, 0, 0.3));\n",
              "      fill: #FFFFFF;\n",
              "    }\n",
              "  </style>\n",
              "\n",
              "    <script>\n",
              "      const buttonEl =\n",
              "        document.querySelector('#df-9b51117c-ab4e-4311-9e37-ad49c69315bd button.colab-df-convert');\n",
              "      buttonEl.style.display =\n",
              "        google.colab.kernel.accessAllowed ? 'block' : 'none';\n",
              "\n",
              "      async function convertToInteractive(key) {\n",
              "        const element = document.querySelector('#df-9b51117c-ab4e-4311-9e37-ad49c69315bd');\n",
              "        const dataTable =\n",
              "          await google.colab.kernel.invokeFunction('convertToInteractive',\n",
              "                                                    [key], {});\n",
              "        if (!dataTable) return;\n",
              "\n",
              "        const docLinkHtml = 'Like what you see? Visit the ' +\n",
              "          '<a target=\"_blank\" href=https://colab.research.google.com/notebooks/data_table.ipynb>data table notebook</a>'\n",
              "          + ' to learn more about interactive tables.';\n",
              "        element.innerHTML = '';\n",
              "        dataTable['output_type'] = 'display_data';\n",
              "        await google.colab.output.renderOutput(dataTable, element);\n",
              "        const docLink = document.createElement('div');\n",
              "        docLink.innerHTML = docLinkHtml;\n",
              "        element.appendChild(docLink);\n",
              "      }\n",
              "    </script>\n",
              "  </div>\n",
              "\n",
              "    </div>\n",
              "  </div>\n"
            ]
          },
          "metadata": {},
          "execution_count": 163
        }
      ]
    },
    {
      "cell_type": "code",
      "source": [
        "# Let's make the Plot empty for rows where Summary starts with Plot\n",
        "df.loc[summ_starts_w_plot_mask, 'Plot'] = ''\n",
        "\n",
        "# Let's make the Summary empty for rows where Plot starts PlotSummary starts with Plot\n",
        "df.loc[plot_starts_w_summ_mask, 'PlotSummary'] = ''"
      ],
      "metadata": {
        "id": "yjBsgNZxoe8P"
      },
      "execution_count": 164,
      "outputs": []
    },
    {
      "cell_type": "markdown",
      "source": [
        "### Plot and Summary length analysis"
      ],
      "metadata": {
        "id": "rYPI_pOWvysF"
      }
    },
    {
      "cell_type": "code",
      "source": [
        "plot_length = df['Plot'].apply(lambda x: len(x.split()))\n",
        "print(\"Statistics of plot lengths:\")\n",
        "print(plot_length.describe())"
      ],
      "metadata": {
        "colab": {
          "base_uri": "https://localhost:8080/",
          "height": 0
        },
        "id": "P2qcJMwEjyVP",
        "outputId": "551ccf95-3720-446f-85b4-7a08cab1f88a"
      },
      "execution_count": 165,
      "outputs": [
        {
          "output_type": "stream",
          "name": "stdout",
          "text": [
            "Statistics of plot lengths:\n",
            "count    33869.000000\n",
            "mean       369.810859\n",
            "std        314.139920\n",
            "min          0.000000\n",
            "25%        121.000000\n",
            "50%        282.000000\n",
            "75%        577.000000\n",
            "max       6752.000000\n",
            "Name: Plot, dtype: float64\n"
          ]
        }
      ]
    },
    {
      "cell_type": "code",
      "source": [
        "plot_length.hist(bins=12, alpha=0.5)"
      ],
      "metadata": {
        "colab": {
          "base_uri": "https://localhost:8080/",
          "height": 447
        },
        "id": "fE_nhFIRkG1K",
        "outputId": "d4f5bcb4-1d9f-46d6-83c6-1c90e5cf858b"
      },
      "execution_count": 166,
      "outputs": [
        {
          "output_type": "execute_result",
          "data": {
            "text/plain": [
              "<Axes: >"
            ]
          },
          "metadata": {},
          "execution_count": 166
        },
        {
          "output_type": "display_data",
          "data": {
            "text/plain": [
              "<Figure size 640x480 with 1 Axes>"
            ],
            "image/png": "[encoded data removed]"
          },
          "metadata": {}
        }
      ]
    },
    {
      "cell_type": "markdown",
      "source": [
        "Extremely short texts might not provide enough context for meaningful analysis or semantic search. Such short texts might not generate reliable embeddings for comparison in the future.\n",
        "\n",
        "Long texts could impact processing time and memory usage, as well as the quality of embeddings.\n",
        "\n",
        "Given I'll experiment with BERT which provides truncation + padding out of the box and the vector fixed size is 512 for each token, I'll experiment discarding rows where text length is greater than 1024 (auto padding for < 512 and auto truncation for > 512 vectors)"
      ],
      "metadata": {
        "id": "kPZpBLsVnDt4"
      }
    },
    {
      "cell_type": "code",
      "source": [
        "plot_length_summ = df['PlotSummary'].apply(lambda x: len(x.split()))\n",
        "print(\"Statistics of plot summary lengths:\")\n",
        "print(plot_length_summ.describe())"
      ],
      "metadata": {
        "colab": {
          "base_uri": "https://localhost:8080/",
          "height": 0
        },
        "id": "i1S8GXf_knu4",
        "outputId": "5ba10029-575b-40b3-cec6-8290317e0605"
      },
      "execution_count": 167,
      "outputs": [
        {
          "output_type": "stream",
          "name": "stdout",
          "text": [
            "Statistics of plot summary lengths:\n",
            "count    33869.000000\n",
            "mean        64.602852\n",
            "std         18.037321\n",
            "min          0.000000\n",
            "25%         52.000000\n",
            "50%         62.000000\n",
            "75%         77.000000\n",
            "max        116.000000\n",
            "Name: PlotSummary, dtype: float64\n"
          ]
        }
      ]
    },
    {
      "cell_type": "code",
      "source": [
        "plot_length_summ.hist(bins=12, alpha=0.5)"
      ],
      "metadata": {
        "colab": {
          "base_uri": "https://localhost:8080/",
          "height": 447
        },
        "id": "1Y5u3Tvkk9WG",
        "outputId": "9a02ed04-2662-495e-c15a-63a8fdbfea76"
      },
      "execution_count": 168,
      "outputs": [
        {
          "output_type": "execute_result",
          "data": {
            "text/plain": [
              "<Axes: >"
            ]
          },
          "metadata": {},
          "execution_count": 168
        },
        {
          "output_type": "display_data",
          "data": {
            "text/plain": [
              "<Figure size 640x480 with 1 Axes>"
            ],
            "image/png": "[encoded data removed]"
          },
          "metadata": {}
        }
      ]
    },
    {
      "cell_type": "markdown",
      "source": [
        "This other column seems to have a more consistent distribution in terms of length."
      ],
      "metadata": {
        "id": "BuXmm3m807Mj"
      }
    },
    {
      "cell_type": "markdown",
      "source": [
        "Based on the assignment specification, the expectation is to implement a single index that can handle both \"Plot\" and \"PlotSummary\" embeddings. The purpose of the semantic search is to find the most relevant movie plots and plot summaries based on a generic user query. This implies that the intention is to use a unified approach to create embeddings for both columns and use a single index for querying. That's why the next step is to create a column concatenating both text columns.\n",
        "\n",
        "Another approach is to have 2 indexes (one for each column and query by \"Plot\" or \"PlotSummary\", which would provide the following benefits (but would imply querying buy specific columns):\n",
        "\n",
        "- Semantic Differences: \"Plot\" and \"PlotSummary\" may have distinct semantic characteristics. By using separate indexes, we can capture and leverage these differences to improve search accuracy.\n",
        "\n",
        "- Optimized Search: Separate indexes can be optimized individually. This can lead to more efficient searches and better retrieval of relevant results.\n",
        "\n",
        "- Flexibility: With separate indexes, we have the flexibility to fine-tune parameters, normalization, and other settings specifically for each type of data (if we decide to fine-tune the pretrained model).\n",
        "\n",
        "- Future Extensions: If we plan to incorporate additional types of data in the future, having separate indexes can accommodate such changes, favoring scalability and maintenance of the pipeline.\n",
        "\n"
      ],
      "metadata": {
        "id": "Qdp4lqtj527t"
      }
    },
    {
      "cell_type": "markdown",
      "source": [
        "### Traditional NLP pre-processing\n",
        "\n",
        "Even modern tokenizers handles most of the preproc steps I'd like to share the typical cleaning steps for tokenizing cleaned text data points."
      ],
      "metadata": {
        "id": "aS4OqJhTxci8"
      }
    },
    {
      "cell_type": "code",
      "source": [
        "df['PlotSummary_Plot'] = df['PlotSummary'] + \" \" + df['Plot']"
      ],
      "metadata": {
        "id": "FYlkyE-X7N4f"
      },
      "execution_count": 169,
      "outputs": []
    },
    {
      "cell_type": "code",
      "source": [
        "df[['PlotSummary_Plot', 'Plot', 'PlotSummary']].head(2)"
      ],
      "metadata": {
        "colab": {
          "base_uri": "https://localhost:8080/",
          "height": 347
        },
        "id": "rbq2PKQ91mAr",
        "outputId": "278eb47c-b6d7-4665-f728-360a3649a83d"
      },
      "execution_count": 170,
      "outputs": [
        {
          "output_type": "execute_result",
          "data": {
            "text/plain": [
              "                                    PlotSummary_Plot                                               Plot                                        PlotSummary\n",
              "0  Carrie Nation and her followers burst into a s...  A bartender is working at a saloon, serving dr...  Carrie Nation and her followers burst into a s...\n",
              "1   The moon, painted with a smiling face hangs o...  The moon, painted with a smiling face hangs ov...                                                   "
            ],
            "text/html": [
              "\n",
              "  <div id=\"df-d2f670b9-df04-4385-99c9-b9d4bac42625\" class=\"colab-df-container\">\n",
              "    <div>\n",
              "<style scoped>\n",
              "    .dataframe tbody tr th:only-of-type {\n",
              "        vertical-align: middle;\n",
              "    }\n",
              "\n",
              "    .dataframe tbody tr th {\n",
              "        vertical-align: top;\n",
              "    }\n",
              "\n",
              "    .dataframe thead th {\n",
              "        text-align: right;\n",
              "    }\n",
              "</style>\n",
              "<table border=\"1\" class=\"dataframe\">\n",
              "  <thead>\n",
              "    <tr style=\"text-align: right;\">\n",
              "      <th></th>\n",
              "      <th>PlotSummary_Plot</th>\n",
              "      <th>Plot</th>\n",
              "      <th>PlotSummary</th>\n",
              "    </tr>\n",
              "  </thead>\n",
              "  <tbody>\n",
              "    <tr>\n",
              "      <th>0</th>\n",
              "      <td>Carrie Nation and her followers burst into a s...</td>\n",
              "      <td>A bartender is working at a saloon, serving dr...</td>\n",
              "      <td>Carrie Nation and her followers burst into a s...</td>\n",
              "    </tr>\n",
              "    <tr>\n",
              "      <th>1</th>\n",
              "      <td>The moon, painted with a smiling face hangs o...</td>\n",
              "      <td>The moon, painted with a smiling face hangs ov...</td>\n",
              "      <td></td>\n",
              "    </tr>\n",
              "  </tbody>\n",
              "</table>\n",
              "</div>\n",
              "    <div class=\"colab-df-buttons\">\n",
              "\n",
              "  <div class=\"colab-df-container\">\n",
              "    <button class=\"colab-df-convert\" onclick=\"convertToInteractive('df-d2f670b9-df04-4385-99c9-b9d4bac42625')\"\n",
              "            title=\"Convert this dataframe to an interactive table.\"\n",
              "            style=\"display:none;\">\n",
              "\n",
              "  <svg xmlns=\"http://www.w3.org/2000/svg\" height=\"24px\" viewBox=\"0 -960 960 960\">\n",
              "    <path d=\"M120-120v-720h720v720H120Zm60-500h600v-160H180v160Zm220 220h160v-160H400v160Zm0 220h160v-160H400v160ZM180-400h160v-160H180v160Zm440 0h160v-160H620v160ZM180-180h160v-160H180v160Zm440 0h160v-160H620v160Z\"/>\n",
              "  </svg>\n",
              "    </button>\n",
              "\n",
              "  <style>\n",
              "    .colab-df-container {\n",
              "      display:flex;\n",
              "      gap: 12px;\n",
              "    }\n",
              "\n",
              "    .colab-df-convert {\n",
              "      background-color: #E8F0FE;\n",
              "      border: none;\n",
              "      border-radius: 50%;\n",
              "      cursor: pointer;\n",
              "      display: none;\n",
              "      fill: #1967D2;\n",
              "      height: 32px;\n",
              "      padding: 0 0 0 0;\n",
              "      width: 32px;\n",
              "    }\n",
              "\n",
              "    .colab-df-convert:hover {\n",
              "      background-color: #E2EBFA;\n",
              "      box-shadow: 0px 1px 2px rgba(60, 64, 67, 0.3), 0px 1px 3px 1px rgba(60, 64, 67, 0.15);\n",
              "      fill: #174EA6;\n",
              "    }\n",
              "\n",
              "    .colab-df-buttons div {\n",
              "      margin-bottom: 4px;\n",
              "    }\n",
              "\n",
              "    [theme=dark] .colab-df-convert {\n",
              "      background-color: #3B4455;\n",
              "      fill: #D2E3FC;\n",
              "    }\n",
              "\n",
              "    [theme=dark] .colab-df-convert:hover {\n",
              "      background-color: #434B5C;\n",
              "      box-shadow: 0px 1px 3px 1px rgba(0, 0, 0, 0.15);\n",
              "      filter: drop-shadow(0px 1px 2px rgba(0, 0, 0, 0.3));\n",
              "      fill: #FFFFFF;\n",
              "    }\n",
              "  </style>\n",
              "\n",
              "    <script>\n",
              "      const buttonEl =\n",
              "        document.querySelector('#df-d2f670b9-df04-4385-99c9-b9d4bac42625 button.colab-df-convert');\n",
              "      buttonEl.style.display =\n",
              "        google.colab.kernel.accessAllowed ? 'block' : 'none';\n",
              "\n",
              "      async function convertToInteractive(key) {\n",
              "        const element = document.querySelector('#df-d2f670b9-df04-4385-99c9-b9d4bac42625');\n",
              "        const dataTable =\n",
              "          await google.colab.kernel.invokeFunction('convertToInteractive',\n",
              "                                                    [key], {});\n",
              "        if (!dataTable) return;\n",
              "\n",
              "        const docLinkHtml = 'Like what you see? Visit the ' +\n",
              "          '<a target=\"_blank\" href=https://colab.research.google.com/notebooks/data_table.ipynb>data table notebook</a>'\n",
              "          + ' to learn more about interactive tables.';\n",
              "        element.innerHTML = '';\n",
              "        dataTable['output_type'] = 'display_data';\n",
              "        await google.colab.output.renderOutput(dataTable, element);\n",
              "        const docLink = document.createElement('div');\n",
              "        docLink.innerHTML = docLinkHtml;\n",
              "        element.appendChild(docLink);\n",
              "      }\n",
              "    </script>\n",
              "  </div>\n",
              "\n",
              "    </div>\n",
              "  </div>\n"
            ]
          },
          "metadata": {},
          "execution_count": 170
        }
      ]
    },
    {
      "cell_type": "markdown",
      "source": [
        "As we can see in row 0, the concatenated column have repeated sentences (e.g \"The group then begin wrecking the bar, smashing the fixtures, mirrors, and breaking the cash register.\")\n",
        "\n",
        "Let's dedup repeteaded sentences using nltk lib."
      ],
      "metadata": {
        "id": "5m3T9jtz3U5T"
      }
    },
    {
      "cell_type": "code",
      "source": [
        "def deduplicate_sentences(text):\n",
        "    sentences = sent_tokenize(text)\n",
        "    unique_sentences = list(dict.fromkeys(sentences))\n",
        "    cleaned_text = \" \".join(unique_sentences)\n",
        "    return cleaned_text\n",
        "\n",
        "# Apply sentence dedupliction to 'Plot_PlotSummary' column\n",
        "df['Cleaned_PlotSummary_Plot'] = df['PlotSummary_Plot'].apply(deduplicate_sentences)"
      ],
      "metadata": {
        "id": "0ZgN3_1S3Shs"
      },
      "execution_count": 171,
      "outputs": []
    },
    {
      "cell_type": "code",
      "source": [
        "# Initialize NLTK Lemmatizer and stopwords\n",
        "lemmatizer = WordNetLemmatizer()\n",
        "stop_words = set(stopwords.words('english'))\n",
        "\n",
        "def preprocess_text(text):\n",
        "    text = text.lower()\n",
        "\n",
        "    # Remove special charcters and punctuation\n",
        "    text = re.sub(r'[^\\w\\s]', '', text)\n",
        "\n",
        "    # Tokenization\n",
        "    tokens = text.split()\n",
        "\n",
        "    # Remove stopwords and apply lemmatization\n",
        "    tokens = [lemmatizer.lemmatize(token) for token in tokens if token not in stop_words]\n",
        "\n",
        "    # Reconstruct the cleaned text\n",
        "    cleaned_text = ' '.join(tokens)\n",
        "\n",
        "    return cleaned_text\n",
        "\n",
        "# Apply NLP preproc to 'Cleaned_PlotSummary_Plot' column\n",
        "df['Cleaned_PlotSummary_Plot'] = df['Cleaned_PlotSummary_Plot'].apply(preprocess_text)\n"
      ],
      "metadata": {
        "id": "nhlU623H6jcf"
      },
      "execution_count": 172,
      "outputs": []
    },
    {
      "cell_type": "code",
      "source": [
        "df = df[['Cleaned_PlotSummary_Plot', 'PlotSummary_Plot', 'Plot', 'PlotSummary']]"
      ],
      "metadata": {
        "id": "2v2tm4XfS4oY"
      },
      "execution_count": 173,
      "outputs": []
    },
    {
      "cell_type": "code",
      "source": [
        "df.sample(2)"
      ],
      "metadata": {
        "colab": {
          "base_uri": "https://localhost:8080/",
          "height": 1224
        },
        "id": "gbAqOCuW8Wpr",
        "outputId": "37818d7f-29c6-45c8-cc0f-842974304849"
      },
      "execution_count": 174,
      "outputs": [
        {
          "output_type": "execute_result",
          "data": {
            "text/plain": [
              "                                Cleaned_PlotSummary_Plot                                   PlotSummary_Plot                                               Plot  \\\n",
              "19474  matt kirk three accomplice take refuge fort de...  Matt Kirk and his three accomplices take refug...  An ambulance drives through Sydney, having bee...   \n",
              "2244   film set mid late 19th century depicts émile z...  The film is set in the mid through late 19th c...  Set in the mid through late 19th century, it d...   \n",
              "\n",
              "                                             PlotSummary  \n",
              "19474  Matt Kirk and his three accomplices take refug...  \n",
              "2244   The film is set in the mid through late 19th c...  "
            ],
            "text/html": [
              "\n",
              "  <div id=\"df-303fbdb7-57b8-4ad3-8c0f-7b1181a376a1\" class=\"colab-df-container\">\n",
              "    <div>\n",
              "<style scoped>\n",
              "    .dataframe tbody tr th:only-of-type {\n",
              "        vertical-align: middle;\n",
              "    }\n",
              "\n",
              "    .dataframe tbody tr th {\n",
              "        vertical-align: top;\n",
              "    }\n",
              "\n",
              "    .dataframe thead th {\n",
              "        text-align: right;\n",
              "    }\n",
              "</style>\n",
              "<table border=\"1\" class=\"dataframe\">\n",
              "  <thead>\n",
              "    <tr style=\"text-align: right;\">\n",
              "      <th></th>\n",
              "      <th>Cleaned_PlotSummary_Plot</th>\n",
              "      <th>PlotSummary_Plot</th>\n",
              "      <th>Plot</th>\n",
              "      <th>PlotSummary</th>\n",
              "    </tr>\n",
              "  </thead>\n",
              "  <tbody>\n",
              "    <tr>\n",
              "      <th>19474</th>\n",
              "      <td>matt kirk three accomplice take refuge fort de...</td>\n",
              "      <td>Matt Kirk and his three accomplices take refug...</td>\n",
              "      <td>An ambulance drives through Sydney, having bee...</td>\n",
              "      <td>Matt Kirk and his three accomplices take refug...</td>\n",
              "    </tr>\n",
              "    <tr>\n",
              "      <th>2244</th>\n",
              "      <td>film set mid late 19th century depicts émile z...</td>\n",
              "      <td>The film is set in the mid through late 19th c...</td>\n",
              "      <td>Set in the mid through late 19th century, it d...</td>\n",
              "      <td>The film is set in the mid through late 19th c...</td>\n",
              "    </tr>\n",
              "  </tbody>\n",
              "</table>\n",
              "</div>\n",
              "    <div class=\"colab-df-buttons\">\n",
              "\n",
              "  <div class=\"colab-df-container\">\n",
              "    <button class=\"colab-df-convert\" onclick=\"convertToInteractive('df-303fbdb7-57b8-4ad3-8c0f-7b1181a376a1')\"\n",
              "            title=\"Convert this dataframe to an interactive table.\"\n",
              "            style=\"display:none;\">\n",
              "\n",
              "  <svg xmlns=\"http://www.w3.org/2000/svg\" height=\"24px\" viewBox=\"0 -960 960 960\">\n",
              "    <path d=\"M120-120v-720h720v720H120Zm60-500h600v-160H180v160Zm220 220h160v-160H400v160Zm0 220h160v-160H400v160ZM180-400h160v-160H180v160Zm440 0h160v-160H620v160ZM180-180h160v-160H180v160Zm440 0h160v-160H620v160Z\"/>\n",
              "  </svg>\n",
              "    </button>\n",
              "\n",
              "  <style>\n",
              "    .colab-df-container {\n",
              "      display:flex;\n",
              "      gap: 12px;\n",
              "    }\n",
              "\n",
              "    .colab-df-convert {\n",
              "      background-color: #E8F0FE;\n",
              "      border: none;\n",
              "      border-radius: 50%;\n",
              "      cursor: pointer;\n",
              "      display: none;\n",
              "      fill: #1967D2;\n",
              "      height: 32px;\n",
              "      padding: 0 0 0 0;\n",
              "      width: 32px;\n",
              "    }\n",
              "\n",
              "    .colab-df-convert:hover {\n",
              "      background-color: #E2EBFA;\n",
              "      box-shadow: 0px 1px 2px rgba(60, 64, 67, 0.3), 0px 1px 3px 1px rgba(60, 64, 67, 0.15);\n",
              "      fill: #174EA6;\n",
              "    }\n",
              "\n",
              "    .colab-df-buttons div {\n",
              "      margin-bottom: 4px;\n",
              "    }\n",
              "\n",
              "    [theme=dark] .colab-df-convert {\n",
              "      background-color: #3B4455;\n",
              "      fill: #D2E3FC;\n",
              "    }\n",
              "\n",
              "    [theme=dark] .colab-df-convert:hover {\n",
              "      background-color: #434B5C;\n",
              "      box-shadow: 0px 1px 3px 1px rgba(0, 0, 0, 0.15);\n",
              "      filter: drop-shadow(0px 1px 2px rgba(0, 0, 0, 0.3));\n",
              "      fill: #FFFFFF;\n",
              "    }\n",
              "  </style>\n",
              "\n",
              "    <script>\n",
              "      const buttonEl =\n",
              "        document.querySelector('#df-303fbdb7-57b8-4ad3-8c0f-7b1181a376a1 button.colab-df-convert');\n",
              "      buttonEl.style.display =\n",
              "        google.colab.kernel.accessAllowed ? 'block' : 'none';\n",
              "\n",
              "      async function convertToInteractive(key) {\n",
              "        const element = document.querySelector('#df-303fbdb7-57b8-4ad3-8c0f-7b1181a376a1');\n",
              "        const dataTable =\n",
              "          await google.colab.kernel.invokeFunction('convertToInteractive',\n",
              "                                                    [key], {});\n",
              "        if (!dataTable) return;\n",
              "\n",
              "        const docLinkHtml = 'Like what you see? Visit the ' +\n",
              "          '<a target=\"_blank\" href=https://colab.research.google.com/notebooks/data_table.ipynb>data table notebook</a>'\n",
              "          + ' to learn more about interactive tables.';\n",
              "        element.innerHTML = '';\n",
              "        dataTable['output_type'] = 'display_data';\n",
              "        await google.colab.output.renderOutput(dataTable, element);\n",
              "        const docLink = document.createElement('div');\n",
              "        docLink.innerHTML = docLinkHtml;\n",
              "        element.appendChild(docLink);\n",
              "      }\n",
              "    </script>\n",
              "  </div>\n",
              "\n",
              "    </div>\n",
              "  </div>\n"
            ]
          },
          "metadata": {},
          "execution_count": 174
        }
      ]
    },
    {
      "cell_type": "markdown",
      "source": [
        "As a first step I'll use the data points where after concatenation the length is < 1024 for the similarity search and evaluate results. Given the model I pretend to use (BERT) tokenizes the text using a vector of 512, given it automatically truncates and pads the text, I'd like to experiment using this filter to speed up execution time of tokenization.\n"
      ],
      "metadata": {
        "id": "9ateb4Mfqdvi"
      }
    },
    {
      "cell_type": "code",
      "source": [
        "cleaned_length = df['Cleaned_PlotSummary_Plot'].apply(lambda x: len(x.split()))\n",
        "print(\"Statistics of cleaned concatenated lengths:\")\n",
        "print(cleaned_length.describe())"
      ],
      "metadata": {
        "colab": {
          "base_uri": "https://localhost:8080/",
          "height": 0
        },
        "id": "5R8pL_CY7WYq",
        "outputId": "844ba5f9-490d-46a4-d09e-5f336c1e20c2"
      },
      "execution_count": 175,
      "outputs": [
        {
          "output_type": "stream",
          "name": "stdout",
          "text": [
            "Statistics of cleaned concatenated lengths:\n",
            "count    33869.000000\n",
            "mean       232.231893\n",
            "std        176.752179\n",
            "min         16.000000\n",
            "25%         90.000000\n",
            "50%        183.000000\n",
            "75%        352.000000\n",
            "max       3614.000000\n",
            "Name: Cleaned_PlotSummary_Plot, dtype: float64\n"
          ]
        }
      ]
    },
    {
      "cell_type": "code",
      "source": [
        "count_above_1024 = (cleaned_length > 1024).sum()\n",
        "print(f\"Number of rows with concat length > 1024: {count_above_1024}\")"
      ],
      "metadata": {
        "colab": {
          "base_uri": "https://localhost:8080/",
          "height": 0
        },
        "id": "tRID_nHtI8Oa",
        "outputId": "808d0393-846f-4c26-a2ee-165c150e60ec"
      },
      "execution_count": 176,
      "outputs": [
        {
          "output_type": "stream",
          "name": "stdout",
          "text": [
            "Number of rows with concat length > 1024: 80\n"
          ]
        }
      ]
    },
    {
      "cell_type": "code",
      "source": [
        "max_word_count = 1024\n",
        "print(f\"DF length before filtering\", len(df))\n",
        "df = df[df['Cleaned_PlotSummary_Plot'].apply(lambda x: len(x.split())) <= max_word_count]\n",
        "df = df.reset_index(drop=True)  # Reset index and drop the old index column\n",
        "print(f\"DF length after filtering\", len(df))"
      ],
      "metadata": {
        "colab": {
          "base_uri": "https://localhost:8080/",
          "height": 0
        },
        "id": "z-QINs_zKslM",
        "outputId": "3b997ad2-6587-4880-80a9-670a53be89f7"
      },
      "execution_count": 177,
      "outputs": [
        {
          "output_type": "stream",
          "name": "stdout",
          "text": [
            "DF length before filtering 33869\n",
            "DF length after filtering 33789\n"
          ]
        }
      ]
    },
    {
      "cell_type": "markdown",
      "source": [
        "# Semantic Search with FAISS\n"
      ],
      "metadata": {
        "id": "zlvXp4Tp1Qe-"
      }
    },
    {
      "cell_type": "markdown",
      "source": [
        "## Model selection\n",
        "\n",
        "BERT (Bidirectional Encoder Representations from Transformers) is chosen for this task because of its pre-trained nature and contextual understanding of language. BERT-based models have demonstrated exceptional performance in various NLP tasks, including semantic similarity and search. By pre-training on a large corpus, BERT learns rich word representations that capture semantic meaning, context, and relationships.\n",
        "\n",
        "In our case, we're dealing with text data that requires capturing the inner understanding of movie plots and summaries. BERT's bidirectional architecture allows it to understand the context of each word in relation to the entire sentence (also, attention based model). Additionally, BERT's embeddings are particularly well-suited for semantic search tasks, as they encode high-level features that represent the underlying semantics of the text.\n",
        "\n",
        "Using BERT embeddings, we can create meaningful representations of both \"Plot\" and \"PlotSummary\" text data, enabling accurate semantic similarity calculations for our searches.\n",
        "\n",
        "Let's try with BERT and then analyze other alternatives (additional questions section)."
      ],
      "metadata": {
        "id": "_gep4-Yh1Vti"
      }
    },
    {
      "cell_type": "code",
      "source": [
        "device = torch.device(\"cuda\" if torch.cuda.is_available() else \"cpu\")\n",
        "print(device)"
      ],
      "metadata": {
        "colab": {
          "base_uri": "https://localhost:8080/",
          "height": 0
        },
        "id": "tbiIMgHqPys2",
        "outputId": "0d4ea1d6-68e5-4175-f849-0f40d696897d"
      },
      "execution_count": 178,
      "outputs": [
        {
          "output_type": "stream",
          "name": "stdout",
          "text": [
            "cuda\n"
          ]
        }
      ]
    },
    {
      "cell_type": "code",
      "source": [
        "# Load the pre-trained BERT model and tokenizer\n",
        "model_name = \"bert-base-uncased\"\n",
        "tokenizer = BertTokenizer.from_pretrained(model_name)\n",
        "model = BertModel.from_pretrained(model_name).to(device)"
      ],
      "metadata": {
        "id": "rT-Bpo1dlEgO",
        "colab": {
          "base_uri": "https://localhost:8080/",
          "height": 145,
          "referenced_widgets": [
            "df166c9201d34569a49a6f83e79f1608",
            "062d11e4eed7413e951de60b027a2bde",
            "aa88137dc55047648a333a30b3cc6371",
            "1a086a765f6b40e1b1f6b833978ca19f",
            "521d6dab1f20456fa5dc516c97a8e30f",
            "ffa3674910164726b54e93c0f12f9f33",
            "0c81128c48654c57b82cf4e0e96560cf",
            "efa84c32f5414483b18aa365f8192643",
            "69e4b0713d164706bac1a3c6422045be",
            "1985366fc86a4dca98966f50680adb67",
            "7867e9e17c9c4032b3aa9316e80787fb",
            "98cf1fc291814c3b89f6c4c08a469a45",
            "9a05fdf2eca045dc914c7ed8df5b27a8",
            "41809b7e781547d19170071ca0837310",
            "b10bdcddde7d418698fae203e0078917",
            "1ca779f2f71f40768fca644d91112a5d",
            "ff7679194d93450b82ce43195754bfa6",
            "606d593eb9a44651b741995a2dc9d9d1",
            "cbe2df77d9ca464e84a714804aab9b2e",
            "78e803ac1aa24ec5b8785f4b12f9ad82",
            "d99373538bf14fb6bf7f92b1ba044b51",
            "bacb653bc43f4325bf1b4d7b95d76ff1",
            "4439206f640f42df9072e603bfb93a02",
            "6f23f702d0f44b3f8dd91bd17decc9eb",
            "5eb2aef7031243538302daa58648bfe7",
            "862304f5b609497384b63d736fd34ca7",
            "4765b3d545ec409caf93c7daf49ed0e7",
            "332821dd8c2f416b91bf0fae94022cfb",
            "36dc62d92fa34d758aa1f732776c95e4",
            "8322c739d17e4b6eb7b63d66e6da0e75",
            "f7162ce229f8456faacfaa6774bd5367",
            "fc6d631e59464a1590f7e1f8419f04d5",
            "5b024ce449ca406b881e1d22f6e37d3d",
            "655ba53f2ff44fbaa3e2c13baaddd6d5",
            "ea96c624d0c444399975039227bf74ea",
            "2cfcc3785f4b4c6a9a3c7accf528b61b",
            "25518aa668fd475caefc3028a43458f7",
            "ab26d7b079af4178b0a409dbb49468c0",
            "8695c3509ce549d198d930ac3fe5cb53",
            "d1f6ce0fedfd4075afe18a26251267c2",
            "1dde3cb962fe46e5b4d78e68585e9bd9",
            "184acbfaded54fd4a36986d664ab7b26",
            "86e3e5bc9c74425f948761c69ee3c296",
            "5e05efa141784b6eb5f295c5079ac5fe"
          ]
        },
        "outputId": "fc708200-0ffa-4fb5-f725-f5a075b62b13"
      },
      "execution_count": 179,
      "outputs": [
        {
          "output_type": "display_data",
          "data": {
            "text/plain": [
              "Downloading (…)solve/main/vocab.txt:   0%|          | 0.00/232k [00:00<?, ?B/s]"
            ],
            "application/vnd.jupyter.widget-view+json": {
              "version_major": 2,
              "version_minor": 0,
              "model_id": "df166c9201d34569a49a6f83e79f1608"
            }
          },
          "metadata": {}
        },
        {
          "output_type": "display_data",
          "data": {
            "text/plain": [
              "Downloading (…)okenizer_config.json:   0%|          | 0.00/28.0 [00:00<?, ?B/s]"
            ],
            "application/vnd.jupyter.widget-view+json": {
              "version_major": 2,
              "version_minor": 0,
              "model_id": "98cf1fc291814c3b89f6c4c08a469a45"
            }
          },
          "metadata": {}
        },
        {
          "output_type": "display_data",
          "data": {
            "text/plain": [
              "Downloading (…)lve/main/config.json:   0%|          | 0.00/570 [00:00<?, ?B/s]"
            ],
            "application/vnd.jupyter.widget-view+json": {
              "version_major": 2,
              "version_minor": 0,
              "model_id": "4439206f640f42df9072e603bfb93a02"
            }
          },
          "metadata": {}
        },
        {
          "output_type": "display_data",
          "data": {
            "text/plain": [
              "Downloading model.safetensors:   0%|          | 0.00/440M [00:00<?, ?B/s]"
            ],
            "application/vnd.jupyter.widget-view+json": {
              "version_major": 2,
              "version_minor": 0,
              "model_id": "655ba53f2ff44fbaa3e2c13baaddd6d5"
            }
          },
          "metadata": {}
        }
      ]
    },
    {
      "cell_type": "code",
      "source": [
        "def create_embeddings(text):\n",
        "    inputs = tokenizer(text, return_tensors=\"pt\", padding=True, truncation=True)\n",
        "\n",
        "    with torch.no_grad(): # Don't want to compute gradients since I'm in inference phase\n",
        "        inputs.to('cuda')\n",
        "        output = model(**inputs)  # Forward pass through the BERT model by unpacking inputs dict to key-val format\n",
        "\n",
        "    return output.pooler_output.cpu().numpy()  # Return the pooled output embeddings\n"
      ],
      "metadata": {
        "id": "m1z1SQty8Tjg"
      },
      "execution_count": 180,
      "outputs": []
    },
    {
      "cell_type": "code",
      "source": [
        "# Batch processing and profiling\n",
        "batch_size = 64\n",
        "total_rows = len(df)\n",
        "num_batches = (total_rows + batch_size - 1) // batch_size\n",
        "\n",
        "# Initialize the combined embeddings array\n",
        "combined_embeddings = []\n",
        "\n",
        "start_time = time.time()\n",
        "\n",
        "# Process data in batches using tqdm for progress tracking\n",
        "for batch_idx in tqdm(range(num_batches), desc=\"Processing batches\"):\n",
        "    start_idx = batch_idx * batch_size\n",
        "    end_idx = min((batch_idx + 1) * batch_size, total_rows)\n",
        "    batch_data = df['Cleaned_PlotSummary_Plot'][start_idx:end_idx]\n",
        "\n",
        "    # Create embeddings for the current batch\n",
        "    batch_embeddings = np.array([create_embeddings(text) for text in batch_data])\n",
        "    combined_embeddings.append(batch_embeddings)\n",
        "\n",
        "# concatenates batches results along rows, and then removes any singleton dimensions, resulting in a flattened array\n",
        "combined_embeddings = np.concatenate(combined_embeddings, axis=0).squeeze()\n",
        "\n",
        "end_time = time.time()\n",
        "print(f\"\\nTime taken for embedding generation: {end_time - start_time:.2f} seconds\")\n"
      ],
      "metadata": {
        "colab": {
          "base_uri": "https://localhost:8080/",
          "height": 0
        },
        "id": "YtsfpbZa9iVo",
        "outputId": "48d7e542-f933-401c-da33-dacbfd874882"
      },
      "execution_count": 181,
      "outputs": [
        {
          "output_type": "stream",
          "name": "stderr",
          "text": [
            "Processing batches: 100%|██████████| 528/528 [15:27<00:00,  1.76s/it]"
          ]
        },
        {
          "output_type": "stream",
          "name": "stdout",
          "text": [
            "\n",
            "Time taken for embedding generation: 927.05 seconds\n"
          ]
        },
        {
          "output_type": "stream",
          "name": "stderr",
          "text": [
            "\n"
          ]
        }
      ]
    },
    {
      "cell_type": "code",
      "source": [
        "combined_embeddings.shape"
      ],
      "metadata": {
        "colab": {
          "base_uri": "https://localhost:8080/",
          "height": 0
        },
        "id": "hJGInZpiTUIm",
        "outputId": "dba27089-3851-4a7e-8e72-8e56e4e09ac8"
      },
      "execution_count": 182,
      "outputs": [
        {
          "output_type": "execute_result",
          "data": {
            "text/plain": [
              "(33789, 768)"
            ]
          },
          "metadata": {},
          "execution_count": 182
        }
      ]
    },
    {
      "cell_type": "code",
      "source": [
        "# Define the path to save the file\n",
        "save_path = '/content/drive/My Drive/combined_embeddings_movies.npy'\n",
        "\n",
        "# Save the combined_embeddings array\n",
        "np.save(save_path, combined_embeddings)"
      ],
      "metadata": {
        "id": "W97yXRsYp75b"
      },
      "execution_count": 183,
      "outputs": []
    },
    {
      "cell_type": "code",
      "source": [
        "# load_path = '/content/drive/My Drive/combined_embeddings_movies.npy'\n",
        "\n",
        "# # Load the combined_embeddings array\n",
        "# loaded_embeddings = np.load(load_path)"
      ],
      "metadata": {
        "id": "OTlpXuTnqDF7"
      },
      "execution_count": 184,
      "outputs": []
    },
    {
      "cell_type": "code",
      "source": [
        "# Normalize embeddings using L2 normalization\n",
        "faiss.normalize_L2(combined_embeddings)"
      ],
      "metadata": {
        "id": "c_sNA164XGvA"
      },
      "execution_count": 185,
      "outputs": []
    },
    {
      "cell_type": "code",
      "source": [
        "# Create a single FAISS index for 'Plot_PlotSummary' embeddings\n",
        "index = faiss.IndexFlatIP(combined_embeddings.shape[1])\n",
        "index.add(combined_embeddings)"
      ],
      "metadata": {
        "id": "HLTzI6qtXI6S"
      },
      "execution_count": 186,
      "outputs": []
    },
    {
      "cell_type": "code",
      "source": [
        "# Function to perform semantic search using a given query\n",
        "def semantic_search(query, index):\n",
        "    query_embedding = create_embeddings(query)\n",
        "    faiss.normalize_L2(query_embedding)\n",
        "\n",
        "    # Perform similarity search using the FAISS index\n",
        "    D, I = index.search(query_embedding, k=5)  # Return top 5 most similar indices\n",
        "    return I"
      ],
      "metadata": {
        "id": "hoLXlCyF_J54"
      },
      "execution_count": 192,
      "outputs": []
    },
    {
      "cell_type": "code",
      "source": [
        "example_queries = [\"action-packed adventure\", \"romantic love story\", \"mystery thriller\"]\n",
        "search_times = []\n",
        "\n",
        "for query in example_queries:\n",
        "    start_time = time.time()\n",
        "    similar_indices = semantic_search(query, index)\n",
        "    end_time = time.time()\n",
        "\n",
        "    # Track time\n",
        "    search_time = end_time - start_time\n",
        "    search_times.append(search_time)\n",
        "\n",
        "    # Access the rows using Pandas indexing\n",
        "    similar_plots = df.iloc[similar_indices[0]]['Plot']\n",
        "    similar_plot_summaries = df.iloc[similar_indices[0]]['PlotSummary']\n",
        "\n",
        "    # Print the results\n",
        "    print(\"\\n-----> Query:\", query)\n",
        "    print(\"\\n ** Top similar plots and plot summaries:\")\n",
        "    for i, (plot, summary) in enumerate(zip(similar_plots, similar_plot_summaries)):\n",
        "        print(f\"\\nResult {i+1}:\\nPlot: {plot}\\nSummary: {summary}\\n\")\n",
        "\n",
        "    print(f\"Search Time: {search_time:.4f} seconds \\n\\n\")\n",
        "\n",
        "\n",
        "# Calculate average search time\n",
        "average_search_time = sum(search_times) / len(search_times)\n",
        "print(f\"Average Search Time: {average_search_time:.4f} seconds\")"
      ],
      "metadata": {
        "colab": {
          "base_uri": "https://localhost:8080/",
          "height": 0
        },
        "id": "J9qGIJA2YTe4",
        "outputId": "98c12fbd-abe5-4aef-8a75-998b4460fccc"
      },
      "execution_count": 197,
      "outputs": [
        {
          "output_type": "stream",
          "name": "stdout",
          "text": [
            "\n",
            "-----> Query: action-packed adventure\n",
            "\n",
            " ** Top similar plots and plot summaries:\n",
            "\n",
            "Result 1:\n",
            "Plot: The film is \"(a) tale of chivalry in modern times, involving a Glasgow grocer and a Russian princess imprisoned in a deserted castle\" according to the British Film Institute.[3]\n",
            "Summary: The film is \"(a) tale of chivalry in modern times, involving a Glasgow grocer and a Russian princess imprisoned in a deserted castle\" according to the British Film Institute. The film was \"a tale of (chivalry in) modern times\" involving a Scottish grocer and Russian princess.\n",
            "\n",
            "\n",
            "Result 2:\n",
            "Plot: The story revolves around three love stories that run simultaneously. The background of the movie is a construction of a crossroads with 4 roads and all people are related to the road that is being built and are involved. How the love stories unfold forms the crux of the movie.\n",
            "Summary: The story revolves around three love stories that run simultaneously. The background of the movie is a construction of a crossroads with 4 roads. All people are related to the road that is being built and are involved. How the love stories unfold forms the crux of the film.\n",
            "\n",
            "\n",
            "Result 3:\n",
            "Plot: \n",
            "Summary: Doug is a factory worker living in Melbourne who dreams of moving from Melbourne to Queensland. He attempts to reconnect with an old flame, Marge, and move to Queensland together. Doug dreams of reconnecting with Marge and moving to Queensland with her old flame Marge.\n",
            "\n",
            "\n",
            "Result 4:\n",
            "Plot: The story tells the fun and misunderstanding between people due to mistaken identities. The main character being a woman who behaves in a queer way to attract the attention of a young rich man whom she falls in love with.[3]\n",
            "Summary: The story tells the fun and misunderstanding between people due to mistaken identities. The main character being a woman who behaves in a queer way to attract the attention of a young rich man whom she falls in love with. The story is based on a story of a woman falling in love for a rich man.\n",
            "\n",
            "\n",
            "Result 5:\n",
            "Plot: The movie was a musical comedy, narrating the hilarious events that unfold a strong-willed daughter of a wealthy man desires to marry a shy professor in preference to a rich suitor chosen by her father. She poses as twin sisters to wriggle out of the situation, and in the pandemonium that follows, lands in deeper trouble.\n",
            "Summary: The movie was a musical comedy, narrating the hilarious events that unfold. Strong-willed daughter of a wealthy man desires to marry a shy professor in preference to a rich suitor chosen by her father. She poses as twin sisters to wriggle out of the situation, and lands in deeper trouble.\n",
            "\n",
            "Search Time: 0.1496 seconds \n",
            "\n",
            "\n",
            "\n",
            "-----> Query: romantic love story\n",
            "\n",
            " ** Top similar plots and plot summaries:\n",
            "\n",
            "Result 1:\n",
            "Plot: \n",
            "Summary: A beautiful but frustrated housewife begins an affair with a former childhood friend. When her suspicious husband starts to show signs of jealousy, the adulterous couple plot to murder him. The film is based on a plot by the wife and her husband who have an affair.\n",
            "\n",
            "\n",
            "Result 2:\n",
            "Plot: The film is mainly based on the rural background. This movie contains a triangular romance between a young woman and two young men.[3][7]\n",
            "Summary: This movie contains a triangular romance between a young woman and two young men. The film is mainly based on the rural background of the film. The movie is based on a triangle romance between the two men and a woman who have a love interest in each other's lives.\n",
            "\n",
            "\n",
            "Result 3:\n",
            "Plot: \n",
            "Summary: While working at a top hotel, the head porter falls in love with a wealthy female guest. The film is based on the story of a young hotel worker who fell in love for a wealthy guest. It is set in New York City, New York, USA and London, USA.\n",
            "\n",
            "\n",
            "Result 4:\n",
            "Plot: \n",
            "Summary: An aristocrat marries a singer, but then tries to murder her when he falls in love with another woman. The aristocrat tries to kill the singer when he finds out he has a love for another woman in love. The film is based on the story of an aristocrat's marriage to a singer.\n",
            "\n",
            "\n",
            "Result 5:\n",
            "Plot: \n",
            "Summary: The story takes place in old Mexico, where a masked rider (Talmadge) and an impoverished girl (Bedford) fall in love, against her father's wishes. When she leaves with him, her father sends his gang in a chase after the two lovers.\n",
            "\n",
            "Search Time: 0.1296 seconds \n",
            "\n",
            "\n",
            "\n",
            "-----> Query: mystery thriller\n",
            "\n",
            " ** Top similar plots and plot summaries:\n",
            "\n",
            "Result 1:\n",
            "Plot: The film tells the story of the relationship between T. S. Eliot and his first wife, Vivienne Haigh-Wood Eliot. They were married in 1915 after a brief courtship, and separated in 1933 though they never divorced.[1]\n",
            "Summary: The film tells the story of the relationship between T. S. Eliot and his first wife, Vivienne Haigh-Wood Eliot. They were married in 1915 after a brief courtship, and separated in 1933 though they never divorced. The film was released in November 2013.\n",
            "\n",
            "\n",
            "Result 2:\n",
            "Plot: Convict 83 is a prisoner on an island, where the harsh regime of the Governor pushes him to lead a revolt.[1]\n",
            "Summary: Convict 83 is a prisoner on an island, where the harsh regime of the Governor pushes him to lead a revolt. He is led by the Governor of a harsh regime, pushing him to rebel against the Governor's harsh regime. The film is based on the novel, \"Convict 83\", and was released in October 2013.\n",
            "\n",
            "\n",
            "Result 3:\n",
            "Plot: The film is set in a fictional Iron Curtain country.[5]\n",
            "Summary: The film is set in a fictional Iron Curtain country. The film was released in 1989. It was set in the fictional country of Soviet-era Soviet Union. It is based on a fictional Cold War era in which the film was set during the Cold War. It has been released in cinemas since 1989.\n",
            "\n",
            "\n",
            "Result 4:\n",
            "Plot: It deals with a small-town boy, who comes to Calcutta to be a film actor, and gets involved in a modern-day thugee cult.[2]\n",
            "Cast\n",
            "Summary: It deals with a small-town boy, who comes to Calcutta to be a film actor, and gets involved in a modern-day thugee cult. The film is based on a real-life story of a young boy who gets involved with a cult.\n",
            "\n",
            "\n",
            "Result 5:\n",
            "Plot: \n",
            "Summary: Rainmakers Billy (Wheeler) and Roscoe (Woolsey) take on a crooked businessman out to cash in on a drought. Billy takes on the crooked businessman in a bid to cash-in-on-the-drought situation in the new drama.\n",
            "\n",
            "Search Time: 0.1086 seconds \n",
            "\n",
            "\n",
            "Average Search Time: 0.1293 seconds\n"
          ]
        }
      ]
    },
    {
      "cell_type": "markdown",
      "source": [
        "# Additional questions\n",
        "\n",
        "## Explain your choice of the Hugging Faces model for creating embeddings and its suitability for this task.\n",
        "\n",
        "[BERT](https://arxiv.org/abs/1810.04805) is an excellent choice for generating embeddings in the context of semantic similarity search due to its exceptional natural language understanding capabilities. BERT, which stands for Bidirectional Encoder Representations from Transformers, has been trained on massive amounts of text data, enabling it to comprehend the complex structures of natural language.\n",
        "\n",
        "When applied to the task of creating embeddings for movie plots and summaries, BERT effectively translates textual content into dense representations that encapsulate the semantic meaning of the text. BERT's differencial vs. traditional NLP models lies in the attention mechanism, a component of the Transformer architecture, which enables it to identify and weight the importance of individual words and their contextual relationships within a sentence.\n",
        "\n",
        "In the context of semantic similarity search, BERT embeddings serve as a great tool for measuring the semantic distance between different movie plots and summaries. Given that BERT's embeddings encode semantic meaning, they provide a reliable basis for identifying similarities that extend beyond keyword matches. This results in a more robust and accurate similarity search, enabling to retrieve movies that share conceptual similarities.\n",
        "\n",
        "\n",
        "## Explore how Language Models (LLMs) like GPT or LLama could potentially improve the semantic search performance and explain the possible benefits.\n",
        "\n",
        "Integrating models like GPT or LLama into the solution could improve semantic search results. These LLMs are great in generating contextually accurate language representations. By fine-tuning these models on movie plots and summaries, we could create embeddings that capture more relationships vs. BERT tokens. This would lead to improved accuracy in similarity search results, as the LLMs can understand the context of the text in a better way. Additionally, these models could handle longer and more complex text inputs (longer tokens size), enabling more comprehension of the data processed. In essence, incorporating LLMs would increase the pipeline's ability to understand the context of movie plots and summaries, resulting in more relevant and coherent search outcomes.\n",
        "\n",
        "\n",
        "## Discuss any alternative approaches or techniques that you think could enhance the semantic search.\n",
        "\n",
        "- Instead of concatenating the plot and plot summary, we could generate embeddings separately for each text and create indexes for each column as previously mentioned. This way we avoid merging text columns and avoid loosing information.\n",
        "\n",
        "- I would try integrating the ignored columns—such as \"Title,\" \"Director,\" \"Cast,\" and \"Genre\"—into the feature representation. I'd begin by preprocessing and creating embeddings for these columns using the same BERT-based method as the \"Plot\" and \"PlotSummary\" columns. By combining these embeddings with the existing ones, I can create a more comprehensive representation of each movie. I'd then update the FAISS index to include these new embeddings and perform semantic search with queries that consider multiple aspects of the movies. This way, users can receive more relevant search results considering more attributes of the movies.\n",
        "\n",
        "- Another experiment could be creating indexes for specific categorical attributes. For example, build a Plot+Summary index for each specific genre.\n",
        "This way, the user could input a query and a specific genre (or other attr/s).\n"
      ],
      "metadata": {
        "id": "-4iKtIPcS1oE"
      }
    }
  ]
}