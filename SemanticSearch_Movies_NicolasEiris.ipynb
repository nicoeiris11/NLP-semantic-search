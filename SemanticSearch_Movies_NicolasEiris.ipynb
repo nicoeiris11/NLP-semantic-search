{
  "nbformat": 4,
  "nbformat_minor": 0,
  "metadata": {
    "colab": {
      "provenance": [],
      "gpuType": "T4",
      "include_colab_link": true
    },
    "kernelspec": {
      "name": "python3",
      "display_name": "Python 3"
    },
    "language_info": {
      "name": "python"
    },
    "accelerator": "GPU",
    "widgets": {
      "application/vnd.jupyter.widget-state+json": {
        "37a459fdee7f41dca1c5eabb256793fb": {
          "model_module": "@jupyter-widgets/controls",
          "model_name": "HBoxModel",
          "model_module_version": "1.5.0",
          "state": {
            "_dom_classes": [],
            "_model_module": "@jupyter-widgets/controls",
            "_model_module_version": "1.5.0",
            "_model_name": "HBoxModel",
            "_view_count": null,
            "_view_module": "@jupyter-widgets/controls",
            "_view_module_version": "1.5.0",
            "_view_name": "HBoxView",
            "box_style": "",
            "children": [
              "IPY_MODEL_28c6e7c4712c4ebeac5ccda980aeaf73",
              "IPY_MODEL_eeea2265657940b190e6ea4ce1bf62be",
              "IPY_MODEL_fbbbb9d027ef4edca9341eaba10a0fc4"
            ],
            "layout": "IPY_MODEL_0fd17fc7e27a45f69437f7477bce61c2"
          }
        },
        "28c6e7c4712c4ebeac5ccda980aeaf73": {
          "model_module": "@jupyter-widgets/controls",
          "model_name": "HTMLModel",
          "model_module_version": "1.5.0",
          "state": {
            "_dom_classes": [],
            "_model_module": "@jupyter-widgets/controls",
            "_model_module_version": "1.5.0",
            "_model_name": "HTMLModel",
            "_view_count": null,
            "_view_module": "@jupyter-widgets/controls",
            "_view_module_version": "1.5.0",
            "_view_name": "HTMLView",
            "description": "",
            "description_tooltip": null,
            "layout": "IPY_MODEL_ec6a37a69af1498ea9e62a24df1ead7e",
            "placeholder": "​",
            "style": "IPY_MODEL_52113e4f46b74d3d85be3f5a4d75cde3",
            "value": "Downloading (…)solve/main/vocab.txt: 100%"
          }
        },
        "eeea2265657940b190e6ea4ce1bf62be": {
          "model_module": "@jupyter-widgets/controls",
          "model_name": "FloatProgressModel",
          "model_module_version": "1.5.0",
          "state": {
            "_dom_classes": [],
            "_model_module": "@jupyter-widgets/controls",
            "_model_module_version": "1.5.0",
            "_model_name": "FloatProgressModel",
            "_view_count": null,
            "_view_module": "@jupyter-widgets/controls",
            "_view_module_version": "1.5.0",
            "_view_name": "ProgressView",
            "bar_style": "success",
            "description": "",
            "description_tooltip": null,
            "layout": "IPY_MODEL_2f052f731f53499ab80c3020a93cc5cf",
            "max": 231508,
            "min": 0,
            "orientation": "horizontal",
            "style": "IPY_MODEL_64f5c1dd3d924d3cbf6735ace1d51971",
            "value": 231508
          }
        },
        "fbbbb9d027ef4edca9341eaba10a0fc4": {
          "model_module": "@jupyter-widgets/controls",
          "model_name": "HTMLModel",
          "model_module_version": "1.5.0",
          "state": {
            "_dom_classes": [],
            "_model_module": "@jupyter-widgets/controls",
            "_model_module_version": "1.5.0",
            "_model_name": "HTMLModel",
            "_view_count": null,
            "_view_module": "@jupyter-widgets/controls",
            "_view_module_version": "1.5.0",
            "_view_name": "HTMLView",
            "description": "",
            "description_tooltip": null,
            "layout": "IPY_MODEL_a59ac8b308f5468384a44556044b61b2",
            "placeholder": "​",
            "style": "IPY_MODEL_ae11269692bc421fbf55782c9849a4a3",
            "value": " 232k/232k [00:00&lt;00:00, 4.71MB/s]"
          }
        },
        "0fd17fc7e27a45f69437f7477bce61c2": {
          "model_module": "@jupyter-widgets/base",
          "model_name": "LayoutModel",
          "model_module_version": "1.2.0",
          "state": {
            "_model_module": "@jupyter-widgets/base",
            "_model_module_version": "1.2.0",
            "_model_name": "LayoutModel",
            "_view_count": null,
            "_view_module": "@jupyter-widgets/base",
            "_view_module_version": "1.2.0",
            "_view_name": "LayoutView",
            "align_content": null,
            "align_items": null,
            "align_self": null,
            "border": null,
            "bottom": null,
            "display": null,
            "flex": null,
            "flex_flow": null,
            "grid_area": null,
            "grid_auto_columns": null,
            "grid_auto_flow": null,
            "grid_auto_rows": null,
            "grid_column": null,
            "grid_gap": null,
            "grid_row": null,
            "grid_template_areas": null,
            "grid_template_columns": null,
            "grid_template_rows": null,
            "height": null,
            "justify_content": null,
            "justify_items": null,
            "left": null,
            "margin": null,
            "max_height": null,
            "max_width": null,
            "min_height": null,
            "min_width": null,
            "object_fit": null,
            "object_position": null,
            "order": null,
            "overflow": null,
            "overflow_x": null,
            "overflow_y": null,
            "padding": null,
            "right": null,
            "top": null,
            "visibility": null,
            "width": null
          }
        },
        "ec6a37a69af1498ea9e62a24df1ead7e": {
          "model_module": "@jupyter-widgets/base",
          "model_name": "LayoutModel",
          "model_module_version": "1.2.0",
          "state": {
            "_model_module": "@jupyter-widgets/base",
            "_model_module_version": "1.2.0",
            "_model_name": "LayoutModel",
            "_view_count": null,
            "_view_module": "@jupyter-widgets/base",
            "_view_module_version": "1.2.0",
            "_view_name": "LayoutView",
            "align_content": null,
            "align_items": null,
            "align_self": null,
            "border": null,
            "bottom": null,
            "display": null,
            "flex": null,
            "flex_flow": null,
            "grid_area": null,
            "grid_auto_columns": null,
            "grid_auto_flow": null,
            "grid_auto_rows": null,
            "grid_column": null,
            "grid_gap": null,
            "grid_row": null,
            "grid_template_areas": null,
            "grid_template_columns": null,
            "grid_template_rows": null,
            "height": null,
            "justify_content": null,
            "justify_items": null,
            "left": null,
            "margin": null,
            "max_height": null,
            "max_width": null,
            "min_height": null,
            "min_width": null,
            "object_fit": null,
            "object_position": null,
            "order": null,
            "overflow": null,
            "overflow_x": null,
            "overflow_y": null,
            "padding": null,
            "right": null,
            "top": null,
            "visibility": null,
            "width": null
          }
        },
        "52113e4f46b74d3d85be3f5a4d75cde3": {
          "model_module": "@jupyter-widgets/controls",
          "model_name": "DescriptionStyleModel",
          "model_module_version": "1.5.0",
          "state": {
            "_model_module": "@jupyter-widgets/controls",
            "_model_module_version": "1.5.0",
            "_model_name": "DescriptionStyleModel",
            "_view_count": null,
            "_view_module": "@jupyter-widgets/base",
            "_view_module_version": "1.2.0",
            "_view_name": "StyleView",
            "description_width": ""
          }
        },
        "2f052f731f53499ab80c3020a93cc5cf": {
          "model_module": "@jupyter-widgets/base",
          "model_name": "LayoutModel",
          "model_module_version": "1.2.0",
          "state": {
            "_model_module": "@jupyter-widgets/base",
            "_model_module_version": "1.2.0",
            "_model_name": "LayoutModel",
            "_view_count": null,
            "_view_module": "@jupyter-widgets/base",
            "_view_module_version": "1.2.0",
            "_view_name": "LayoutView",
            "align_content": null,
            "align_items": null,
            "align_self": null,
            "border": null,
            "bottom": null,
            "display": null,
            "flex": null,
            "flex_flow": null,
            "grid_area": null,
            "grid_auto_columns": null,
            "grid_auto_flow": null,
            "grid_auto_rows": null,
            "grid_column": null,
            "grid_gap": null,
            "grid_row": null,
            "grid_template_areas": null,
            "grid_template_columns": null,
            "grid_template_rows": null,
            "height": null,
            "justify_content": null,
            "justify_items": null,
            "left": null,
            "margin": null,
            "max_height": null,
            "max_width": null,
            "min_height": null,
            "min_width": null,
            "object_fit": null,
            "object_position": null,
            "order": null,
            "overflow": null,
            "overflow_x": null,
            "overflow_y": null,
            "padding": null,
            "right": null,
            "top": null,
            "visibility": null,
            "width": null
          }
        },
        "64f5c1dd3d924d3cbf6735ace1d51971": {
          "model_module": "@jupyter-widgets/controls",
          "model_name": "ProgressStyleModel",
          "model_module_version": "1.5.0",
          "state": {
            "_model_module": "@jupyter-widgets/controls",
            "_model_module_version": "1.5.0",
            "_model_name": "ProgressStyleModel",
            "_view_count": null,
            "_view_module": "@jupyter-widgets/base",
            "_view_module_version": "1.2.0",
            "_view_name": "StyleView",
            "bar_color": null,
            "description_width": ""
          }
        },
        "a59ac8b308f5468384a44556044b61b2": {
          "model_module": "@jupyter-widgets/base",
          "model_name": "LayoutModel",
          "model_module_version": "1.2.0",
          "state": {
            "_model_module": "@jupyter-widgets/base",
            "_model_module_version": "1.2.0",
            "_model_name": "LayoutModel",
            "_view_count": null,
            "_view_module": "@jupyter-widgets/base",
            "_view_module_version": "1.2.0",
            "_view_name": "LayoutView",
            "align_content": null,
            "align_items": null,
            "align_self": null,
            "border": null,
            "bottom": null,
            "display": null,
            "flex": null,
            "flex_flow": null,
            "grid_area": null,
            "grid_auto_columns": null,
            "grid_auto_flow": null,
            "grid_auto_rows": null,
            "grid_column": null,
            "grid_gap": null,
            "grid_row": null,
            "grid_template_areas": null,
            "grid_template_columns": null,
            "grid_template_rows": null,
            "height": null,
            "justify_content": null,
            "justify_items": null,
            "left": null,
            "margin": null,
            "max_height": null,
            "max_width": null,
            "min_height": null,
            "min_width": null,
            "object_fit": null,
            "object_position": null,
            "order": null,
            "overflow": null,
            "overflow_x": null,
            "overflow_y": null,
            "padding": null,
            "right": null,
            "top": null,
            "visibility": null,
            "width": null
          }
        },
        "ae11269692bc421fbf55782c9849a4a3": {
          "model_module": "@jupyter-widgets/controls",
          "model_name": "DescriptionStyleModel",
          "model_module_version": "1.5.0",
          "state": {
            "_model_module": "@jupyter-widgets/controls",
            "_model_module_version": "1.5.0",
            "_model_name": "DescriptionStyleModel",
            "_view_count": null,
            "_view_module": "@jupyter-widgets/base",
            "_view_module_version": "1.2.0",
            "_view_name": "StyleView",
            "description_width": ""
          }
        },
        "29e3344c041b484ab8deac1c9e21e0ea": {
          "model_module": "@jupyter-widgets/controls",
          "model_name": "HBoxModel",
          "model_module_version": "1.5.0",
          "state": {
            "_dom_classes": [],
            "_model_module": "@jupyter-widgets/controls",
            "_model_module_version": "1.5.0",
            "_model_name": "HBoxModel",
            "_view_count": null,
            "_view_module": "@jupyter-widgets/controls",
            "_view_module_version": "1.5.0",
            "_view_name": "HBoxView",
            "box_style": "",
            "children": [
              "IPY_MODEL_ac46f337f3b54d489cfefca2ea8ceb55",
              "IPY_MODEL_b542ec7e6bb94b73ab5c4a546e259640",
              "IPY_MODEL_b4d7e99f6fe742a4b16c762e837e1380"
            ],
            "layout": "IPY_MODEL_a3a84f0040c64f6194105e6a33873de8"
          }
        },
        "ac46f337f3b54d489cfefca2ea8ceb55": {
          "model_module": "@jupyter-widgets/controls",
          "model_name": "HTMLModel",
          "model_module_version": "1.5.0",
          "state": {
            "_dom_classes": [],
            "_model_module": "@jupyter-widgets/controls",
            "_model_module_version": "1.5.0",
            "_model_name": "HTMLModel",
            "_view_count": null,
            "_view_module": "@jupyter-widgets/controls",
            "_view_module_version": "1.5.0",
            "_view_name": "HTMLView",
            "description": "",
            "description_tooltip": null,
            "layout": "IPY_MODEL_09c12f021c1649b3bc5d5e5ce2b7a03f",
            "placeholder": "​",
            "style": "IPY_MODEL_a6677db2d21b4a4792ae4b1c2b46d9f1",
            "value": "Downloading (…)okenizer_config.json: 100%"
          }
        },
        "b542ec7e6bb94b73ab5c4a546e259640": {
          "model_module": "@jupyter-widgets/controls",
          "model_name": "FloatProgressModel",
          "model_module_version": "1.5.0",
          "state": {
            "_dom_classes": [],
            "_model_module": "@jupyter-widgets/controls",
            "_model_module_version": "1.5.0",
            "_model_name": "FloatProgressModel",
            "_view_count": null,
            "_view_module": "@jupyter-widgets/controls",
            "_view_module_version": "1.5.0",
            "_view_name": "ProgressView",
            "bar_style": "success",
            "description": "",
            "description_tooltip": null,
            "layout": "IPY_MODEL_48ec6fd32fc3469980d3c7b0a6c23676",
            "max": 28,
            "min": 0,
            "orientation": "horizontal",
            "style": "IPY_MODEL_ae79dba743ff450c9d00a386a1b4c7d1",
            "value": 28
          }
        },
        "b4d7e99f6fe742a4b16c762e837e1380": {
          "model_module": "@jupyter-widgets/controls",
          "model_name": "HTMLModel",
          "model_module_version": "1.5.0",
          "state": {
            "_dom_classes": [],
            "_model_module": "@jupyter-widgets/controls",
            "_model_module_version": "1.5.0",
            "_model_name": "HTMLModel",
            "_view_count": null,
            "_view_module": "@jupyter-widgets/controls",
            "_view_module_version": "1.5.0",
            "_view_name": "HTMLView",
            "description": "",
            "description_tooltip": null,
            "layout": "IPY_MODEL_00396e6455de4b249b130d4d48bcdd10",
            "placeholder": "​",
            "style": "IPY_MODEL_37e5d8ca4ab74b9ca36c321fac75a297",
            "value": " 28.0/28.0 [00:00&lt;00:00, 1.84kB/s]"
          }
        },
        "a3a84f0040c64f6194105e6a33873de8": {
          "model_module": "@jupyter-widgets/base",
          "model_name": "LayoutModel",
          "model_module_version": "1.2.0",
          "state": {
            "_model_module": "@jupyter-widgets/base",
            "_model_module_version": "1.2.0",
            "_model_name": "LayoutModel",
            "_view_count": null,
            "_view_module": "@jupyter-widgets/base",
            "_view_module_version": "1.2.0",
            "_view_name": "LayoutView",
            "align_content": null,
            "align_items": null,
            "align_self": null,
            "border": null,
            "bottom": null,
            "display": null,
            "flex": null,
            "flex_flow": null,
            "grid_area": null,
            "grid_auto_columns": null,
            "grid_auto_flow": null,
            "grid_auto_rows": null,
            "grid_column": null,
            "grid_gap": null,
            "grid_row": null,
            "grid_template_areas": null,
            "grid_template_columns": null,
            "grid_template_rows": null,
            "height": null,
            "justify_content": null,
            "justify_items": null,
            "left": null,
            "margin": null,
            "max_height": null,
            "max_width": null,
            "min_height": null,
            "min_width": null,
            "object_fit": null,
            "object_position": null,
            "order": null,
            "overflow": null,
            "overflow_x": null,
            "overflow_y": null,
            "padding": null,
            "right": null,
            "top": null,
            "visibility": null,
            "width": null
          }
        },
        "09c12f021c1649b3bc5d5e5ce2b7a03f": {
          "model_module": "@jupyter-widgets/base",
          "model_name": "LayoutModel",
          "model_module_version": "1.2.0",
          "state": {
            "_model_module": "@jupyter-widgets/base",
            "_model_module_version": "1.2.0",
            "_model_name": "LayoutModel",
            "_view_count": null,
            "_view_module": "@jupyter-widgets/base",
            "_view_module_version": "1.2.0",
            "_view_name": "LayoutView",
            "align_content": null,
            "align_items": null,
            "align_self": null,
            "border": null,
            "bottom": null,
            "display": null,
            "flex": null,
            "flex_flow": null,
            "grid_area": null,
            "grid_auto_columns": null,
            "grid_auto_flow": null,
            "grid_auto_rows": null,
            "grid_column": null,
            "grid_gap": null,
            "grid_row": null,
            "grid_template_areas": null,
            "grid_template_columns": null,
            "grid_template_rows": null,
            "height": null,
            "justify_content": null,
            "justify_items": null,
            "left": null,
            "margin": null,
            "max_height": null,
            "max_width": null,
            "min_height": null,
            "min_width": null,
            "object_fit": null,
            "object_position": null,
            "order": null,
            "overflow": null,
            "overflow_x": null,
            "overflow_y": null,
            "padding": null,
            "right": null,
            "top": null,
            "visibility": null,
            "width": null
          }
        },
        "a6677db2d21b4a4792ae4b1c2b46d9f1": {
          "model_module": "@jupyter-widgets/controls",
          "model_name": "DescriptionStyleModel",
          "model_module_version": "1.5.0",
          "state": {
            "_model_module": "@jupyter-widgets/controls",
            "_model_module_version": "1.5.0",
            "_model_name": "DescriptionStyleModel",
            "_view_count": null,
            "_view_module": "@jupyter-widgets/base",
            "_view_module_version": "1.2.0",
            "_view_name": "StyleView",
            "description_width": ""
          }
        },
        "48ec6fd32fc3469980d3c7b0a6c23676": {
          "model_module": "@jupyter-widgets/base",
          "model_name": "LayoutModel",
          "model_module_version": "1.2.0",
          "state": {
            "_model_module": "@jupyter-widgets/base",
            "_model_module_version": "1.2.0",
            "_model_name": "LayoutModel",
            "_view_count": null,
            "_view_module": "@jupyter-widgets/base",
            "_view_module_version": "1.2.0",
            "_view_name": "LayoutView",
            "align_content": null,
            "align_items": null,
            "align_self": null,
            "border": null,
            "bottom": null,
            "display": null,
            "flex": null,
            "flex_flow": null,
            "grid_area": null,
            "grid_auto_columns": null,
            "grid_auto_flow": null,
            "grid_auto_rows": null,
            "grid_column": null,
            "grid_gap": null,
            "grid_row": null,
            "grid_template_areas": null,
            "grid_template_columns": null,
            "grid_template_rows": null,
            "height": null,
            "justify_content": null,
            "justify_items": null,
            "left": null,
            "margin": null,
            "max_height": null,
            "max_width": null,
            "min_height": null,
            "min_width": null,
            "object_fit": null,
            "object_position": null,
            "order": null,
            "overflow": null,
            "overflow_x": null,
            "overflow_y": null,
            "padding": null,
            "right": null,
            "top": null,
            "visibility": null,
            "width": null
          }
        },
        "ae79dba743ff450c9d00a386a1b4c7d1": {
          "model_module": "@jupyter-widgets/controls",
          "model_name": "ProgressStyleModel",
          "model_module_version": "1.5.0",
          "state": {
            "_model_module": "@jupyter-widgets/controls",
            "_model_module_version": "1.5.0",
            "_model_name": "ProgressStyleModel",
            "_view_count": null,
            "_view_module": "@jupyter-widgets/base",
            "_view_module_version": "1.2.0",
            "_view_name": "StyleView",
            "bar_color": null,
            "description_width": ""
          }
        },
        "00396e6455de4b249b130d4d48bcdd10": {
          "model_module": "@jupyter-widgets/base",
          "model_name": "LayoutModel",
          "model_module_version": "1.2.0",
          "state": {
            "_model_module": "@jupyter-widgets/base",
            "_model_module_version": "1.2.0",
            "_model_name": "LayoutModel",
            "_view_count": null,
            "_view_module": "@jupyter-widgets/base",
            "_view_module_version": "1.2.0",
            "_view_name": "LayoutView",
            "align_content": null,
            "align_items": null,
            "align_self": null,
            "border": null,
            "bottom": null,
            "display": null,
            "flex": null,
            "flex_flow": null,
            "grid_area": null,
            "grid_auto_columns": null,
            "grid_auto_flow": null,
            "grid_auto_rows": null,
            "grid_column": null,
            "grid_gap": null,
            "grid_row": null,
            "grid_template_areas": null,
            "grid_template_columns": null,
            "grid_template_rows": null,
            "height": null,
            "justify_content": null,
            "justify_items": null,
            "left": null,
            "margin": null,
            "max_height": null,
            "max_width": null,
            "min_height": null,
            "min_width": null,
            "object_fit": null,
            "object_position": null,
            "order": null,
            "overflow": null,
            "overflow_x": null,
            "overflow_y": null,
            "padding": null,
            "right": null,
            "top": null,
            "visibility": null,
            "width": null
          }
        },
        "37e5d8ca4ab74b9ca36c321fac75a297": {
          "model_module": "@jupyter-widgets/controls",
          "model_name": "DescriptionStyleModel",
          "model_module_version": "1.5.0",
          "state": {
            "_model_module": "@jupyter-widgets/controls",
            "_model_module_version": "1.5.0",
            "_model_name": "DescriptionStyleModel",
            "_view_count": null,
            "_view_module": "@jupyter-widgets/base",
            "_view_module_version": "1.2.0",
            "_view_name": "StyleView",
            "description_width": ""
          }
        },
        "9afaa1d699e94915b84851b40f132c9d": {
          "model_module": "@jupyter-widgets/controls",
          "model_name": "HBoxModel",
          "model_module_version": "1.5.0",
          "state": {
            "_dom_classes": [],
            "_model_module": "@jupyter-widgets/controls",
            "_model_module_version": "1.5.0",
            "_model_name": "HBoxModel",
            "_view_count": null,
            "_view_module": "@jupyter-widgets/controls",
            "_view_module_version": "1.5.0",
            "_view_name": "HBoxView",
            "box_style": "",
            "children": [
              "IPY_MODEL_657fdc8c79184e4f951b8bf60bd80378",
              "IPY_MODEL_83dd1907857d4895be2d77a38b7c3cc9",
              "IPY_MODEL_7eada37fd5e546d58016459d85dad4be"
            ],
            "layout": "IPY_MODEL_e5ab8e82ba284b77bdcc7b095a54e098"
          }
        },
        "657fdc8c79184e4f951b8bf60bd80378": {
          "model_module": "@jupyter-widgets/controls",
          "model_name": "HTMLModel",
          "model_module_version": "1.5.0",
          "state": {
            "_dom_classes": [],
            "_model_module": "@jupyter-widgets/controls",
            "_model_module_version": "1.5.0",
            "_model_name": "HTMLModel",
            "_view_count": null,
            "_view_module": "@jupyter-widgets/controls",
            "_view_module_version": "1.5.0",
            "_view_name": "HTMLView",
            "description": "",
            "description_tooltip": null,
            "layout": "IPY_MODEL_e251516e98924dcb91095c921d8e7fd6",
            "placeholder": "​",
            "style": "IPY_MODEL_5d07eee7f9ff49168f4f262654f6fc54",
            "value": "Downloading (…)lve/main/config.json: 100%"
          }
        },
        "83dd1907857d4895be2d77a38b7c3cc9": {
          "model_module": "@jupyter-widgets/controls",
          "model_name": "FloatProgressModel",
          "model_module_version": "1.5.0",
          "state": {
            "_dom_classes": [],
            "_model_module": "@jupyter-widgets/controls",
            "_model_module_version": "1.5.0",
            "_model_name": "FloatProgressModel",
            "_view_count": null,
            "_view_module": "@jupyter-widgets/controls",
            "_view_module_version": "1.5.0",
            "_view_name": "ProgressView",
            "bar_style": "success",
            "description": "",
            "description_tooltip": null,
            "layout": "IPY_MODEL_d98f7175ea10485caa7cadf67e7cd8e7",
            "max": 570,
            "min": 0,
            "orientation": "horizontal",
            "style": "IPY_MODEL_2c1010d454834208b20b738aab09ff81",
            "value": 570
          }
        },
        "7eada37fd5e546d58016459d85dad4be": {
          "model_module": "@jupyter-widgets/controls",
          "model_name": "HTMLModel",
          "model_module_version": "1.5.0",
          "state": {
            "_dom_classes": [],
            "_model_module": "@jupyter-widgets/controls",
            "_model_module_version": "1.5.0",
            "_model_name": "HTMLModel",
            "_view_count": null,
            "_view_module": "@jupyter-widgets/controls",
            "_view_module_version": "1.5.0",
            "_view_name": "HTMLView",
            "description": "",
            "description_tooltip": null,
            "layout": "IPY_MODEL_8f577fdbc2be482d8930fc62f8b720df",
            "placeholder": "​",
            "style": "IPY_MODEL_c83908c1b6c54497b1303a051925bd60",
            "value": " 570/570 [00:00&lt;00:00, 42.6kB/s]"
          }
        },
        "e5ab8e82ba284b77bdcc7b095a54e098": {
          "model_module": "@jupyter-widgets/base",
          "model_name": "LayoutModel",
          "model_module_version": "1.2.0",
          "state": {
            "_model_module": "@jupyter-widgets/base",
            "_model_module_version": "1.2.0",
            "_model_name": "LayoutModel",
            "_view_count": null,
            "_view_module": "@jupyter-widgets/base",
            "_view_module_version": "1.2.0",
            "_view_name": "LayoutView",
            "align_content": null,
            "align_items": null,
            "align_self": null,
            "border": null,
            "bottom": null,
            "display": null,
            "flex": null,
            "flex_flow": null,
            "grid_area": null,
            "grid_auto_columns": null,
            "grid_auto_flow": null,
            "grid_auto_rows": null,
            "grid_column": null,
            "grid_gap": null,
            "grid_row": null,
            "grid_template_areas": null,
            "grid_template_columns": null,
            "grid_template_rows": null,
            "height": null,
            "justify_content": null,
            "justify_items": null,
            "left": null,
            "margin": null,
            "max_height": null,
            "max_width": null,
            "min_height": null,
            "min_width": null,
            "object_fit": null,
            "object_position": null,
            "order": null,
            "overflow": null,
            "overflow_x": null,
            "overflow_y": null,
            "padding": null,
            "right": null,
            "top": null,
            "visibility": null,
            "width": null
          }
        },
        "e251516e98924dcb91095c921d8e7fd6": {
          "model_module": "@jupyter-widgets/base",
          "model_name": "LayoutModel",
          "model_module_version": "1.2.0",
          "state": {
            "_model_module": "@jupyter-widgets/base",
            "_model_module_version": "1.2.0",
            "_model_name": "LayoutModel",
            "_view_count": null,
            "_view_module": "@jupyter-widgets/base",
            "_view_module_version": "1.2.0",
            "_view_name": "LayoutView",
            "align_content": null,
            "align_items": null,
            "align_self": null,
            "border": null,
            "bottom": null,
            "display": null,
            "flex": null,
            "flex_flow": null,
            "grid_area": null,
            "grid_auto_columns": null,
            "grid_auto_flow": null,
            "grid_auto_rows": null,
            "grid_column": null,
            "grid_gap": null,
            "grid_row": null,
            "grid_template_areas": null,
            "grid_template_columns": null,
            "grid_template_rows": null,
            "height": null,
            "justify_content": null,
            "justify_items": null,
            "left": null,
            "margin": null,
            "max_height": null,
            "max_width": null,
            "min_height": null,
            "min_width": null,
            "object_fit": null,
            "object_position": null,
            "order": null,
            "overflow": null,
            "overflow_x": null,
            "overflow_y": null,
            "padding": null,
            "right": null,
            "top": null,
            "visibility": null,
            "width": null
          }
        },
        "5d07eee7f9ff49168f4f262654f6fc54": {
          "model_module": "@jupyter-widgets/controls",
          "model_name": "DescriptionStyleModel",
          "model_module_version": "1.5.0",
          "state": {
            "_model_module": "@jupyter-widgets/controls",
            "_model_module_version": "1.5.0",
            "_model_name": "DescriptionStyleModel",
            "_view_count": null,
            "_view_module": "@jupyter-widgets/base",
            "_view_module_version": "1.2.0",
            "_view_name": "StyleView",
            "description_width": ""
          }
        },
        "d98f7175ea10485caa7cadf67e7cd8e7": {
          "model_module": "@jupyter-widgets/base",
          "model_name": "LayoutModel",
          "model_module_version": "1.2.0",
          "state": {
            "_model_module": "@jupyter-widgets/base",
            "_model_module_version": "1.2.0",
            "_model_name": "LayoutModel",
            "_view_count": null,
            "_view_module": "@jupyter-widgets/base",
            "_view_module_version": "1.2.0",
            "_view_name": "LayoutView",
            "align_content": null,
            "align_items": null,
            "align_self": null,
            "border": null,
            "bottom": null,
            "display": null,
            "flex": null,
            "flex_flow": null,
            "grid_area": null,
            "grid_auto_columns": null,
            "grid_auto_flow": null,
            "grid_auto_rows": null,
            "grid_column": null,
            "grid_gap": null,
            "grid_row": null,
            "grid_template_areas": null,
            "grid_template_columns": null,
            "grid_template_rows": null,
            "height": null,
            "justify_content": null,
            "justify_items": null,
            "left": null,
            "margin": null,
            "max_height": null,
            "max_width": null,
            "min_height": null,
            "min_width": null,
            "object_fit": null,
            "object_position": null,
            "order": null,
            "overflow": null,
            "overflow_x": null,
            "overflow_y": null,
            "padding": null,
            "right": null,
            "top": null,
            "visibility": null,
            "width": null
          }
        },
        "2c1010d454834208b20b738aab09ff81": {
          "model_module": "@jupyter-widgets/controls",
          "model_name": "ProgressStyleModel",
          "model_module_version": "1.5.0",
          "state": {
            "_model_module": "@jupyter-widgets/controls",
            "_model_module_version": "1.5.0",
            "_model_name": "ProgressStyleModel",
            "_view_count": null,
            "_view_module": "@jupyter-widgets/base",
            "_view_module_version": "1.2.0",
            "_view_name": "StyleView",
            "bar_color": null,
            "description_width": ""
          }
        },
        "8f577fdbc2be482d8930fc62f8b720df": {
          "model_module": "@jupyter-widgets/base",
          "model_name": "LayoutModel",
          "model_module_version": "1.2.0",
          "state": {
            "_model_module": "@jupyter-widgets/base",
            "_model_module_version": "1.2.0",
            "_model_name": "LayoutModel",
            "_view_count": null,
            "_view_module": "@jupyter-widgets/base",
            "_view_module_version": "1.2.0",
            "_view_name": "LayoutView",
            "align_content": null,
            "align_items": null,
            "align_self": null,
            "border": null,
            "bottom": null,
            "display": null,
            "flex": null,
            "flex_flow": null,
            "grid_area": null,
            "grid_auto_columns": null,
            "grid_auto_flow": null,
            "grid_auto_rows": null,
            "grid_column": null,
            "grid_gap": null,
            "grid_row": null,
            "grid_template_areas": null,
            "grid_template_columns": null,
            "grid_template_rows": null,
            "height": null,
            "justify_content": null,
            "justify_items": null,
            "left": null,
            "margin": null,
            "max_height": null,
            "max_width": null,
            "min_height": null,
            "min_width": null,
            "object_fit": null,
            "object_position": null,
            "order": null,
            "overflow": null,
            "overflow_x": null,
            "overflow_y": null,
            "padding": null,
            "right": null,
            "top": null,
            "visibility": null,
            "width": null
          }
        },
        "c83908c1b6c54497b1303a051925bd60": {
          "model_module": "@jupyter-widgets/controls",
          "model_name": "DescriptionStyleModel",
          "model_module_version": "1.5.0",
          "state": {
            "_model_module": "@jupyter-widgets/controls",
            "_model_module_version": "1.5.0",
            "_model_name": "DescriptionStyleModel",
            "_view_count": null,
            "_view_module": "@jupyter-widgets/base",
            "_view_module_version": "1.2.0",
            "_view_name": "StyleView",
            "description_width": ""
          }
        },
        "a368579025ef46ee8f5b9853e3709e0f": {
          "model_module": "@jupyter-widgets/controls",
          "model_name": "HBoxModel",
          "model_module_version": "1.5.0",
          "state": {
            "_dom_classes": [],
            "_model_module": "@jupyter-widgets/controls",
            "_model_module_version": "1.5.0",
            "_model_name": "HBoxModel",
            "_view_count": null,
            "_view_module": "@jupyter-widgets/controls",
            "_view_module_version": "1.5.0",
            "_view_name": "HBoxView",
            "box_style": "",
            "children": [
              "IPY_MODEL_ada0ee740f994229956b9243927474da",
              "IPY_MODEL_caabb7d34ea3475ca43f9ec2e85229ef",
              "IPY_MODEL_d02cc502480049efb1009c5e2237e15b"
            ],
            "layout": "IPY_MODEL_04640fc7f3074692873dc7fb176bc04f"
          }
        },
        "ada0ee740f994229956b9243927474da": {
          "model_module": "@jupyter-widgets/controls",
          "model_name": "HTMLModel",
          "model_module_version": "1.5.0",
          "state": {
            "_dom_classes": [],
            "_model_module": "@jupyter-widgets/controls",
            "_model_module_version": "1.5.0",
            "_model_name": "HTMLModel",
            "_view_count": null,
            "_view_module": "@jupyter-widgets/controls",
            "_view_module_version": "1.5.0",
            "_view_name": "HTMLView",
            "description": "",
            "description_tooltip": null,
            "layout": "IPY_MODEL_eb20a2088bd64b39b736db2082d3f272",
            "placeholder": "​",
            "style": "IPY_MODEL_db65397a19dd4046a680c77f23e49a7f",
            "value": "Downloading model.safetensors: 100%"
          }
        },
        "caabb7d34ea3475ca43f9ec2e85229ef": {
          "model_module": "@jupyter-widgets/controls",
          "model_name": "FloatProgressModel",
          "model_module_version": "1.5.0",
          "state": {
            "_dom_classes": [],
            "_model_module": "@jupyter-widgets/controls",
            "_model_module_version": "1.5.0",
            "_model_name": "FloatProgressModel",
            "_view_count": null,
            "_view_module": "@jupyter-widgets/controls",
            "_view_module_version": "1.5.0",
            "_view_name": "ProgressView",
            "bar_style": "success",
            "description": "",
            "description_tooltip": null,
            "layout": "IPY_MODEL_4a9c96c347c844d7a57e125e50bcfe05",
            "max": 440449768,
            "min": 0,
            "orientation": "horizontal",
            "style": "IPY_MODEL_3c6341d4913a42c790340ad35549c237",
            "value": 440449768
          }
        },
        "d02cc502480049efb1009c5e2237e15b": {
          "model_module": "@jupyter-widgets/controls",
          "model_name": "HTMLModel",
          "model_module_version": "1.5.0",
          "state": {
            "_dom_classes": [],
            "_model_module": "@jupyter-widgets/controls",
            "_model_module_version": "1.5.0",
            "_model_name": "HTMLModel",
            "_view_count": null,
            "_view_module": "@jupyter-widgets/controls",
            "_view_module_version": "1.5.0",
            "_view_name": "HTMLView",
            "description": "",
            "description_tooltip": null,
            "layout": "IPY_MODEL_547cdf9c486b4eff843ff6de6d1dc293",
            "placeholder": "​",
            "style": "IPY_MODEL_f9b0d78290874cdda4ec55bff799918b",
            "value": " 440M/440M [00:04&lt;00:00, 94.8MB/s]"
          }
        },
        "04640fc7f3074692873dc7fb176bc04f": {
          "model_module": "@jupyter-widgets/base",
          "model_name": "LayoutModel",
          "model_module_version": "1.2.0",
          "state": {
            "_model_module": "@jupyter-widgets/base",
            "_model_module_version": "1.2.0",
            "_model_name": "LayoutModel",
            "_view_count": null,
            "_view_module": "@jupyter-widgets/base",
            "_view_module_version": "1.2.0",
            "_view_name": "LayoutView",
            "align_content": null,
            "align_items": null,
            "align_self": null,
            "border": null,
            "bottom": null,
            "display": null,
            "flex": null,
            "flex_flow": null,
            "grid_area": null,
            "grid_auto_columns": null,
            "grid_auto_flow": null,
            "grid_auto_rows": null,
            "grid_column": null,
            "grid_gap": null,
            "grid_row": null,
            "grid_template_areas": null,
            "grid_template_columns": null,
            "grid_template_rows": null,
            "height": null,
            "justify_content": null,
            "justify_items": null,
            "left": null,
            "margin": null,
            "max_height": null,
            "max_width": null,
            "min_height": null,
            "min_width": null,
            "object_fit": null,
            "object_position": null,
            "order": null,
            "overflow": null,
            "overflow_x": null,
            "overflow_y": null,
            "padding": null,
            "right": null,
            "top": null,
            "visibility": null,
            "width": null
          }
        },
        "eb20a2088bd64b39b736db2082d3f272": {
          "model_module": "@jupyter-widgets/base",
          "model_name": "LayoutModel",
          "model_module_version": "1.2.0",
          "state": {
            "_model_module": "@jupyter-widgets/base",
            "_model_module_version": "1.2.0",
            "_model_name": "LayoutModel",
            "_view_count": null,
            "_view_module": "@jupyter-widgets/base",
            "_view_module_version": "1.2.0",
            "_view_name": "LayoutView",
            "align_content": null,
            "align_items": null,
            "align_self": null,
            "border": null,
            "bottom": null,
            "display": null,
            "flex": null,
            "flex_flow": null,
            "grid_area": null,
            "grid_auto_columns": null,
            "grid_auto_flow": null,
            "grid_auto_rows": null,
            "grid_column": null,
            "grid_gap": null,
            "grid_row": null,
            "grid_template_areas": null,
            "grid_template_columns": null,
            "grid_template_rows": null,
            "height": null,
            "justify_content": null,
            "justify_items": null,
            "left": null,
            "margin": null,
            "max_height": null,
            "max_width": null,
            "min_height": null,
            "min_width": null,
            "object_fit": null,
            "object_position": null,
            "order": null,
            "overflow": null,
            "overflow_x": null,
            "overflow_y": null,
            "padding": null,
            "right": null,
            "top": null,
            "visibility": null,
            "width": null
          }
        },
        "db65397a19dd4046a680c77f23e49a7f": {
          "model_module": "@jupyter-widgets/controls",
          "model_name": "DescriptionStyleModel",
          "model_module_version": "1.5.0",
          "state": {
            "_model_module": "@jupyter-widgets/controls",
            "_model_module_version": "1.5.0",
            "_model_name": "DescriptionStyleModel",
            "_view_count": null,
            "_view_module": "@jupyter-widgets/base",
            "_view_module_version": "1.2.0",
            "_view_name": "StyleView",
            "description_width": ""
          }
        },
        "4a9c96c347c844d7a57e125e50bcfe05": {
          "model_module": "@jupyter-widgets/base",
          "model_name": "LayoutModel",
          "model_module_version": "1.2.0",
          "state": {
            "_model_module": "@jupyter-widgets/base",
            "_model_module_version": "1.2.0",
            "_model_name": "LayoutModel",
            "_view_count": null,
            "_view_module": "@jupyter-widgets/base",
            "_view_module_version": "1.2.0",
            "_view_name": "LayoutView",
            "align_content": null,
            "align_items": null,
            "align_self": null,
            "border": null,
            "bottom": null,
            "display": null,
            "flex": null,
            "flex_flow": null,
            "grid_area": null,
            "grid_auto_columns": null,
            "grid_auto_flow": null,
            "grid_auto_rows": null,
            "grid_column": null,
            "grid_gap": null,
            "grid_row": null,
            "grid_template_areas": null,
            "grid_template_columns": null,
            "grid_template_rows": null,
            "height": null,
            "justify_content": null,
            "justify_items": null,
            "left": null,
            "margin": null,
            "max_height": null,
            "max_width": null,
            "min_height": null,
            "min_width": null,
            "object_fit": null,
            "object_position": null,
            "order": null,
            "overflow": null,
            "overflow_x": null,
            "overflow_y": null,
            "padding": null,
            "right": null,
            "top": null,
            "visibility": null,
            "width": null
          }
        },
        "3c6341d4913a42c790340ad35549c237": {
          "model_module": "@jupyter-widgets/controls",
          "model_name": "ProgressStyleModel",
          "model_module_version": "1.5.0",
          "state": {
            "_model_module": "@jupyter-widgets/controls",
            "_model_module_version": "1.5.0",
            "_model_name": "ProgressStyleModel",
            "_view_count": null,
            "_view_module": "@jupyter-widgets/base",
            "_view_module_version": "1.2.0",
            "_view_name": "StyleView",
            "bar_color": null,
            "description_width": ""
          }
        },
        "547cdf9c486b4eff843ff6de6d1dc293": {
          "model_module": "@jupyter-widgets/base",
          "model_name": "LayoutModel",
          "model_module_version": "1.2.0",
          "state": {
            "_model_module": "@jupyter-widgets/base",
            "_model_module_version": "1.2.0",
            "_model_name": "LayoutModel",
            "_view_count": null,
            "_view_module": "@jupyter-widgets/base",
            "_view_module_version": "1.2.0",
            "_view_name": "LayoutView",
            "align_content": null,
            "align_items": null,
            "align_self": null,
            "border": null,
            "bottom": null,
            "display": null,
            "flex": null,
            "flex_flow": null,
            "grid_area": null,
            "grid_auto_columns": null,
            "grid_auto_flow": null,
            "grid_auto_rows": null,
            "grid_column": null,
            "grid_gap": null,
            "grid_row": null,
            "grid_template_areas": null,
            "grid_template_columns": null,
            "grid_template_rows": null,
            "height": null,
            "justify_content": null,
            "justify_items": null,
            "left": null,
            "margin": null,
            "max_height": null,
            "max_width": null,
            "min_height": null,
            "min_width": null,
            "object_fit": null,
            "object_position": null,
            "order": null,
            "overflow": null,
            "overflow_x": null,
            "overflow_y": null,
            "padding": null,
            "right": null,
            "top": null,
            "visibility": null,
            "width": null
          }
        },
        "f9b0d78290874cdda4ec55bff799918b": {
          "model_module": "@jupyter-widgets/controls",
          "model_name": "DescriptionStyleModel",
          "model_module_version": "1.5.0",
          "state": {
            "_model_module": "@jupyter-widgets/controls",
            "_model_module_version": "1.5.0",
            "_model_name": "DescriptionStyleModel",
            "_view_count": null,
            "_view_module": "@jupyter-widgets/base",
            "_view_module_version": "1.2.0",
            "_view_name": "StyleView",
            "description_width": ""
          }
        }
      }
    }
  },
  "cells": [
    {
      "cell_type": "markdown",
      "metadata": {
        "id": "view-in-github",
        "colab_type": "text"
      },
      "source": [
        "<a href=\"https://colab.research.google.com/github/nicoeiris11/NLP-semantic-search/blob/main/SemanticSearch_Movies_NicolasEiris.ipynb\" target=\"_parent\"><img src=\"https://colab.research.google.com/assets/colab-badge.svg\" alt=\"Open In Colab\"/></a>"
      ]
    },
    {
      "cell_type": "markdown",
      "source": [
        "### Check if can access data from the notebook\n",
        "\n"
      ],
      "metadata": {
        "id": "8D3wDeCqdkv2"
      }
    },
    {
      "cell_type": "code",
      "execution_count": 1,
      "metadata": {
        "colab": {
          "base_uri": "https://localhost:8080/"
        },
        "id": "ME2l5pg5q5eV",
        "outputId": "ff65ca6e-b590-42a0-d2ce-f7cc64318934"
      },
      "outputs": [
        {
          "output_type": "stream",
          "name": "stdout",
          "text": [
            "Mounted at /content/drive\n"
          ]
        }
      ],
      "source": [
        "from google.colab import drive\n",
        "drive.mount('/content/drive')"
      ]
    },
    {
      "cell_type": "code",
      "source": [
        "%ls /content/drive/'My Drive'/'wiki_movie_plots_deduped_with_summaries.csv'\n",
        "dataset_path = \"/content/drive/My Drive/wiki_movie_plots_deduped_with_summaries.csv\""
      ],
      "metadata": {
        "colab": {
          "base_uri": "https://localhost:8080/"
        },
        "id": "miyQ616RcNTZ",
        "outputId": "93d47318-879e-458e-fc35-c4cc2f2299ef"
      },
      "execution_count": 2,
      "outputs": [
        {
          "output_type": "stream",
          "name": "stdout",
          "text": [
            "'/content/drive/My Drive/wiki_movie_plots_deduped_with_summaries.csv'\n"
          ]
        }
      ]
    },
    {
      "cell_type": "markdown",
      "source": [
        "# Imports"
      ],
      "metadata": {
        "id": "Hp9x4bxjdp0t"
      }
    },
    {
      "cell_type": "code",
      "source": [
        "!pip install transformers\n",
        "!pip install faiss-gpu\n",
        "\n",
        "import pandas as pd\n",
        "import torch\n",
        "from transformers import BertTokenizer, BertModel\n",
        "import faiss\n",
        "import time\n",
        "from tqdm import tqdm\n",
        "import numpy as np\n",
        "import re\n",
        "import nltk\n",
        "from nltk.corpus import stopwords\n",
        "from nltk.stem import WordNetLemmatizer\n",
        "from nltk.tokenize import sent_tokenize\n",
        "\n",
        "nltk.download('stopwords')\n",
        "nltk.download('wordnet')\n",
        "nltk.download('punkt')"
      ],
      "metadata": {
        "colab": {
          "base_uri": "https://localhost:8080/"
        },
        "id": "rFBedR5xdr_l",
        "outputId": "e43138d0-3ccc-49a0-9050-b71412c21169"
      },
      "execution_count": 3,
      "outputs": [
        {
          "output_type": "stream",
          "name": "stdout",
          "text": [
            "Collecting transformers\n",
            "  Downloading transformers-4.32.1-py3-none-any.whl (7.5 MB)\n",
            "\u001b[2K     \u001b[90m━━━━━━━━━━━━━━━━━━━━━━━━━━━━━━━━━━━━━━━━\u001b[0m \u001b[32m7.5/7.5 MB\u001b[0m \u001b[31m19.1 MB/s\u001b[0m eta \u001b[36m0:00:00\u001b[0m\n",
            "\u001b[?25hRequirement already satisfied: filelock in /usr/local/lib/python3.10/dist-packages (from transformers) (3.12.2)\n",
            "Collecting huggingface-hub<1.0,>=0.15.1 (from transformers)\n",
            "  Downloading huggingface_hub-0.16.4-py3-none-any.whl (268 kB)\n",
            "\u001b[2K     \u001b[90m━━━━━━━━━━━━━━━━━━━━━━━━━━━━━━━━━━━━━━\u001b[0m \u001b[32m268.8/268.8 kB\u001b[0m \u001b[31m31.8 MB/s\u001b[0m eta \u001b[36m0:00:00\u001b[0m\n",
            "\u001b[?25hRequirement already satisfied: numpy>=1.17 in /usr/local/lib/python3.10/dist-packages (from transformers) (1.23.5)\n",
            "Requirement already satisfied: packaging>=20.0 in /usr/local/lib/python3.10/dist-packages (from transformers) (23.1)\n",
            "Requirement already satisfied: pyyaml>=5.1 in /usr/local/lib/python3.10/dist-packages (from transformers) (6.0.1)\n",
            "Requirement already satisfied: regex!=2019.12.17 in /usr/local/lib/python3.10/dist-packages (from transformers) (2023.6.3)\n",
            "Requirement already satisfied: requests in /usr/local/lib/python3.10/dist-packages (from transformers) (2.31.0)\n",
            "Collecting tokenizers!=0.11.3,<0.14,>=0.11.1 (from transformers)\n",
            "  Downloading tokenizers-0.13.3-cp310-cp310-manylinux_2_17_x86_64.manylinux2014_x86_64.whl (7.8 MB)\n",
            "\u001b[2K     \u001b[90m━━━━━━━━━━━━━━━━━━━━━━━━━━━━━━━━━━━━━━━━\u001b[0m \u001b[32m7.8/7.8 MB\u001b[0m \u001b[31m46.8 MB/s\u001b[0m eta \u001b[36m0:00:00\u001b[0m\n",
            "\u001b[?25hCollecting safetensors>=0.3.1 (from transformers)\n",
            "  Downloading safetensors-0.3.3-cp310-cp310-manylinux_2_17_x86_64.manylinux2014_x86_64.whl (1.3 MB)\n",
            "\u001b[2K     \u001b[90m━━━━━━━━━━━━━━━━━━━━━━━━━━━━━━━━━━━━━━━━\u001b[0m \u001b[32m1.3/1.3 MB\u001b[0m \u001b[31m51.1 MB/s\u001b[0m eta \u001b[36m0:00:00\u001b[0m\n",
            "\u001b[?25hRequirement already satisfied: tqdm>=4.27 in /usr/local/lib/python3.10/dist-packages (from transformers) (4.66.1)\n",
            "Requirement already satisfied: fsspec in /usr/local/lib/python3.10/dist-packages (from huggingface-hub<1.0,>=0.15.1->transformers) (2023.6.0)\n",
            "Requirement already satisfied: typing-extensions>=3.7.4.3 in /usr/local/lib/python3.10/dist-packages (from huggingface-hub<1.0,>=0.15.1->transformers) (4.7.1)\n",
            "Requirement already satisfied: charset-normalizer<4,>=2 in /usr/local/lib/python3.10/dist-packages (from requests->transformers) (3.2.0)\n",
            "Requirement already satisfied: idna<4,>=2.5 in /usr/local/lib/python3.10/dist-packages (from requests->transformers) (3.4)\n",
            "Requirement already satisfied: urllib3<3,>=1.21.1 in /usr/local/lib/python3.10/dist-packages (from requests->transformers) (2.0.4)\n",
            "Requirement already satisfied: certifi>=2017.4.17 in /usr/local/lib/python3.10/dist-packages (from requests->transformers) (2023.7.22)\n",
            "Installing collected packages: tokenizers, safetensors, huggingface-hub, transformers\n",
            "Successfully installed huggingface-hub-0.16.4 safetensors-0.3.3 tokenizers-0.13.3 transformers-4.32.1\n",
            "Collecting faiss-gpu\n",
            "  Downloading faiss_gpu-1.7.2-cp310-cp310-manylinux_2_17_x86_64.manylinux2014_x86_64.whl (85.5 MB)\n",
            "\u001b[2K     \u001b[90m━━━━━━━━━━━━━━━━━━━━━━━━━━━━━━━━━━━━━━━━\u001b[0m \u001b[32m85.5/85.5 MB\u001b[0m \u001b[31m9.5 MB/s\u001b[0m eta \u001b[36m0:00:00\u001b[0m\n",
            "\u001b[?25hInstalling collected packages: faiss-gpu\n",
            "Successfully installed faiss-gpu-1.7.2\n"
          ]
        },
        {
          "output_type": "stream",
          "name": "stderr",
          "text": [
            "[nltk_data] Downloading package stopwords to /root/nltk_data...\n",
            "[nltk_data]   Unzipping corpora/stopwords.zip.\n",
            "[nltk_data] Downloading package wordnet to /root/nltk_data...\n",
            "[nltk_data] Downloading package punkt to /root/nltk_data...\n",
            "[nltk_data]   Unzipping tokenizers/punkt.zip.\n"
          ]
        },
        {
          "output_type": "execute_result",
          "data": {
            "text/plain": [
              "True"
            ]
          },
          "metadata": {},
          "execution_count": 3
        }
      ]
    },
    {
      "cell_type": "markdown",
      "source": [
        "# Data loading & analysis\n",
        "\n",
        "This first part of the notebook have the following purposes:\n",
        "- Load data\n",
        "- Analyze\n",
        "  - Size of dataset\n",
        "  - Explore the data to gain insights and understanding of the movie plots and plot\n",
        "  - Perform any necessary data cleaning and preprocessing you find necessary.\n",
        "\n",
        "Before working on the indexing and NLP model, it is very important to really understand the data we are working with. If we do not analyze data and pre-process it correctly, final accuracy will likely be lower than it could be."
      ],
      "metadata": {
        "id": "-Gx0k4V6fJ72"
      }
    },
    {
      "cell_type": "code",
      "source": [
        "df = pd.read_csv(dataset_path)\n",
        "\n",
        "pd.set_option('display.width', 200)\n",
        "# Display the first few rows of the DataFrame\n",
        "print(df.head(3))"
      ],
      "metadata": {
        "colab": {
          "base_uri": "https://localhost:8080/"
        },
        "id": "CozjlN0sbUJd",
        "outputId": "620b2c09-7ea4-4f6a-dbe6-1f8d9cf3d812"
      },
      "execution_count": 55,
      "outputs": [
        {
          "output_type": "stream",
          "name": "stdout",
          "text": [
            "   Release Year                          Title Origin/Ethnicity Director Cast    Genre                                          Wiki Page                                               Plot  \\\n",
            "0          1901         Kansas Saloon Smashers         American  Unknown  NaN  unknown  https://en.wikipedia.org/wiki/Kansas_Saloon_Sm...  A bartender is working at a saloon, serving dr...   \n",
            "1          1901  Love by the Light of the Moon         American  Unknown  NaN  unknown  https://en.wikipedia.org/wiki/Love_by_the_Ligh...  The moon, painted with a smiling face hangs ov...   \n",
            "2          1901        The Martyred Presidents         American  Unknown  NaN  unknown  https://en.wikipedia.org/wiki/The_Martyred_Pre...  The film, just over a minute long, is composed...   \n",
            "\n",
            "                                         PlotSummary  \n",
            "0  Carrie Nation and her followers burst into a s...  \n",
            "1  The moon, painted with a smiling face hangs ov...  \n",
            "2  The film, just over a minute long, is composed...  \n"
          ]
        }
      ]
    },
    {
      "cell_type": "code",
      "source": [
        "# Columns types\n",
        "print(\"Data types:\")\n",
        "print(df.dtypes)"
      ],
      "metadata": {
        "colab": {
          "base_uri": "https://localhost:8080/"
        },
        "id": "uDQNiELMbl6A",
        "outputId": "bce4a64a-d612-486a-f5d5-348877180509"
      },
      "execution_count": 56,
      "outputs": [
        {
          "output_type": "stream",
          "name": "stdout",
          "text": [
            "Data types:\n",
            "Release Year         int64\n",
            "Title               object\n",
            "Origin/Ethnicity    object\n",
            "Director            object\n",
            "Cast                object\n",
            "Genre               object\n",
            "Wiki Page           object\n",
            "Plot                object\n",
            "PlotSummary         object\n",
            "dtype: object\n"
          ]
        }
      ]
    },
    {
      "cell_type": "code",
      "source": [
        "# DF info\n",
        "print(df.info())"
      ],
      "metadata": {
        "colab": {
          "base_uri": "https://localhost:8080/"
        },
        "id": "3swzc6jqd7e8",
        "outputId": "f65208e9-b277-407c-d802-bc31f30ce3a6"
      },
      "execution_count": 57,
      "outputs": [
        {
          "output_type": "stream",
          "name": "stdout",
          "text": [
            "<class 'pandas.core.frame.DataFrame'>\n",
            "RangeIndex: 34886 entries, 0 to 34885\n",
            "Data columns (total 9 columns):\n",
            " #   Column            Non-Null Count  Dtype \n",
            "---  ------            --------------  ----- \n",
            " 0   Release Year      34886 non-null  int64 \n",
            " 1   Title             34886 non-null  object\n",
            " 2   Origin/Ethnicity  34886 non-null  object\n",
            " 3   Director          34886 non-null  object\n",
            " 4   Cast              33464 non-null  object\n",
            " 5   Genre             34886 non-null  object\n",
            " 6   Wiki Page         34886 non-null  object\n",
            " 7   Plot              34886 non-null  object\n",
            " 8   PlotSummary       34886 non-null  object\n",
            "dtypes: int64(1), object(8)\n",
            "memory usage: 2.4+ MB\n",
            "None\n"
          ]
        }
      ]
    },
    {
      "cell_type": "code",
      "source": [
        "# Missing values\n",
        "print(df.isna().sum())"
      ],
      "metadata": {
        "colab": {
          "base_uri": "https://localhost:8080/"
        },
        "id": "k3aLC8MOji6W",
        "outputId": "47e57a6f-7a38-4c45-a21c-ce77e720e812"
      },
      "execution_count": 58,
      "outputs": [
        {
          "output_type": "stream",
          "name": "stdout",
          "text": [
            "Release Year           0\n",
            "Title                  0\n",
            "Origin/Ethnicity       0\n",
            "Director               0\n",
            "Cast                1422\n",
            "Genre                  0\n",
            "Wiki Page              0\n",
            "Plot                   0\n",
            "PlotSummary            0\n",
            "dtype: int64\n"
          ]
        }
      ]
    },
    {
      "cell_type": "markdown",
      "source": [
        "There are no missing values for \"Plot\" and \"PlotSummary\" columns.\n",
        "\n",
        "### Let's analyze duplicates and both columns length distribution. Before that, let's just sample some data points and see the nature of the data to possibly detect data cleaning steps..."
      ],
      "metadata": {
        "id": "_ODNRI79kxFt"
      }
    },
    {
      "cell_type": "code",
      "source": [
        "df[['Plot', 'PlotSummary']].sample(4)"
      ],
      "metadata": {
        "colab": {
          "base_uri": "https://localhost:8080/",
          "height": 770
        },
        "id": "wUpjPMXHkoPa",
        "outputId": "38574da6-c7c2-4d01-ff5e-733cad1cec55"
      },
      "execution_count": 59,
      "outputs": [
        {
          "output_type": "execute_result",
          "data": {
            "text/plain": [
              "                                                    Plot                                        PlotSummary\n",
              "578    Old Bill (Sydney Chaplin), a jovial Limey serg...  Old Bill (Sydney Chaplin) discovers that the m...\n",
              "18684  In 1938, refugee Peter Vadassy (James Mason) d...  In 1938, refugee Peter Vadassy (James Mason) d...\n",
              "4104   Catherine discards her latest lover, Variatins...  Catherine discards her latest lover, Variatins...\n",
              "7926   Scientists Dr. Erik von Steiner (Preston Foste...  Four scientists attempt to recreate their time..."
            ],
            "text/html": [
              "\n",
              "  <div id=\"df-c099e00b-e33a-4e61-9004-64de42a3a40d\" class=\"colab-df-container\">\n",
              "    <div>\n",
              "<style scoped>\n",
              "    .dataframe tbody tr th:only-of-type {\n",
              "        vertical-align: middle;\n",
              "    }\n",
              "\n",
              "    .dataframe tbody tr th {\n",
              "        vertical-align: top;\n",
              "    }\n",
              "\n",
              "    .dataframe thead th {\n",
              "        text-align: right;\n",
              "    }\n",
              "</style>\n",
              "<table border=\"1\" class=\"dataframe\">\n",
              "  <thead>\n",
              "    <tr style=\"text-align: right;\">\n",
              "      <th></th>\n",
              "      <th>Plot</th>\n",
              "      <th>PlotSummary</th>\n",
              "    </tr>\n",
              "  </thead>\n",
              "  <tbody>\n",
              "    <tr>\n",
              "      <th>578</th>\n",
              "      <td>Old Bill (Sydney Chaplin), a jovial Limey serg...</td>\n",
              "      <td>Old Bill (Sydney Chaplin) discovers that the m...</td>\n",
              "    </tr>\n",
              "    <tr>\n",
              "      <th>18684</th>\n",
              "      <td>In 1938, refugee Peter Vadassy (James Mason) d...</td>\n",
              "      <td>In 1938, refugee Peter Vadassy (James Mason) d...</td>\n",
              "    </tr>\n",
              "    <tr>\n",
              "      <th>4104</th>\n",
              "      <td>Catherine discards her latest lover, Variatins...</td>\n",
              "      <td>Catherine discards her latest lover, Variatins...</td>\n",
              "    </tr>\n",
              "    <tr>\n",
              "      <th>7926</th>\n",
              "      <td>Scientists Dr. Erik von Steiner (Preston Foste...</td>\n",
              "      <td>Four scientists attempt to recreate their time...</td>\n",
              "    </tr>\n",
              "  </tbody>\n",
              "</table>\n",
              "</div>\n",
              "    <div class=\"colab-df-buttons\">\n",
              "\n",
              "  <div class=\"colab-df-container\">\n",
              "    <button class=\"colab-df-convert\" onclick=\"convertToInteractive('df-c099e00b-e33a-4e61-9004-64de42a3a40d')\"\n",
              "            title=\"Convert this dataframe to an interactive table.\"\n",
              "            style=\"display:none;\">\n",
              "\n",
              "  <svg xmlns=\"http://www.w3.org/2000/svg\" height=\"24px\" viewBox=\"0 -960 960 960\">\n",
              "    <path d=\"M120-120v-720h720v720H120Zm60-500h600v-160H180v160Zm220 220h160v-160H400v160Zm0 220h160v-160H400v160ZM180-400h160v-160H180v160Zm440 0h160v-160H620v160ZM180-180h160v-160H180v160Zm440 0h160v-160H620v160Z\"/>\n",
              "  </svg>\n",
              "    </button>\n",
              "\n",
              "  <style>\n",
              "    .colab-df-container {\n",
              "      display:flex;\n",
              "      gap: 12px;\n",
              "    }\n",
              "\n",
              "    .colab-df-convert {\n",
              "      background-color: #E8F0FE;\n",
              "      border: none;\n",
              "      border-radius: 50%;\n",
              "      cursor: pointer;\n",
              "      display: none;\n",
              "      fill: #1967D2;\n",
              "      height: 32px;\n",
              "      padding: 0 0 0 0;\n",
              "      width: 32px;\n",
              "    }\n",
              "\n",
              "    .colab-df-convert:hover {\n",
              "      background-color: #E2EBFA;\n",
              "      box-shadow: 0px 1px 2px rgba(60, 64, 67, 0.3), 0px 1px 3px 1px rgba(60, 64, 67, 0.15);\n",
              "      fill: #174EA6;\n",
              "    }\n",
              "\n",
              "    .colab-df-buttons div {\n",
              "      margin-bottom: 4px;\n",
              "    }\n",
              "\n",
              "    [theme=dark] .colab-df-convert {\n",
              "      background-color: #3B4455;\n",
              "      fill: #D2E3FC;\n",
              "    }\n",
              "\n",
              "    [theme=dark] .colab-df-convert:hover {\n",
              "      background-color: #434B5C;\n",
              "      box-shadow: 0px 1px 3px 1px rgba(0, 0, 0, 0.15);\n",
              "      filter: drop-shadow(0px 1px 2px rgba(0, 0, 0, 0.3));\n",
              "      fill: #FFFFFF;\n",
              "    }\n",
              "  </style>\n",
              "\n",
              "    <script>\n",
              "      const buttonEl =\n",
              "        document.querySelector('#df-c099e00b-e33a-4e61-9004-64de42a3a40d button.colab-df-convert');\n",
              "      buttonEl.style.display =\n",
              "        google.colab.kernel.accessAllowed ? 'block' : 'none';\n",
              "\n",
              "      async function convertToInteractive(key) {\n",
              "        const element = document.querySelector('#df-c099e00b-e33a-4e61-9004-64de42a3a40d');\n",
              "        const dataTable =\n",
              "          await google.colab.kernel.invokeFunction('convertToInteractive',\n",
              "                                                    [key], {});\n",
              "        if (!dataTable) return;\n",
              "\n",
              "        const docLinkHtml = 'Like what you see? Visit the ' +\n",
              "          '<a target=\"_blank\" href=https://colab.research.google.com/notebooks/data_table.ipynb>data table notebook</a>'\n",
              "          + ' to learn more about interactive tables.';\n",
              "        element.innerHTML = '';\n",
              "        dataTable['output_type'] = 'display_data';\n",
              "        await google.colab.output.renderOutput(dataTable, element);\n",
              "        const docLink = document.createElement('div');\n",
              "        docLink.innerHTML = docLinkHtml;\n",
              "        element.appendChild(docLink);\n",
              "      }\n",
              "    </script>\n",
              "  </div>\n",
              "\n",
              "    </div>\n",
              "  </div>\n"
            ]
          },
          "metadata": {},
          "execution_count": 59
        }
      ]
    },
    {
      "cell_type": "markdown",
      "source": [
        "### Check duplicated rows"
      ],
      "metadata": {
        "id": "7M9l9FGOqnfe"
      }
    },
    {
      "cell_type": "code",
      "source": [
        "df[df.duplicated(subset=['Plot', 'PlotSummary'])].head(3)"
      ],
      "metadata": {
        "colab": {
          "base_uri": "https://localhost:8080/",
          "height": 633
        },
        "id": "kQi7RwcD5Zp_",
        "outputId": "43104d33-6702-4f0a-b181-74fcdaadd497"
      },
      "execution_count": 60,
      "outputs": [
        {
          "output_type": "execute_result",
          "data": {
            "text/plain": [
              "     Release Year                   Title Origin/Ethnicity                     Director                         Cast   Genre                                          Wiki Page  \\\n",
              "286          1919  Nine-Tenths of the Law         American              B. Reeves Eason   Mitchell Lewis, Jimsy Maye   drama  https://en.wikipedia.org/wiki/Nine-Tenths_of_t...   \n",
              "370          1921     Among Those Present         American             Fred C. Newmeyer                 Harold Lloyd  comedy  https://en.wikipedia.org/wiki/Among_Those_Present   \n",
              "400          1921            Now or Never         American  Fred C. Newmeyer, Hal Roach  Harold Lloyd, Mildred Davis  comedy  https://en.wikipedia.org/wiki/Now_or_Never_(19...   \n",
              "\n",
              "                                                  Plot                                        PlotSummary  \n",
              "286  As described in a film magazine,[1] Jules Lene...  Jules Leneau (Lewis) and his wife Jane (Maye),...  \n",
              "370  Mrs. O'Brien (Herring) is eager to be accepted...  Mrs. O'Brien (Herring) hosts a fox hunt as par...  \n",
              "400  A young woman, who is employed as a nanny to a...  A young woman takes a young nanny to a lonesom...  "
            ],
            "text/html": [
              "\n",
              "  <div id=\"df-04a2ef20-3793-4670-8445-c93c2b78ac8e\" class=\"colab-df-container\">\n",
              "    <div>\n",
              "<style scoped>\n",
              "    .dataframe tbody tr th:only-of-type {\n",
              "        vertical-align: middle;\n",
              "    }\n",
              "\n",
              "    .dataframe tbody tr th {\n",
              "        vertical-align: top;\n",
              "    }\n",
              "\n",
              "    .dataframe thead th {\n",
              "        text-align: right;\n",
              "    }\n",
              "</style>\n",
              "<table border=\"1\" class=\"dataframe\">\n",
              "  <thead>\n",
              "    <tr style=\"text-align: right;\">\n",
              "      <th></th>\n",
              "      <th>Release Year</th>\n",
              "      <th>Title</th>\n",
              "      <th>Origin/Ethnicity</th>\n",
              "      <th>Director</th>\n",
              "      <th>Cast</th>\n",
              "      <th>Genre</th>\n",
              "      <th>Wiki Page</th>\n",
              "      <th>Plot</th>\n",
              "      <th>PlotSummary</th>\n",
              "    </tr>\n",
              "  </thead>\n",
              "  <tbody>\n",
              "    <tr>\n",
              "      <th>286</th>\n",
              "      <td>1919</td>\n",
              "      <td>Nine-Tenths of the Law</td>\n",
              "      <td>American</td>\n",
              "      <td>B. Reeves Eason</td>\n",
              "      <td>Mitchell Lewis, Jimsy Maye</td>\n",
              "      <td>drama</td>\n",
              "      <td>https://en.wikipedia.org/wiki/Nine-Tenths_of_t...</td>\n",
              "      <td>As described in a film magazine,[1] Jules Lene...</td>\n",
              "      <td>Jules Leneau (Lewis) and his wife Jane (Maye),...</td>\n",
              "    </tr>\n",
              "    <tr>\n",
              "      <th>370</th>\n",
              "      <td>1921</td>\n",
              "      <td>Among Those Present</td>\n",
              "      <td>American</td>\n",
              "      <td>Fred C. Newmeyer</td>\n",
              "      <td>Harold Lloyd</td>\n",
              "      <td>comedy</td>\n",
              "      <td>https://en.wikipedia.org/wiki/Among_Those_Present</td>\n",
              "      <td>Mrs. O'Brien (Herring) is eager to be accepted...</td>\n",
              "      <td>Mrs. O'Brien (Herring) hosts a fox hunt as par...</td>\n",
              "    </tr>\n",
              "    <tr>\n",
              "      <th>400</th>\n",
              "      <td>1921</td>\n",
              "      <td>Now or Never</td>\n",
              "      <td>American</td>\n",
              "      <td>Fred C. Newmeyer, Hal Roach</td>\n",
              "      <td>Harold Lloyd, Mildred Davis</td>\n",
              "      <td>comedy</td>\n",
              "      <td>https://en.wikipedia.org/wiki/Now_or_Never_(19...</td>\n",
              "      <td>A young woman, who is employed as a nanny to a...</td>\n",
              "      <td>A young woman takes a young nanny to a lonesom...</td>\n",
              "    </tr>\n",
              "  </tbody>\n",
              "</table>\n",
              "</div>\n",
              "    <div class=\"colab-df-buttons\">\n",
              "\n",
              "  <div class=\"colab-df-container\">\n",
              "    <button class=\"colab-df-convert\" onclick=\"convertToInteractive('df-04a2ef20-3793-4670-8445-c93c2b78ac8e')\"\n",
              "            title=\"Convert this dataframe to an interactive table.\"\n",
              "            style=\"display:none;\">\n",
              "\n",
              "  <svg xmlns=\"http://www.w3.org/2000/svg\" height=\"24px\" viewBox=\"0 -960 960 960\">\n",
              "    <path d=\"M120-120v-720h720v720H120Zm60-500h600v-160H180v160Zm220 220h160v-160H400v160Zm0 220h160v-160H400v160ZM180-400h160v-160H180v160Zm440 0h160v-160H620v160ZM180-180h160v-160H180v160Zm440 0h160v-160H620v160Z\"/>\n",
              "  </svg>\n",
              "    </button>\n",
              "\n",
              "  <style>\n",
              "    .colab-df-container {\n",
              "      display:flex;\n",
              "      gap: 12px;\n",
              "    }\n",
              "\n",
              "    .colab-df-convert {\n",
              "      background-color: #E8F0FE;\n",
              "      border: none;\n",
              "      border-radius: 50%;\n",
              "      cursor: pointer;\n",
              "      display: none;\n",
              "      fill: #1967D2;\n",
              "      height: 32px;\n",
              "      padding: 0 0 0 0;\n",
              "      width: 32px;\n",
              "    }\n",
              "\n",
              "    .colab-df-convert:hover {\n",
              "      background-color: #E2EBFA;\n",
              "      box-shadow: 0px 1px 2px rgba(60, 64, 67, 0.3), 0px 1px 3px 1px rgba(60, 64, 67, 0.15);\n",
              "      fill: #174EA6;\n",
              "    }\n",
              "\n",
              "    .colab-df-buttons div {\n",
              "      margin-bottom: 4px;\n",
              "    }\n",
              "\n",
              "    [theme=dark] .colab-df-convert {\n",
              "      background-color: #3B4455;\n",
              "      fill: #D2E3FC;\n",
              "    }\n",
              "\n",
              "    [theme=dark] .colab-df-convert:hover {\n",
              "      background-color: #434B5C;\n",
              "      box-shadow: 0px 1px 3px 1px rgba(0, 0, 0, 0.15);\n",
              "      filter: drop-shadow(0px 1px 2px rgba(0, 0, 0, 0.3));\n",
              "      fill: #FFFFFF;\n",
              "    }\n",
              "  </style>\n",
              "\n",
              "    <script>\n",
              "      const buttonEl =\n",
              "        document.querySelector('#df-04a2ef20-3793-4670-8445-c93c2b78ac8e button.colab-df-convert');\n",
              "      buttonEl.style.display =\n",
              "        google.colab.kernel.accessAllowed ? 'block' : 'none';\n",
              "\n",
              "      async function convertToInteractive(key) {\n",
              "        const element = document.querySelector('#df-04a2ef20-3793-4670-8445-c93c2b78ac8e');\n",
              "        const dataTable =\n",
              "          await google.colab.kernel.invokeFunction('convertToInteractive',\n",
              "                                                    [key], {});\n",
              "        if (!dataTable) return;\n",
              "\n",
              "        const docLinkHtml = 'Like what you see? Visit the ' +\n",
              "          '<a target=\"_blank\" href=https://colab.research.google.com/notebooks/data_table.ipynb>data table notebook</a>'\n",
              "          + ' to learn more about interactive tables.';\n",
              "        element.innerHTML = '';\n",
              "        dataTable['output_type'] = 'display_data';\n",
              "        await google.colab.output.renderOutput(dataTable, element);\n",
              "        const docLink = document.createElement('div');\n",
              "        docLink.innerHTML = docLinkHtml;\n",
              "        element.appendChild(docLink);\n",
              "      }\n",
              "    </script>\n",
              "  </div>\n",
              "\n",
              "    </div>\n",
              "  </div>\n"
            ]
          },
          "metadata": {},
          "execution_count": 60
        }
      ]
    },
    {
      "cell_type": "code",
      "source": [
        "df[df[\"Plot\"] == df.iloc[286][\"Plot\"]]"
      ],
      "metadata": {
        "colab": {
          "base_uri": "https://localhost:8080/",
          "height": 380
        },
        "id": "SysL_AY45gB4",
        "outputId": "17acd92f-d254-4318-980b-f4b996f3076f"
      },
      "execution_count": 61,
      "outputs": [
        {
          "output_type": "execute_result",
          "data": {
            "text/plain": [
              "     Release Year                   Title Origin/Ethnicity         Director                        Cast  Genre                                          Wiki Page  \\\n",
              "227          1918  Nine-Tenths of the Law         American  B. Reeves Eason              Mitchell Lewis  drama  https://en.wikipedia.org/wiki/Nine-Tenths_of_t...   \n",
              "286          1919  Nine-Tenths of the Law         American  B. Reeves Eason  Mitchell Lewis, Jimsy Maye  drama  https://en.wikipedia.org/wiki/Nine-Tenths_of_t...   \n",
              "\n",
              "                                                  Plot                                        PlotSummary  \n",
              "227  As described in a film magazine,[1] Jules Lene...  Jules Leneau (Lewis) and his wife Jane (Maye),...  \n",
              "286  As described in a film magazine,[1] Jules Lene...  Jules Leneau (Lewis) and his wife Jane (Maye),...  "
            ],
            "text/html": [
              "\n",
              "  <div id=\"df-b17a4b26-6fc0-4ff1-b141-afde29434c9b\" class=\"colab-df-container\">\n",
              "    <div>\n",
              "<style scoped>\n",
              "    .dataframe tbody tr th:only-of-type {\n",
              "        vertical-align: middle;\n",
              "    }\n",
              "\n",
              "    .dataframe tbody tr th {\n",
              "        vertical-align: top;\n",
              "    }\n",
              "\n",
              "    .dataframe thead th {\n",
              "        text-align: right;\n",
              "    }\n",
              "</style>\n",
              "<table border=\"1\" class=\"dataframe\">\n",
              "  <thead>\n",
              "    <tr style=\"text-align: right;\">\n",
              "      <th></th>\n",
              "      <th>Release Year</th>\n",
              "      <th>Title</th>\n",
              "      <th>Origin/Ethnicity</th>\n",
              "      <th>Director</th>\n",
              "      <th>Cast</th>\n",
              "      <th>Genre</th>\n",
              "      <th>Wiki Page</th>\n",
              "      <th>Plot</th>\n",
              "      <th>PlotSummary</th>\n",
              "    </tr>\n",
              "  </thead>\n",
              "  <tbody>\n",
              "    <tr>\n",
              "      <th>227</th>\n",
              "      <td>1918</td>\n",
              "      <td>Nine-Tenths of the Law</td>\n",
              "      <td>American</td>\n",
              "      <td>B. Reeves Eason</td>\n",
              "      <td>Mitchell Lewis</td>\n",
              "      <td>drama</td>\n",
              "      <td>https://en.wikipedia.org/wiki/Nine-Tenths_of_t...</td>\n",
              "      <td>As described in a film magazine,[1] Jules Lene...</td>\n",
              "      <td>Jules Leneau (Lewis) and his wife Jane (Maye),...</td>\n",
              "    </tr>\n",
              "    <tr>\n",
              "      <th>286</th>\n",
              "      <td>1919</td>\n",
              "      <td>Nine-Tenths of the Law</td>\n",
              "      <td>American</td>\n",
              "      <td>B. Reeves Eason</td>\n",
              "      <td>Mitchell Lewis, Jimsy Maye</td>\n",
              "      <td>drama</td>\n",
              "      <td>https://en.wikipedia.org/wiki/Nine-Tenths_of_t...</td>\n",
              "      <td>As described in a film magazine,[1] Jules Lene...</td>\n",
              "      <td>Jules Leneau (Lewis) and his wife Jane (Maye),...</td>\n",
              "    </tr>\n",
              "  </tbody>\n",
              "</table>\n",
              "</div>\n",
              "    <div class=\"colab-df-buttons\">\n",
              "\n",
              "  <div class=\"colab-df-container\">\n",
              "    <button class=\"colab-df-convert\" onclick=\"convertToInteractive('df-b17a4b26-6fc0-4ff1-b141-afde29434c9b')\"\n",
              "            title=\"Convert this dataframe to an interactive table.\"\n",
              "            style=\"display:none;\">\n",
              "\n",
              "  <svg xmlns=\"http://www.w3.org/2000/svg\" height=\"24px\" viewBox=\"0 -960 960 960\">\n",
              "    <path d=\"M120-120v-720h720v720H120Zm60-500h600v-160H180v160Zm220 220h160v-160H400v160Zm0 220h160v-160H400v160ZM180-400h160v-160H180v160Zm440 0h160v-160H620v160ZM180-180h160v-160H180v160Zm440 0h160v-160H620v160Z\"/>\n",
              "  </svg>\n",
              "    </button>\n",
              "\n",
              "  <style>\n",
              "    .colab-df-container {\n",
              "      display:flex;\n",
              "      gap: 12px;\n",
              "    }\n",
              "\n",
              "    .colab-df-convert {\n",
              "      background-color: #E8F0FE;\n",
              "      border: none;\n",
              "      border-radius: 50%;\n",
              "      cursor: pointer;\n",
              "      display: none;\n",
              "      fill: #1967D2;\n",
              "      height: 32px;\n",
              "      padding: 0 0 0 0;\n",
              "      width: 32px;\n",
              "    }\n",
              "\n",
              "    .colab-df-convert:hover {\n",
              "      background-color: #E2EBFA;\n",
              "      box-shadow: 0px 1px 2px rgba(60, 64, 67, 0.3), 0px 1px 3px 1px rgba(60, 64, 67, 0.15);\n",
              "      fill: #174EA6;\n",
              "    }\n",
              "\n",
              "    .colab-df-buttons div {\n",
              "      margin-bottom: 4px;\n",
              "    }\n",
              "\n",
              "    [theme=dark] .colab-df-convert {\n",
              "      background-color: #3B4455;\n",
              "      fill: #D2E3FC;\n",
              "    }\n",
              "\n",
              "    [theme=dark] .colab-df-convert:hover {\n",
              "      background-color: #434B5C;\n",
              "      box-shadow: 0px 1px 3px 1px rgba(0, 0, 0, 0.15);\n",
              "      filter: drop-shadow(0px 1px 2px rgba(0, 0, 0, 0.3));\n",
              "      fill: #FFFFFF;\n",
              "    }\n",
              "  </style>\n",
              "\n",
              "    <script>\n",
              "      const buttonEl =\n",
              "        document.querySelector('#df-b17a4b26-6fc0-4ff1-b141-afde29434c9b button.colab-df-convert');\n",
              "      buttonEl.style.display =\n",
              "        google.colab.kernel.accessAllowed ? 'block' : 'none';\n",
              "\n",
              "      async function convertToInteractive(key) {\n",
              "        const element = document.querySelector('#df-b17a4b26-6fc0-4ff1-b141-afde29434c9b');\n",
              "        const dataTable =\n",
              "          await google.colab.kernel.invokeFunction('convertToInteractive',\n",
              "                                                    [key], {});\n",
              "        if (!dataTable) return;\n",
              "\n",
              "        const docLinkHtml = 'Like what you see? Visit the ' +\n",
              "          '<a target=\"_blank\" href=https://colab.research.google.com/notebooks/data_table.ipynb>data table notebook</a>'\n",
              "          + ' to learn more about interactive tables.';\n",
              "        element.innerHTML = '';\n",
              "        dataTable['output_type'] = 'display_data';\n",
              "        await google.colab.output.renderOutput(dataTable, element);\n",
              "        const docLink = document.createElement('div');\n",
              "        docLink.innerHTML = docLinkHtml;\n",
              "        element.appendChild(docLink);\n",
              "      }\n",
              "    </script>\n",
              "  </div>\n",
              "\n",
              "    </div>\n",
              "  </div>\n"
            ]
          },
          "metadata": {},
          "execution_count": 61
        }
      ]
    },
    {
      "cell_type": "code",
      "source": [
        "print(f\"Number of duplicated rows: {len(df[df.duplicated(subset=['Plot', 'PlotSummary'])])}\")\n",
        "\n",
        "print(f\"DF length before duplicates removal: {len(df)}\")\n",
        "df = df.drop_duplicates(subset=['Plot', 'PlotSummary'])\n",
        "print(f\"DF length after duplicates removal: {len(df)}\")"
      ],
      "metadata": {
        "colab": {
          "base_uri": "https://localhost:8080/"
        },
        "id": "M1P-hclN0MAj",
        "outputId": "6ff03142-b0ad-42cb-8b0c-fb93d9e37b09"
      },
      "execution_count": 62,
      "outputs": [
        {
          "output_type": "stream",
          "name": "stdout",
          "text": [
            "Number of duplicated rows: 1017\n",
            "DF length before duplicates removal: 34886\n",
            "DF length after duplicates removal: 33869\n"
          ]
        }
      ]
    },
    {
      "cell_type": "markdown",
      "source": [
        "### Let's check rows where PlotSummary = Plot"
      ],
      "metadata": {
        "id": "QysGGcbAtoFu"
      }
    },
    {
      "cell_type": "code",
      "source": [
        "summ_equals_plot_mask = df['Plot'] == df['PlotSummary']\n",
        "summ_equals_plot = df[summ_equals_plot_mask]\n",
        "print(\"# of rows were Summary equals Plot:\", len(summ_equals_plot))\n",
        "summ_equals_plot.head(3)[['Plot', 'PlotSummary']]"
      ],
      "metadata": {
        "colab": {
          "base_uri": "https://localhost:8080/",
          "height": 287
        },
        "id": "1aZk86QztsB8",
        "outputId": "57845966-6383-4526-f5fb-2bccca198f4e"
      },
      "execution_count": 63,
      "outputs": [
        {
          "output_type": "stream",
          "name": "stdout",
          "text": [
            "# of rows were Summary equals Plot: 121\n"
          ]
        },
        {
          "output_type": "execute_result",
          "data": {
            "text/plain": [
              "                                                  Plot                                        PlotSummary\n",
              "120  A young sculptor searches for the perfect mode...  A young sculptor searches for the perfect mode...\n",
              "385  Buster plays a drifter who cons his way into w...  Buster plays a drifter who cons his way into w...\n",
              "441  Chaplin plays a laborer on a house constructio...  Chaplin plays a laborer on a house constructio..."
            ],
            "text/html": [
              "\n",
              "  <div id=\"df-532a17b6-7143-4c41-bbe9-33d10ef9a9a8\" class=\"colab-df-container\">\n",
              "    <div>\n",
              "<style scoped>\n",
              "    .dataframe tbody tr th:only-of-type {\n",
              "        vertical-align: middle;\n",
              "    }\n",
              "\n",
              "    .dataframe tbody tr th {\n",
              "        vertical-align: top;\n",
              "    }\n",
              "\n",
              "    .dataframe thead th {\n",
              "        text-align: right;\n",
              "    }\n",
              "</style>\n",
              "<table border=\"1\" class=\"dataframe\">\n",
              "  <thead>\n",
              "    <tr style=\"text-align: right;\">\n",
              "      <th></th>\n",
              "      <th>Plot</th>\n",
              "      <th>PlotSummary</th>\n",
              "    </tr>\n",
              "  </thead>\n",
              "  <tbody>\n",
              "    <tr>\n",
              "      <th>120</th>\n",
              "      <td>A young sculptor searches for the perfect mode...</td>\n",
              "      <td>A young sculptor searches for the perfect mode...</td>\n",
              "    </tr>\n",
              "    <tr>\n",
              "      <th>385</th>\n",
              "      <td>Buster plays a drifter who cons his way into w...</td>\n",
              "      <td>Buster plays a drifter who cons his way into w...</td>\n",
              "    </tr>\n",
              "    <tr>\n",
              "      <th>441</th>\n",
              "      <td>Chaplin plays a laborer on a house constructio...</td>\n",
              "      <td>Chaplin plays a laborer on a house constructio...</td>\n",
              "    </tr>\n",
              "  </tbody>\n",
              "</table>\n",
              "</div>\n",
              "    <div class=\"colab-df-buttons\">\n",
              "\n",
              "  <div class=\"colab-df-container\">\n",
              "    <button class=\"colab-df-convert\" onclick=\"convertToInteractive('df-532a17b6-7143-4c41-bbe9-33d10ef9a9a8')\"\n",
              "            title=\"Convert this dataframe to an interactive table.\"\n",
              "            style=\"display:none;\">\n",
              "\n",
              "  <svg xmlns=\"http://www.w3.org/2000/svg\" height=\"24px\" viewBox=\"0 -960 960 960\">\n",
              "    <path d=\"M120-120v-720h720v720H120Zm60-500h600v-160H180v160Zm220 220h160v-160H400v160Zm0 220h160v-160H400v160ZM180-400h160v-160H180v160Zm440 0h160v-160H620v160ZM180-180h160v-160H180v160Zm440 0h160v-160H620v160Z\"/>\n",
              "  </svg>\n",
              "    </button>\n",
              "\n",
              "  <style>\n",
              "    .colab-df-container {\n",
              "      display:flex;\n",
              "      gap: 12px;\n",
              "    }\n",
              "\n",
              "    .colab-df-convert {\n",
              "      background-color: #E8F0FE;\n",
              "      border: none;\n",
              "      border-radius: 50%;\n",
              "      cursor: pointer;\n",
              "      display: none;\n",
              "      fill: #1967D2;\n",
              "      height: 32px;\n",
              "      padding: 0 0 0 0;\n",
              "      width: 32px;\n",
              "    }\n",
              "\n",
              "    .colab-df-convert:hover {\n",
              "      background-color: #E2EBFA;\n",
              "      box-shadow: 0px 1px 2px rgba(60, 64, 67, 0.3), 0px 1px 3px 1px rgba(60, 64, 67, 0.15);\n",
              "      fill: #174EA6;\n",
              "    }\n",
              "\n",
              "    .colab-df-buttons div {\n",
              "      margin-bottom: 4px;\n",
              "    }\n",
              "\n",
              "    [theme=dark] .colab-df-convert {\n",
              "      background-color: #3B4455;\n",
              "      fill: #D2E3FC;\n",
              "    }\n",
              "\n",
              "    [theme=dark] .colab-df-convert:hover {\n",
              "      background-color: #434B5C;\n",
              "      box-shadow: 0px 1px 3px 1px rgba(0, 0, 0, 0.15);\n",
              "      filter: drop-shadow(0px 1px 2px rgba(0, 0, 0, 0.3));\n",
              "      fill: #FFFFFF;\n",
              "    }\n",
              "  </style>\n",
              "\n",
              "    <script>\n",
              "      const buttonEl =\n",
              "        document.querySelector('#df-532a17b6-7143-4c41-bbe9-33d10ef9a9a8 button.colab-df-convert');\n",
              "      buttonEl.style.display =\n",
              "        google.colab.kernel.accessAllowed ? 'block' : 'none';\n",
              "\n",
              "      async function convertToInteractive(key) {\n",
              "        const element = document.querySelector('#df-532a17b6-7143-4c41-bbe9-33d10ef9a9a8');\n",
              "        const dataTable =\n",
              "          await google.colab.kernel.invokeFunction('convertToInteractive',\n",
              "                                                    [key], {});\n",
              "        if (!dataTable) return;\n",
              "\n",
              "        const docLinkHtml = 'Like what you see? Visit the ' +\n",
              "          '<a target=\"_blank\" href=https://colab.research.google.com/notebooks/data_table.ipynb>data table notebook</a>'\n",
              "          + ' to learn more about interactive tables.';\n",
              "        element.innerHTML = '';\n",
              "        dataTable['output_type'] = 'display_data';\n",
              "        await google.colab.output.renderOutput(dataTable, element);\n",
              "        const docLink = document.createElement('div');\n",
              "        docLink.innerHTML = docLinkHtml;\n",
              "        element.appendChild(docLink);\n",
              "      }\n",
              "    </script>\n",
              "  </div>\n",
              "\n",
              "    </div>\n",
              "  </div>\n"
            ]
          },
          "metadata": {},
          "execution_count": 63
        }
      ]
    },
    {
      "cell_type": "code",
      "source": [
        "# Let's make the Plot empty for rows where Plot equals Summary\n",
        "df.loc[summ_equals_plot_mask, 'Plot'] = ''\n",
        "df[df['Plot'] == df['PlotSummary']].head(3)[['Plot', 'PlotSummary']]"
      ],
      "metadata": {
        "colab": {
          "base_uri": "https://localhost:8080/",
          "height": 53
        },
        "id": "iIilAL9fuHTX",
        "outputId": "2b955b49-8ebe-4fb4-e636-8298e17456b9"
      },
      "execution_count": 64,
      "outputs": [
        {
          "output_type": "execute_result",
          "data": {
            "text/plain": [
              "Empty DataFrame\n",
              "Columns: [Plot, PlotSummary]\n",
              "Index: []"
            ],
            "text/html": [
              "\n",
              "  <div id=\"df-ef7af558-62b0-49c9-8d50-d3f8c9a82080\" class=\"colab-df-container\">\n",
              "    <div>\n",
              "<style scoped>\n",
              "    .dataframe tbody tr th:only-of-type {\n",
              "        vertical-align: middle;\n",
              "    }\n",
              "\n",
              "    .dataframe tbody tr th {\n",
              "        vertical-align: top;\n",
              "    }\n",
              "\n",
              "    .dataframe thead th {\n",
              "        text-align: right;\n",
              "    }\n",
              "</style>\n",
              "<table border=\"1\" class=\"dataframe\">\n",
              "  <thead>\n",
              "    <tr style=\"text-align: right;\">\n",
              "      <th></th>\n",
              "      <th>Plot</th>\n",
              "      <th>PlotSummary</th>\n",
              "    </tr>\n",
              "  </thead>\n",
              "  <tbody>\n",
              "  </tbody>\n",
              "</table>\n",
              "</div>\n",
              "    <div class=\"colab-df-buttons\">\n",
              "\n",
              "  <div class=\"colab-df-container\">\n",
              "    <button class=\"colab-df-convert\" onclick=\"convertToInteractive('df-ef7af558-62b0-49c9-8d50-d3f8c9a82080')\"\n",
              "            title=\"Convert this dataframe to an interactive table.\"\n",
              "            style=\"display:none;\">\n",
              "\n",
              "  <svg xmlns=\"http://www.w3.org/2000/svg\" height=\"24px\" viewBox=\"0 -960 960 960\">\n",
              "    <path d=\"M120-120v-720h720v720H120Zm60-500h600v-160H180v160Zm220 220h160v-160H400v160Zm0 220h160v-160H400v160ZM180-400h160v-160H180v160Zm440 0h160v-160H620v160ZM180-180h160v-160H180v160Zm440 0h160v-160H620v160Z\"/>\n",
              "  </svg>\n",
              "    </button>\n",
              "\n",
              "  <style>\n",
              "    .colab-df-container {\n",
              "      display:flex;\n",
              "      gap: 12px;\n",
              "    }\n",
              "\n",
              "    .colab-df-convert {\n",
              "      background-color: #E8F0FE;\n",
              "      border: none;\n",
              "      border-radius: 50%;\n",
              "      cursor: pointer;\n",
              "      display: none;\n",
              "      fill: #1967D2;\n",
              "      height: 32px;\n",
              "      padding: 0 0 0 0;\n",
              "      width: 32px;\n",
              "    }\n",
              "\n",
              "    .colab-df-convert:hover {\n",
              "      background-color: #E2EBFA;\n",
              "      box-shadow: 0px 1px 2px rgba(60, 64, 67, 0.3), 0px 1px 3px 1px rgba(60, 64, 67, 0.15);\n",
              "      fill: #174EA6;\n",
              "    }\n",
              "\n",
              "    .colab-df-buttons div {\n",
              "      margin-bottom: 4px;\n",
              "    }\n",
              "\n",
              "    [theme=dark] .colab-df-convert {\n",
              "      background-color: #3B4455;\n",
              "      fill: #D2E3FC;\n",
              "    }\n",
              "\n",
              "    [theme=dark] .colab-df-convert:hover {\n",
              "      background-color: #434B5C;\n",
              "      box-shadow: 0px 1px 3px 1px rgba(0, 0, 0, 0.15);\n",
              "      filter: drop-shadow(0px 1px 2px rgba(0, 0, 0, 0.3));\n",
              "      fill: #FFFFFF;\n",
              "    }\n",
              "  </style>\n",
              "\n",
              "    <script>\n",
              "      const buttonEl =\n",
              "        document.querySelector('#df-ef7af558-62b0-49c9-8d50-d3f8c9a82080 button.colab-df-convert');\n",
              "      buttonEl.style.display =\n",
              "        google.colab.kernel.accessAllowed ? 'block' : 'none';\n",
              "\n",
              "      async function convertToInteractive(key) {\n",
              "        const element = document.querySelector('#df-ef7af558-62b0-49c9-8d50-d3f8c9a82080');\n",
              "        const dataTable =\n",
              "          await google.colab.kernel.invokeFunction('convertToInteractive',\n",
              "                                                    [key], {});\n",
              "        if (!dataTable) return;\n",
              "\n",
              "        const docLinkHtml = 'Like what you see? Visit the ' +\n",
              "          '<a target=\"_blank\" href=https://colab.research.google.com/notebooks/data_table.ipynb>data table notebook</a>'\n",
              "          + ' to learn more about interactive tables.';\n",
              "        element.innerHTML = '';\n",
              "        dataTable['output_type'] = 'display_data';\n",
              "        await google.colab.output.renderOutput(dataTable, element);\n",
              "        const docLink = document.createElement('div');\n",
              "        docLink.innerHTML = docLinkHtml;\n",
              "        element.appendChild(docLink);\n",
              "      }\n",
              "    </script>\n",
              "  </div>\n",
              "\n",
              "    </div>\n",
              "  </div>\n"
            ]
          },
          "metadata": {},
          "execution_count": 64
        }
      ]
    },
    {
      "cell_type": "markdown",
      "source": [
        "### Let's check rows where PlotSummary starts with Plot content and viceversa"
      ],
      "metadata": {
        "id": "4XRWwVPYUAn4"
      }
    },
    {
      "cell_type": "code",
      "source": [
        "summ_starts_w_plot_mask = df.apply(lambda row: row['PlotSummary'].startswith(row['Plot']), axis=1)\n",
        "summ_starts_w_plot = df[summ_starts_w_plot_mask]\n",
        "print(\"# of rows were Summary starts with Plot:\", len(summ_starts_w_plot))\n",
        "summ_starts_w_plot.head(3)[['Plot', 'PlotSummary']]"
      ],
      "metadata": {
        "colab": {
          "base_uri": "https://localhost:8080/",
          "height": 161
        },
        "id": "noYsW4ZyRInX",
        "outputId": "4bed8f14-cfb5-41e5-c164-fdbb060c671e"
      },
      "execution_count": 65,
      "outputs": [
        {
          "output_type": "stream",
          "name": "stdout",
          "text": [
            "# of rows were Summary starts with Plot: 935\n"
          ]
        },
        {
          "output_type": "execute_result",
          "data": {
            "text/plain": [
              "                                                 Plot                                        PlotSummary\n",
              "11  The film features a train traveling through th...  The film features a train traveling through th...\n",
              "43  The story concerns a soldier who deserts his r...  The story concerns a soldier who deserts his r...\n",
              "52  Barney Oldfield races a speeding locomotive to...  Barney Oldfield races a speeding locomotive to..."
            ],
            "text/html": [
              "\n",
              "  <div id=\"df-2c5752d0-6abd-4f68-9384-5a0eb520cced\" class=\"colab-df-container\">\n",
              "    <div>\n",
              "<style scoped>\n",
              "    .dataframe tbody tr th:only-of-type {\n",
              "        vertical-align: middle;\n",
              "    }\n",
              "\n",
              "    .dataframe tbody tr th {\n",
              "        vertical-align: top;\n",
              "    }\n",
              "\n",
              "    .dataframe thead th {\n",
              "        text-align: right;\n",
              "    }\n",
              "</style>\n",
              "<table border=\"1\" class=\"dataframe\">\n",
              "  <thead>\n",
              "    <tr style=\"text-align: right;\">\n",
              "      <th></th>\n",
              "      <th>Plot</th>\n",
              "      <th>PlotSummary</th>\n",
              "    </tr>\n",
              "  </thead>\n",
              "  <tbody>\n",
              "    <tr>\n",
              "      <th>11</th>\n",
              "      <td>The film features a train traveling through th...</td>\n",
              "      <td>The film features a train traveling through th...</td>\n",
              "    </tr>\n",
              "    <tr>\n",
              "      <th>43</th>\n",
              "      <td>The story concerns a soldier who deserts his r...</td>\n",
              "      <td>The story concerns a soldier who deserts his r...</td>\n",
              "    </tr>\n",
              "    <tr>\n",
              "      <th>52</th>\n",
              "      <td>Barney Oldfield races a speeding locomotive to...</td>\n",
              "      <td>Barney Oldfield races a speeding locomotive to...</td>\n",
              "    </tr>\n",
              "  </tbody>\n",
              "</table>\n",
              "</div>\n",
              "    <div class=\"colab-df-buttons\">\n",
              "\n",
              "  <div class=\"colab-df-container\">\n",
              "    <button class=\"colab-df-convert\" onclick=\"convertToInteractive('df-2c5752d0-6abd-4f68-9384-5a0eb520cced')\"\n",
              "            title=\"Convert this dataframe to an interactive table.\"\n",
              "            style=\"display:none;\">\n",
              "\n",
              "  <svg xmlns=\"http://www.w3.org/2000/svg\" height=\"24px\" viewBox=\"0 -960 960 960\">\n",
              "    <path d=\"M120-120v-720h720v720H120Zm60-500h600v-160H180v160Zm220 220h160v-160H400v160Zm0 220h160v-160H400v160ZM180-400h160v-160H180v160Zm440 0h160v-160H620v160ZM180-180h160v-160H180v160Zm440 0h160v-160H620v160Z\"/>\n",
              "  </svg>\n",
              "    </button>\n",
              "\n",
              "  <style>\n",
              "    .colab-df-container {\n",
              "      display:flex;\n",
              "      gap: 12px;\n",
              "    }\n",
              "\n",
              "    .colab-df-convert {\n",
              "      background-color: #E8F0FE;\n",
              "      border: none;\n",
              "      border-radius: 50%;\n",
              "      cursor: pointer;\n",
              "      display: none;\n",
              "      fill: #1967D2;\n",
              "      height: 32px;\n",
              "      padding: 0 0 0 0;\n",
              "      width: 32px;\n",
              "    }\n",
              "\n",
              "    .colab-df-convert:hover {\n",
              "      background-color: #E2EBFA;\n",
              "      box-shadow: 0px 1px 2px rgba(60, 64, 67, 0.3), 0px 1px 3px 1px rgba(60, 64, 67, 0.15);\n",
              "      fill: #174EA6;\n",
              "    }\n",
              "\n",
              "    .colab-df-buttons div {\n",
              "      margin-bottom: 4px;\n",
              "    }\n",
              "\n",
              "    [theme=dark] .colab-df-convert {\n",
              "      background-color: #3B4455;\n",
              "      fill: #D2E3FC;\n",
              "    }\n",
              "\n",
              "    [theme=dark] .colab-df-convert:hover {\n",
              "      background-color: #434B5C;\n",
              "      box-shadow: 0px 1px 3px 1px rgba(0, 0, 0, 0.15);\n",
              "      filter: drop-shadow(0px 1px 2px rgba(0, 0, 0, 0.3));\n",
              "      fill: #FFFFFF;\n",
              "    }\n",
              "  </style>\n",
              "\n",
              "    <script>\n",
              "      const buttonEl =\n",
              "        document.querySelector('#df-2c5752d0-6abd-4f68-9384-5a0eb520cced button.colab-df-convert');\n",
              "      buttonEl.style.display =\n",
              "        google.colab.kernel.accessAllowed ? 'block' : 'none';\n",
              "\n",
              "      async function convertToInteractive(key) {\n",
              "        const element = document.querySelector('#df-2c5752d0-6abd-4f68-9384-5a0eb520cced');\n",
              "        const dataTable =\n",
              "          await google.colab.kernel.invokeFunction('convertToInteractive',\n",
              "                                                    [key], {});\n",
              "        if (!dataTable) return;\n",
              "\n",
              "        const docLinkHtml = 'Like what you see? Visit the ' +\n",
              "          '<a target=\"_blank\" href=https://colab.research.google.com/notebooks/data_table.ipynb>data table notebook</a>'\n",
              "          + ' to learn more about interactive tables.';\n",
              "        element.innerHTML = '';\n",
              "        dataTable['output_type'] = 'display_data';\n",
              "        await google.colab.output.renderOutput(dataTable, element);\n",
              "        const docLink = document.createElement('div');\n",
              "        docLink.innerHTML = docLinkHtml;\n",
              "        element.appendChild(docLink);\n",
              "      }\n",
              "    </script>\n",
              "  </div>\n",
              "\n",
              "    </div>\n",
              "  </div>\n"
            ]
          },
          "metadata": {},
          "execution_count": 65
        }
      ]
    },
    {
      "cell_type": "code",
      "source": [
        "plot_starts_w_summ_mask = df.apply(lambda row: row['Plot'].startswith(row['PlotSummary']), axis=1)\n",
        "plot_starts_w_summ = df[plot_starts_w_summ_mask]\n",
        "print(\"# of rows were Plot starts with Summary:\", len(plot_starts_w_summ))\n",
        "plot_starts_w_summ.head(3)[['Plot', 'PlotSummary']]"
      ],
      "metadata": {
        "colab": {
          "base_uri": "https://localhost:8080/",
          "height": 161
        },
        "id": "qLHRrq8glRZs",
        "outputId": "f9ecfdfd-cb42-4f5f-d7c5-32001cb7c502"
      },
      "execution_count": 66,
      "outputs": [
        {
          "output_type": "stream",
          "name": "stdout",
          "text": [
            "# of rows were Plot starts with Summary: 387\n"
          ]
        },
        {
          "output_type": "execute_result",
          "data": {
            "text/plain": [
              "                                                 Plot                                        PlotSummary\n",
              "1   The moon, painted with a smiling face hangs ov...  The moon, painted with a smiling face hangs ov...\n",
              "38  The story deals with Tom Brown's efforts to sa...  The story deals with Tom Brown's efforts to sa...\n",
              "46  The film is about a poor married couple living...  The film is about a poor married couple living..."
            ],
            "text/html": [
              "\n",
              "  <div id=\"df-12442c44-bb02-4e94-bd34-656b76974ca0\" class=\"colab-df-container\">\n",
              "    <div>\n",
              "<style scoped>\n",
              "    .dataframe tbody tr th:only-of-type {\n",
              "        vertical-align: middle;\n",
              "    }\n",
              "\n",
              "    .dataframe tbody tr th {\n",
              "        vertical-align: top;\n",
              "    }\n",
              "\n",
              "    .dataframe thead th {\n",
              "        text-align: right;\n",
              "    }\n",
              "</style>\n",
              "<table border=\"1\" class=\"dataframe\">\n",
              "  <thead>\n",
              "    <tr style=\"text-align: right;\">\n",
              "      <th></th>\n",
              "      <th>Plot</th>\n",
              "      <th>PlotSummary</th>\n",
              "    </tr>\n",
              "  </thead>\n",
              "  <tbody>\n",
              "    <tr>\n",
              "      <th>1</th>\n",
              "      <td>The moon, painted with a smiling face hangs ov...</td>\n",
              "      <td>The moon, painted with a smiling face hangs ov...</td>\n",
              "    </tr>\n",
              "    <tr>\n",
              "      <th>38</th>\n",
              "      <td>The story deals with Tom Brown's efforts to sa...</td>\n",
              "      <td>The story deals with Tom Brown's efforts to sa...</td>\n",
              "    </tr>\n",
              "    <tr>\n",
              "      <th>46</th>\n",
              "      <td>The film is about a poor married couple living...</td>\n",
              "      <td>The film is about a poor married couple living...</td>\n",
              "    </tr>\n",
              "  </tbody>\n",
              "</table>\n",
              "</div>\n",
              "    <div class=\"colab-df-buttons\">\n",
              "\n",
              "  <div class=\"colab-df-container\">\n",
              "    <button class=\"colab-df-convert\" onclick=\"convertToInteractive('df-12442c44-bb02-4e94-bd34-656b76974ca0')\"\n",
              "            title=\"Convert this dataframe to an interactive table.\"\n",
              "            style=\"display:none;\">\n",
              "\n",
              "  <svg xmlns=\"http://www.w3.org/2000/svg\" height=\"24px\" viewBox=\"0 -960 960 960\">\n",
              "    <path d=\"M120-120v-720h720v720H120Zm60-500h600v-160H180v160Zm220 220h160v-160H400v160Zm0 220h160v-160H400v160ZM180-400h160v-160H180v160Zm440 0h160v-160H620v160ZM180-180h160v-160H180v160Zm440 0h160v-160H620v160Z\"/>\n",
              "  </svg>\n",
              "    </button>\n",
              "\n",
              "  <style>\n",
              "    .colab-df-container {\n",
              "      display:flex;\n",
              "      gap: 12px;\n",
              "    }\n",
              "\n",
              "    .colab-df-convert {\n",
              "      background-color: #E8F0FE;\n",
              "      border: none;\n",
              "      border-radius: 50%;\n",
              "      cursor: pointer;\n",
              "      display: none;\n",
              "      fill: #1967D2;\n",
              "      height: 32px;\n",
              "      padding: 0 0 0 0;\n",
              "      width: 32px;\n",
              "    }\n",
              "\n",
              "    .colab-df-convert:hover {\n",
              "      background-color: #E2EBFA;\n",
              "      box-shadow: 0px 1px 2px rgba(60, 64, 67, 0.3), 0px 1px 3px 1px rgba(60, 64, 67, 0.15);\n",
              "      fill: #174EA6;\n",
              "    }\n",
              "\n",
              "    .colab-df-buttons div {\n",
              "      margin-bottom: 4px;\n",
              "    }\n",
              "\n",
              "    [theme=dark] .colab-df-convert {\n",
              "      background-color: #3B4455;\n",
              "      fill: #D2E3FC;\n",
              "    }\n",
              "\n",
              "    [theme=dark] .colab-df-convert:hover {\n",
              "      background-color: #434B5C;\n",
              "      box-shadow: 0px 1px 3px 1px rgba(0, 0, 0, 0.15);\n",
              "      filter: drop-shadow(0px 1px 2px rgba(0, 0, 0, 0.3));\n",
              "      fill: #FFFFFF;\n",
              "    }\n",
              "  </style>\n",
              "\n",
              "    <script>\n",
              "      const buttonEl =\n",
              "        document.querySelector('#df-12442c44-bb02-4e94-bd34-656b76974ca0 button.colab-df-convert');\n",
              "      buttonEl.style.display =\n",
              "        google.colab.kernel.accessAllowed ? 'block' : 'none';\n",
              "\n",
              "      async function convertToInteractive(key) {\n",
              "        const element = document.querySelector('#df-12442c44-bb02-4e94-bd34-656b76974ca0');\n",
              "        const dataTable =\n",
              "          await google.colab.kernel.invokeFunction('convertToInteractive',\n",
              "                                                    [key], {});\n",
              "        if (!dataTable) return;\n",
              "\n",
              "        const docLinkHtml = 'Like what you see? Visit the ' +\n",
              "          '<a target=\"_blank\" href=https://colab.research.google.com/notebooks/data_table.ipynb>data table notebook</a>'\n",
              "          + ' to learn more about interactive tables.';\n",
              "        element.innerHTML = '';\n",
              "        dataTable['output_type'] = 'display_data';\n",
              "        await google.colab.output.renderOutput(dataTable, element);\n",
              "        const docLink = document.createElement('div');\n",
              "        docLink.innerHTML = docLinkHtml;\n",
              "        element.appendChild(docLink);\n",
              "      }\n",
              "    </script>\n",
              "  </div>\n",
              "\n",
              "    </div>\n",
              "  </div>\n"
            ]
          },
          "metadata": {},
          "execution_count": 66
        }
      ]
    },
    {
      "cell_type": "code",
      "source": [
        "starts_with_inner_join = pd.merge(summ_starts_w_plot, plot_starts_w_summ, left_index=True, right_index=True, how='inner')\n",
        "print(\"# of rows with same Plot and Summary (expected 0): \", len(starts_with_inner_join))\n",
        "starts_with_inner_join.head(3)[['Plot_x', 'PlotSummary_x']]"
      ],
      "metadata": {
        "colab": {
          "base_uri": "https://localhost:8080/",
          "height": 70
        },
        "id": "19do4lAinTKV",
        "outputId": "b3e12cb3-e67d-4e36-f619-b1a40efc9e81"
      },
      "execution_count": 67,
      "outputs": [
        {
          "output_type": "stream",
          "name": "stdout",
          "text": [
            "# of rows with same Plot and Summary (expected 0):  0\n"
          ]
        },
        {
          "output_type": "execute_result",
          "data": {
            "text/plain": [
              "Empty DataFrame\n",
              "Columns: [Plot_x, PlotSummary_x]\n",
              "Index: []"
            ],
            "text/html": [
              "\n",
              "  <div id=\"df-f083c74b-6d30-4d8e-95e8-acac98088a4e\" class=\"colab-df-container\">\n",
              "    <div>\n",
              "<style scoped>\n",
              "    .dataframe tbody tr th:only-of-type {\n",
              "        vertical-align: middle;\n",
              "    }\n",
              "\n",
              "    .dataframe tbody tr th {\n",
              "        vertical-align: top;\n",
              "    }\n",
              "\n",
              "    .dataframe thead th {\n",
              "        text-align: right;\n",
              "    }\n",
              "</style>\n",
              "<table border=\"1\" class=\"dataframe\">\n",
              "  <thead>\n",
              "    <tr style=\"text-align: right;\">\n",
              "      <th></th>\n",
              "      <th>Plot_x</th>\n",
              "      <th>PlotSummary_x</th>\n",
              "    </tr>\n",
              "  </thead>\n",
              "  <tbody>\n",
              "  </tbody>\n",
              "</table>\n",
              "</div>\n",
              "    <div class=\"colab-df-buttons\">\n",
              "\n",
              "  <div class=\"colab-df-container\">\n",
              "    <button class=\"colab-df-convert\" onclick=\"convertToInteractive('df-f083c74b-6d30-4d8e-95e8-acac98088a4e')\"\n",
              "            title=\"Convert this dataframe to an interactive table.\"\n",
              "            style=\"display:none;\">\n",
              "\n",
              "  <svg xmlns=\"http://www.w3.org/2000/svg\" height=\"24px\" viewBox=\"0 -960 960 960\">\n",
              "    <path d=\"M120-120v-720h720v720H120Zm60-500h600v-160H180v160Zm220 220h160v-160H400v160Zm0 220h160v-160H400v160ZM180-400h160v-160H180v160Zm440 0h160v-160H620v160ZM180-180h160v-160H180v160Zm440 0h160v-160H620v160Z\"/>\n",
              "  </svg>\n",
              "    </button>\n",
              "\n",
              "  <style>\n",
              "    .colab-df-container {\n",
              "      display:flex;\n",
              "      gap: 12px;\n",
              "    }\n",
              "\n",
              "    .colab-df-convert {\n",
              "      background-color: #E8F0FE;\n",
              "      border: none;\n",
              "      border-radius: 50%;\n",
              "      cursor: pointer;\n",
              "      display: none;\n",
              "      fill: #1967D2;\n",
              "      height: 32px;\n",
              "      padding: 0 0 0 0;\n",
              "      width: 32px;\n",
              "    }\n",
              "\n",
              "    .colab-df-convert:hover {\n",
              "      background-color: #E2EBFA;\n",
              "      box-shadow: 0px 1px 2px rgba(60, 64, 67, 0.3), 0px 1px 3px 1px rgba(60, 64, 67, 0.15);\n",
              "      fill: #174EA6;\n",
              "    }\n",
              "\n",
              "    .colab-df-buttons div {\n",
              "      margin-bottom: 4px;\n",
              "    }\n",
              "\n",
              "    [theme=dark] .colab-df-convert {\n",
              "      background-color: #3B4455;\n",
              "      fill: #D2E3FC;\n",
              "    }\n",
              "\n",
              "    [theme=dark] .colab-df-convert:hover {\n",
              "      background-color: #434B5C;\n",
              "      box-shadow: 0px 1px 3px 1px rgba(0, 0, 0, 0.15);\n",
              "      filter: drop-shadow(0px 1px 2px rgba(0, 0, 0, 0.3));\n",
              "      fill: #FFFFFF;\n",
              "    }\n",
              "  </style>\n",
              "\n",
              "    <script>\n",
              "      const buttonEl =\n",
              "        document.querySelector('#df-f083c74b-6d30-4d8e-95e8-acac98088a4e button.colab-df-convert');\n",
              "      buttonEl.style.display =\n",
              "        google.colab.kernel.accessAllowed ? 'block' : 'none';\n",
              "\n",
              "      async function convertToInteractive(key) {\n",
              "        const element = document.querySelector('#df-f083c74b-6d30-4d8e-95e8-acac98088a4e');\n",
              "        const dataTable =\n",
              "          await google.colab.kernel.invokeFunction('convertToInteractive',\n",
              "                                                    [key], {});\n",
              "        if (!dataTable) return;\n",
              "\n",
              "        const docLinkHtml = 'Like what you see? Visit the ' +\n",
              "          '<a target=\"_blank\" href=https://colab.research.google.com/notebooks/data_table.ipynb>data table notebook</a>'\n",
              "          + ' to learn more about interactive tables.';\n",
              "        element.innerHTML = '';\n",
              "        dataTable['output_type'] = 'display_data';\n",
              "        await google.colab.output.renderOutput(dataTable, element);\n",
              "        const docLink = document.createElement('div');\n",
              "        docLink.innerHTML = docLinkHtml;\n",
              "        element.appendChild(docLink);\n",
              "      }\n",
              "    </script>\n",
              "  </div>\n",
              "\n",
              "    </div>\n",
              "  </div>\n"
            ]
          },
          "metadata": {},
          "execution_count": 67
        }
      ]
    },
    {
      "cell_type": "code",
      "source": [
        "# Let's make the Plot empty for rows where Summary starts with Plot\n",
        "df.loc[summ_starts_w_plot_mask, 'Plot'] = ''\n",
        "\n",
        "# Let's make the Summary empty for rows where Plot starts PlotSummary starts with Plot\n",
        "df.loc[plot_starts_w_summ_mask, 'PlotSummary'] = ''"
      ],
      "metadata": {
        "id": "yjBsgNZxoe8P"
      },
      "execution_count": 68,
      "outputs": []
    },
    {
      "cell_type": "markdown",
      "source": [
        "### Plot and Summary length analysis"
      ],
      "metadata": {
        "id": "rYPI_pOWvysF"
      }
    },
    {
      "cell_type": "code",
      "source": [
        "plot_length = df['Plot'].apply(lambda x: len(x.split()))\n",
        "print(\"Statistics of plot lengths:\")\n",
        "print(plot_length.describe())"
      ],
      "metadata": {
        "colab": {
          "base_uri": "https://localhost:8080/"
        },
        "id": "P2qcJMwEjyVP",
        "outputId": "b1693ae8-d0fe-4fbc-c0dc-fd6694bd572d"
      },
      "execution_count": 69,
      "outputs": [
        {
          "output_type": "stream",
          "name": "stdout",
          "text": [
            "Statistics of plot lengths:\n",
            "count    33869.000000\n",
            "mean       369.810859\n",
            "std        314.139920\n",
            "min          0.000000\n",
            "25%        121.000000\n",
            "50%        282.000000\n",
            "75%        577.000000\n",
            "max       6752.000000\n",
            "Name: Plot, dtype: float64\n"
          ]
        }
      ]
    },
    {
      "cell_type": "code",
      "source": [
        "plot_length.hist(bins=12, alpha=0.5)"
      ],
      "metadata": {
        "colab": {
          "base_uri": "https://localhost:8080/",
          "height": 447
        },
        "id": "fE_nhFIRkG1K",
        "outputId": "a060d30b-dac3-4e59-cd82-12f00fd7b4d0"
      },
      "execution_count": 70,
      "outputs": [
        {
          "output_type": "execute_result",
          "data": {
            "text/plain": [
              "<Axes: >"
            ]
          },
          "metadata": {},
          "execution_count": 70
        },
        {
          "output_type": "display_data",
          "data": {
            "text/plain": [
              "<Figure size 640x480 with 1 Axes>"
            ],
            "image/png": "[encoded data removed]"
          },
          "metadata": {}
        }
      ]
    },
    {
      "cell_type": "markdown",
      "source": [
        "Extremely short texts might not provide enough context for meaningful analysis or semantic search. Such short texts might not generate reliable embeddings for comparison in the future.\n",
        "\n",
        "Long texts could impact processing time and memory usage, as well as the quality of embeddings.\n",
        "\n",
        "Given I'll experiment with BERT which provides truncation + padding out of the box and the vector fixed size is 512 tokens, I'll experiment discarding rows where text length is greater than 1024 words (auto padding for < 512 and auto truncation for > 512 vectors)"
      ],
      "metadata": {
        "id": "kPZpBLsVnDt4"
      }
    },
    {
      "cell_type": "code",
      "source": [
        "plot_length_summ = df['PlotSummary'].apply(lambda x: len(x.split()))\n",
        "print(\"Statistics of plot summary lengths:\")\n",
        "print(plot_length_summ.describe())"
      ],
      "metadata": {
        "colab": {
          "base_uri": "https://localhost:8080/"
        },
        "id": "i1S8GXf_knu4",
        "outputId": "81410a39-fd18-413a-d6ee-553e51b17b48"
      },
      "execution_count": 71,
      "outputs": [
        {
          "output_type": "stream",
          "name": "stdout",
          "text": [
            "Statistics of plot summary lengths:\n",
            "count    33869.000000\n",
            "mean        64.602852\n",
            "std         18.037321\n",
            "min          0.000000\n",
            "25%         52.000000\n",
            "50%         62.000000\n",
            "75%         77.000000\n",
            "max        116.000000\n",
            "Name: PlotSummary, dtype: float64\n"
          ]
        }
      ]
    },
    {
      "cell_type": "code",
      "source": [
        "plot_length_summ.hist(bins=12, alpha=0.5)"
      ],
      "metadata": {
        "colab": {
          "base_uri": "https://localhost:8080/",
          "height": 447
        },
        "id": "1Y5u3Tvkk9WG",
        "outputId": "6f1aee0f-e07d-4b53-fece-1ab36b8fbed9"
      },
      "execution_count": 72,
      "outputs": [
        {
          "output_type": "execute_result",
          "data": {
            "text/plain": [
              "<Axes: >"
            ]
          },
          "metadata": {},
          "execution_count": 72
        },
        {
          "output_type": "display_data",
          "data": {
            "text/plain": [
              "<Figure size 640x480 with 1 Axes>"
            ],
            "image/png": "[encoded data removed]"
          },
          "metadata": {}
        }
      ]
    },
    {
      "cell_type": "markdown",
      "source": [
        "This other column seems to have a more consistent distribution in terms of length."
      ],
      "metadata": {
        "id": "BuXmm3m807Mj"
      }
    },
    {
      "cell_type": "markdown",
      "source": [
        "Based on the assignment specification, the expectation is to implement a single index that can handle both \"Plot\" and \"PlotSummary\" embeddings. The purpose of the semantic search is to find the most relevant movie plots and plot summaries based on a generic user query. This implies that the intention is to use a unified approach to create embeddings for both columns and use a single index for querying. That's why the next step is to create a column concatenating both text columns.\n",
        "\n",
        "Another approach is to have 2 indexes (one for each column and query by \"Plot\" or \"PlotSummary\", which would provide the following benefits (but would imply querying buy specific columns):\n",
        "\n",
        "- Semantic Differences: \"Plot\" and \"PlotSummary\" may have distinct semantic characteristics. By using separate indexes, we can capture and leverage these differences to improve search accuracy.\n",
        "\n",
        "- Optimized Search: Separate indexes can be optimized individually. This can lead to more efficient searches and better retrieval of relevant results.\n",
        "\n",
        "- Flexibility: With separate indexes, we have the flexibility to fine-tune parameters, normalization, and other settings specifically for each type of data (if we decide to fine-tune the pretrained model).\n",
        "\n",
        "- Future Extensions: If we plan to incorporate additional types of data in the future, having separate indexes can accommodate such changes, favoring scalability and maintenance of the pipeline.\n",
        "\n"
      ],
      "metadata": {
        "id": "Qdp4lqtj527t"
      }
    },
    {
      "cell_type": "markdown",
      "source": [
        "### Traditional NLP pre-processing\n",
        "\n",
        "Even modern tokenizers handles most of the preproc steps I'd like to share the typical cleaning steps for tokenizing cleaned text data points."
      ],
      "metadata": {
        "id": "aS4OqJhTxci8"
      }
    },
    {
      "cell_type": "code",
      "source": [
        "df['PlotSummary_Plot'] = df['PlotSummary'] + \" \" + df['Plot']"
      ],
      "metadata": {
        "id": "FYlkyE-X7N4f"
      },
      "execution_count": 73,
      "outputs": []
    },
    {
      "cell_type": "code",
      "source": [
        "df[['PlotSummary_Plot', 'Plot', 'PlotSummary']].head(2)"
      ],
      "metadata": {
        "colab": {
          "base_uri": "https://localhost:8080/",
          "height": 112
        },
        "id": "rbq2PKQ91mAr",
        "outputId": "427d7083-5846-490b-d625-d557c138c2ba"
      },
      "execution_count": 74,
      "outputs": [
        {
          "output_type": "execute_result",
          "data": {
            "text/plain": [
              "                                    PlotSummary_Plot                                               Plot                                        PlotSummary\n",
              "0  Carrie Nation and her followers burst into a s...  A bartender is working at a saloon, serving dr...  Carrie Nation and her followers burst into a s...\n",
              "1   The moon, painted with a smiling face hangs o...  The moon, painted with a smiling face hangs ov...                                                   "
            ],
            "text/html": [
              "\n",
              "  <div id=\"df-6a5a4c15-3265-489a-b6d1-3d0de75f873f\" class=\"colab-df-container\">\n",
              "    <div>\n",
              "<style scoped>\n",
              "    .dataframe tbody tr th:only-of-type {\n",
              "        vertical-align: middle;\n",
              "    }\n",
              "\n",
              "    .dataframe tbody tr th {\n",
              "        vertical-align: top;\n",
              "    }\n",
              "\n",
              "    .dataframe thead th {\n",
              "        text-align: right;\n",
              "    }\n",
              "</style>\n",
              "<table border=\"1\" class=\"dataframe\">\n",
              "  <thead>\n",
              "    <tr style=\"text-align: right;\">\n",
              "      <th></th>\n",
              "      <th>PlotSummary_Plot</th>\n",
              "      <th>Plot</th>\n",
              "      <th>PlotSummary</th>\n",
              "    </tr>\n",
              "  </thead>\n",
              "  <tbody>\n",
              "    <tr>\n",
              "      <th>0</th>\n",
              "      <td>Carrie Nation and her followers burst into a s...</td>\n",
              "      <td>A bartender is working at a saloon, serving dr...</td>\n",
              "      <td>Carrie Nation and her followers burst into a s...</td>\n",
              "    </tr>\n",
              "    <tr>\n",
              "      <th>1</th>\n",
              "      <td>The moon, painted with a smiling face hangs o...</td>\n",
              "      <td>The moon, painted with a smiling face hangs ov...</td>\n",
              "      <td></td>\n",
              "    </tr>\n",
              "  </tbody>\n",
              "</table>\n",
              "</div>\n",
              "    <div class=\"colab-df-buttons\">\n",
              "\n",
              "  <div class=\"colab-df-container\">\n",
              "    <button class=\"colab-df-convert\" onclick=\"convertToInteractive('df-6a5a4c15-3265-489a-b6d1-3d0de75f873f')\"\n",
              "            title=\"Convert this dataframe to an interactive table.\"\n",
              "            style=\"display:none;\">\n",
              "\n",
              "  <svg xmlns=\"http://www.w3.org/2000/svg\" height=\"24px\" viewBox=\"0 -960 960 960\">\n",
              "    <path d=\"M120-120v-720h720v720H120Zm60-500h600v-160H180v160Zm220 220h160v-160H400v160Zm0 220h160v-160H400v160ZM180-400h160v-160H180v160Zm440 0h160v-160H620v160ZM180-180h160v-160H180v160Zm440 0h160v-160H620v160Z\"/>\n",
              "  </svg>\n",
              "    </button>\n",
              "\n",
              "  <style>\n",
              "    .colab-df-container {\n",
              "      display:flex;\n",
              "      gap: 12px;\n",
              "    }\n",
              "\n",
              "    .colab-df-convert {\n",
              "      background-color: #E8F0FE;\n",
              "      border: none;\n",
              "      border-radius: 50%;\n",
              "      cursor: pointer;\n",
              "      display: none;\n",
              "      fill: #1967D2;\n",
              "      height: 32px;\n",
              "      padding: 0 0 0 0;\n",
              "      width: 32px;\n",
              "    }\n",
              "\n",
              "    .colab-df-convert:hover {\n",
              "      background-color: #E2EBFA;\n",
              "      box-shadow: 0px 1px 2px rgba(60, 64, 67, 0.3), 0px 1px 3px 1px rgba(60, 64, 67, 0.15);\n",
              "      fill: #174EA6;\n",
              "    }\n",
              "\n",
              "    .colab-df-buttons div {\n",
              "      margin-bottom: 4px;\n",
              "    }\n",
              "\n",
              "    [theme=dark] .colab-df-convert {\n",
              "      background-color: #3B4455;\n",
              "      fill: #D2E3FC;\n",
              "    }\n",
              "\n",
              "    [theme=dark] .colab-df-convert:hover {\n",
              "      background-color: #434B5C;\n",
              "      box-shadow: 0px 1px 3px 1px rgba(0, 0, 0, 0.15);\n",
              "      filter: drop-shadow(0px 1px 2px rgba(0, 0, 0, 0.3));\n",
              "      fill: #FFFFFF;\n",
              "    }\n",
              "  </style>\n",
              "\n",
              "    <script>\n",
              "      const buttonEl =\n",
              "        document.querySelector('#df-6a5a4c15-3265-489a-b6d1-3d0de75f873f button.colab-df-convert');\n",
              "      buttonEl.style.display =\n",
              "        google.colab.kernel.accessAllowed ? 'block' : 'none';\n",
              "\n",
              "      async function convertToInteractive(key) {\n",
              "        const element = document.querySelector('#df-6a5a4c15-3265-489a-b6d1-3d0de75f873f');\n",
              "        const dataTable =\n",
              "          await google.colab.kernel.invokeFunction('convertToInteractive',\n",
              "                                                    [key], {});\n",
              "        if (!dataTable) return;\n",
              "\n",
              "        const docLinkHtml = 'Like what you see? Visit the ' +\n",
              "          '<a target=\"_blank\" href=https://colab.research.google.com/notebooks/data_table.ipynb>data table notebook</a>'\n",
              "          + ' to learn more about interactive tables.';\n",
              "        element.innerHTML = '';\n",
              "        dataTable['output_type'] = 'display_data';\n",
              "        await google.colab.output.renderOutput(dataTable, element);\n",
              "        const docLink = document.createElement('div');\n",
              "        docLink.innerHTML = docLinkHtml;\n",
              "        element.appendChild(docLink);\n",
              "      }\n",
              "    </script>\n",
              "  </div>\n",
              "\n",
              "    </div>\n",
              "  </div>\n"
            ]
          },
          "metadata": {},
          "execution_count": 74
        }
      ]
    },
    {
      "cell_type": "markdown",
      "source": [
        "As we can see in row 0, the concatenated column have repeated sentences (e.g \"The group then begin wrecking the bar, smashing the fixtures, mirrors, and breaking the cash register.\")\n",
        "\n",
        "Let's dedup repeteaded sentences using nltk lib."
      ],
      "metadata": {
        "id": "5m3T9jtz3U5T"
      }
    },
    {
      "cell_type": "code",
      "source": [
        "def deduplicate_sentences(text):\n",
        "    sentences = sent_tokenize(text)\n",
        "    unique_sentences = list(dict.fromkeys(sentences))\n",
        "    cleaned_text = \" \".join(unique_sentences)\n",
        "    return cleaned_text\n",
        "\n",
        "# Apply sentence dedupliction to 'Plot_PlotSummary' column\n",
        "df['Cleaned_PlotSummary_Plot'] = df['PlotSummary_Plot'].apply(deduplicate_sentences)"
      ],
      "metadata": {
        "id": "0ZgN3_1S3Shs"
      },
      "execution_count": 75,
      "outputs": []
    },
    {
      "cell_type": "code",
      "source": [
        "# Initialize NLTK Lemmatizer and stopwords\n",
        "lemmatizer = WordNetLemmatizer()\n",
        "stop_words = set(stopwords.words('english'))\n",
        "\n",
        "def preprocess_text(text):\n",
        "    text = text.lower()\n",
        "\n",
        "    # Remove special charcters and punctuation\n",
        "    text = re.sub(r'[^\\w\\s]', '', text)\n",
        "\n",
        "    # Tokenization\n",
        "    tokens = text.split()\n",
        "\n",
        "    # Remove stopwords and apply lemmatization\n",
        "    tokens = [lemmatizer.lemmatize(token) for token in tokens if token not in stop_words]\n",
        "\n",
        "    # Reconstruct the cleaned text\n",
        "    cleaned_text = ' '.join(tokens)\n",
        "\n",
        "    return cleaned_text\n",
        "\n",
        "# Apply NLP preproc to 'Cleaned_PlotSummary_Plot' column\n",
        "df['Cleaned_PlotSummary_Plot'] = df['Cleaned_PlotSummary_Plot'].apply(preprocess_text)\n"
      ],
      "metadata": {
        "id": "nhlU623H6jcf"
      },
      "execution_count": 76,
      "outputs": []
    },
    {
      "cell_type": "code",
      "source": [
        "df = df[['Cleaned_PlotSummary_Plot', 'PlotSummary_Plot', 'Plot', 'PlotSummary']]"
      ],
      "metadata": {
        "id": "2v2tm4XfS4oY"
      },
      "execution_count": 77,
      "outputs": []
    },
    {
      "cell_type": "code",
      "source": [
        "df.sample(2)"
      ],
      "metadata": {
        "colab": {
          "base_uri": "https://localhost:8080/",
          "height": 112
        },
        "id": "gbAqOCuW8Wpr",
        "outputId": "5fe302d6-f863-4042-f654-07304f4bbc57"
      },
      "execution_count": 78,
      "outputs": [
        {
          "output_type": "execute_result",
          "data": {
            "text/plain": [
              "                               Cleaned_PlotSummary_Plot                                   PlotSummary_Plot                                               Plot  \\\n",
              "8324  attorney harold fine seller forced setting dat...  Attorney Harold Fine (Sellers) is forced into ...  Attorney Harold Fine (Sellers) is forced into ...   \n",
              "7285  catherine holly elizabeth taylor institutional...  Catherine Holly (Elizabeth Taylor) is institut...  New Orleans, 1937: Catherine Holly (Elizabeth ...   \n",
              "\n",
              "                                            PlotSummary  \n",
              "8324  Attorney Harold Fine (Sellers) is forced into ...  \n",
              "7285  Catherine Holly (Elizabeth Taylor) is institut...  "
            ],
            "text/html": [
              "\n",
              "  <div id=\"df-18b2166c-7c9c-4369-8e62-886f95c4ee53\" class=\"colab-df-container\">\n",
              "    <div>\n",
              "<style scoped>\n",
              "    .dataframe tbody tr th:only-of-type {\n",
              "        vertical-align: middle;\n",
              "    }\n",
              "\n",
              "    .dataframe tbody tr th {\n",
              "        vertical-align: top;\n",
              "    }\n",
              "\n",
              "    .dataframe thead th {\n",
              "        text-align: right;\n",
              "    }\n",
              "</style>\n",
              "<table border=\"1\" class=\"dataframe\">\n",
              "  <thead>\n",
              "    <tr style=\"text-align: right;\">\n",
              "      <th></th>\n",
              "      <th>Cleaned_PlotSummary_Plot</th>\n",
              "      <th>PlotSummary_Plot</th>\n",
              "      <th>Plot</th>\n",
              "      <th>PlotSummary</th>\n",
              "    </tr>\n",
              "  </thead>\n",
              "  <tbody>\n",
              "    <tr>\n",
              "      <th>8324</th>\n",
              "      <td>attorney harold fine seller forced setting dat...</td>\n",
              "      <td>Attorney Harold Fine (Sellers) is forced into ...</td>\n",
              "      <td>Attorney Harold Fine (Sellers) is forced into ...</td>\n",
              "      <td>Attorney Harold Fine (Sellers) is forced into ...</td>\n",
              "    </tr>\n",
              "    <tr>\n",
              "      <th>7285</th>\n",
              "      <td>catherine holly elizabeth taylor institutional...</td>\n",
              "      <td>Catherine Holly (Elizabeth Taylor) is institut...</td>\n",
              "      <td>New Orleans, 1937: Catherine Holly (Elizabeth ...</td>\n",
              "      <td>Catherine Holly (Elizabeth Taylor) is institut...</td>\n",
              "    </tr>\n",
              "  </tbody>\n",
              "</table>\n",
              "</div>\n",
              "    <div class=\"colab-df-buttons\">\n",
              "\n",
              "  <div class=\"colab-df-container\">\n",
              "    <button class=\"colab-df-convert\" onclick=\"convertToInteractive('df-18b2166c-7c9c-4369-8e62-886f95c4ee53')\"\n",
              "            title=\"Convert this dataframe to an interactive table.\"\n",
              "            style=\"display:none;\">\n",
              "\n",
              "  <svg xmlns=\"http://www.w3.org/2000/svg\" height=\"24px\" viewBox=\"0 -960 960 960\">\n",
              "    <path d=\"M120-120v-720h720v720H120Zm60-500h600v-160H180v160Zm220 220h160v-160H400v160Zm0 220h160v-160H400v160ZM180-400h160v-160H180v160Zm440 0h160v-160H620v160ZM180-180h160v-160H180v160Zm440 0h160v-160H620v160Z\"/>\n",
              "  </svg>\n",
              "    </button>\n",
              "\n",
              "  <style>\n",
              "    .colab-df-container {\n",
              "      display:flex;\n",
              "      gap: 12px;\n",
              "    }\n",
              "\n",
              "    .colab-df-convert {\n",
              "      background-color: #E8F0FE;\n",
              "      border: none;\n",
              "      border-radius: 50%;\n",
              "      cursor: pointer;\n",
              "      display: none;\n",
              "      fill: #1967D2;\n",
              "      height: 32px;\n",
              "      padding: 0 0 0 0;\n",
              "      width: 32px;\n",
              "    }\n",
              "\n",
              "    .colab-df-convert:hover {\n",
              "      background-color: #E2EBFA;\n",
              "      box-shadow: 0px 1px 2px rgba(60, 64, 67, 0.3), 0px 1px 3px 1px rgba(60, 64, 67, 0.15);\n",
              "      fill: #174EA6;\n",
              "    }\n",
              "\n",
              "    .colab-df-buttons div {\n",
              "      margin-bottom: 4px;\n",
              "    }\n",
              "\n",
              "    [theme=dark] .colab-df-convert {\n",
              "      background-color: #3B4455;\n",
              "      fill: #D2E3FC;\n",
              "    }\n",
              "\n",
              "    [theme=dark] .colab-df-convert:hover {\n",
              "      background-color: #434B5C;\n",
              "      box-shadow: 0px 1px 3px 1px rgba(0, 0, 0, 0.15);\n",
              "      filter: drop-shadow(0px 1px 2px rgba(0, 0, 0, 0.3));\n",
              "      fill: #FFFFFF;\n",
              "    }\n",
              "  </style>\n",
              "\n",
              "    <script>\n",
              "      const buttonEl =\n",
              "        document.querySelector('#df-18b2166c-7c9c-4369-8e62-886f95c4ee53 button.colab-df-convert');\n",
              "      buttonEl.style.display =\n",
              "        google.colab.kernel.accessAllowed ? 'block' : 'none';\n",
              "\n",
              "      async function convertToInteractive(key) {\n",
              "        const element = document.querySelector('#df-18b2166c-7c9c-4369-8e62-886f95c4ee53');\n",
              "        const dataTable =\n",
              "          await google.colab.kernel.invokeFunction('convertToInteractive',\n",
              "                                                    [key], {});\n",
              "        if (!dataTable) return;\n",
              "\n",
              "        const docLinkHtml = 'Like what you see? Visit the ' +\n",
              "          '<a target=\"_blank\" href=https://colab.research.google.com/notebooks/data_table.ipynb>data table notebook</a>'\n",
              "          + ' to learn more about interactive tables.';\n",
              "        element.innerHTML = '';\n",
              "        dataTable['output_type'] = 'display_data';\n",
              "        await google.colab.output.renderOutput(dataTable, element);\n",
              "        const docLink = document.createElement('div');\n",
              "        docLink.innerHTML = docLinkHtml;\n",
              "        element.appendChild(docLink);\n",
              "      }\n",
              "    </script>\n",
              "  </div>\n",
              "\n",
              "    </div>\n",
              "  </div>\n"
            ]
          },
          "metadata": {},
          "execution_count": 78
        }
      ]
    },
    {
      "cell_type": "markdown",
      "source": [
        "As a first step I'll use the data points where after concatenation the length is < 1024 for the similarity search and evaluate results. Given the model I pretend to use (BERT) tokenizes the text using 512 tokens, given it automatically truncates and pads the text, I'd like to experiment using this filter to speed up execution time of tokenization.\n"
      ],
      "metadata": {
        "id": "9ateb4Mfqdvi"
      }
    },
    {
      "cell_type": "code",
      "source": [
        "cleaned_length = df['Cleaned_PlotSummary_Plot'].apply(lambda x: len(x.split()))\n",
        "print(\"Statistics of cleaned concatenated lengths:\")\n",
        "print(cleaned_length.describe())"
      ],
      "metadata": {
        "colab": {
          "base_uri": "https://localhost:8080/"
        },
        "id": "5R8pL_CY7WYq",
        "outputId": "3105c797-ffd3-4105-a57d-b1339fcc61a7"
      },
      "execution_count": 79,
      "outputs": [
        {
          "output_type": "stream",
          "name": "stdout",
          "text": [
            "Statistics of cleaned concatenated lengths:\n",
            "count    33869.000000\n",
            "mean       232.231893\n",
            "std        176.752179\n",
            "min         16.000000\n",
            "25%         90.000000\n",
            "50%        183.000000\n",
            "75%        352.000000\n",
            "max       3614.000000\n",
            "Name: Cleaned_PlotSummary_Plot, dtype: float64\n"
          ]
        }
      ]
    },
    {
      "cell_type": "code",
      "source": [
        "count_above_1024 = (cleaned_length > 1024).sum()\n",
        "print(f\"Number of rows with concat length > 1024: {count_above_1024}\")"
      ],
      "metadata": {
        "colab": {
          "base_uri": "https://localhost:8080/"
        },
        "id": "tRID_nHtI8Oa",
        "outputId": "d228128d-de42-4b2b-b876-7ce71a88a10e"
      },
      "execution_count": 80,
      "outputs": [
        {
          "output_type": "stream",
          "name": "stdout",
          "text": [
            "Number of rows with concat length > 1024: 80\n"
          ]
        }
      ]
    },
    {
      "cell_type": "code",
      "source": [
        "max_word_count = 1024\n",
        "print(f\"DF length before filtering\", len(df))\n",
        "df = df[df['Cleaned_PlotSummary_Plot'].apply(lambda x: len(x.split())) <= max_word_count]\n",
        "df = df.reset_index(drop=True)  # Reset index and drop the old index column\n",
        "print(f\"DF length after filtering\", len(df))"
      ],
      "metadata": {
        "colab": {
          "base_uri": "https://localhost:8080/"
        },
        "id": "z-QINs_zKslM",
        "outputId": "819866b2-4f16-4d93-f0e8-6536e95c7c92"
      },
      "execution_count": 81,
      "outputs": [
        {
          "output_type": "stream",
          "name": "stdout",
          "text": [
            "DF length before filtering 33869\n",
            "DF length after filtering 33789\n"
          ]
        }
      ]
    },
    {
      "cell_type": "markdown",
      "source": [
        "# Semantic Search with FAISS\n"
      ],
      "metadata": {
        "id": "zlvXp4Tp1Qe-"
      }
    },
    {
      "cell_type": "markdown",
      "source": [
        "## Model selection\n",
        "\n",
        "BERT (Bidirectional Encoder Representations from Transformers) is chosen for this task because of its pre-trained nature and contextual understanding of language. BERT-based models have demonstrated exceptional performance in various NLP tasks, including semantic similarity and search. By pre-training on a large corpus, BERT learns rich word representations that capture semantic meaning, context, and relationships.\n",
        "\n",
        "In our case, we're dealing with text data that requires capturing the inner understanding of movie plots and summaries. BERT's bidirectional architecture allows it to understand the context of each word in relation to the entire sentence (also, attention based model). Additionally, BERT's embeddings are particularly well-suited for semantic search tasks, as they encode high-level features that represent the underlying semantics of the text.\n",
        "\n",
        "Using BERT embeddings, we can create meaningful representations of both \"Plot\" and \"PlotSummary\" text data, enabling accurate semantic similarity calculations for our searches.\n",
        "\n",
        "Let's try with BERT and then analyze other alternatives (additional questions section)."
      ],
      "metadata": {
        "id": "_gep4-Yh1Vti"
      }
    },
    {
      "cell_type": "code",
      "source": [
        "device = torch.device(\"cuda\" if torch.cuda.is_available() else \"cpu\")\n",
        "print(device)"
      ],
      "metadata": {
        "colab": {
          "base_uri": "https://localhost:8080/"
        },
        "id": "tbiIMgHqPys2",
        "outputId": "41c5c965-d82f-4261-9c2b-0083181d9066"
      },
      "execution_count": 32,
      "outputs": [
        {
          "output_type": "stream",
          "name": "stdout",
          "text": [
            "cuda\n"
          ]
        }
      ]
    },
    {
      "cell_type": "code",
      "source": [
        "# Load the pre-trained BERT model and tokenizer\n",
        "model_name = \"bert-base-uncased\"\n",
        "tokenizer = BertTokenizer.from_pretrained(model_name)\n",
        "model = BertModel.from_pretrained(model_name).to(device)"
      ],
      "metadata": {
        "id": "rT-Bpo1dlEgO",
        "colab": {
          "base_uri": "https://localhost:8080/",
          "height": 145,
          "referenced_widgets": [
            "37a459fdee7f41dca1c5eabb256793fb",
            "28c6e7c4712c4ebeac5ccda980aeaf73",
            "eeea2265657940b190e6ea4ce1bf62be",
            "fbbbb9d027ef4edca9341eaba10a0fc4",
            "0fd17fc7e27a45f69437f7477bce61c2",
            "ec6a37a69af1498ea9e62a24df1ead7e",
            "52113e4f46b74d3d85be3f5a4d75cde3",
            "2f052f731f53499ab80c3020a93cc5cf",
            "64f5c1dd3d924d3cbf6735ace1d51971",
            "a59ac8b308f5468384a44556044b61b2",
            "ae11269692bc421fbf55782c9849a4a3",
            "29e3344c041b484ab8deac1c9e21e0ea",
            "ac46f337f3b54d489cfefca2ea8ceb55",
            "b542ec7e6bb94b73ab5c4a546e259640",
            "b4d7e99f6fe742a4b16c762e837e1380",
            "a3a84f0040c64f6194105e6a33873de8",
            "09c12f021c1649b3bc5d5e5ce2b7a03f",
            "a6677db2d21b4a4792ae4b1c2b46d9f1",
            "48ec6fd32fc3469980d3c7b0a6c23676",
            "ae79dba743ff450c9d00a386a1b4c7d1",
            "00396e6455de4b249b130d4d48bcdd10",
            "37e5d8ca4ab74b9ca36c321fac75a297",
            "9afaa1d699e94915b84851b40f132c9d",
            "657fdc8c79184e4f951b8bf60bd80378",
            "83dd1907857d4895be2d77a38b7c3cc9",
            "7eada37fd5e546d58016459d85dad4be",
            "e5ab8e82ba284b77bdcc7b095a54e098",
            "e251516e98924dcb91095c921d8e7fd6",
            "5d07eee7f9ff49168f4f262654f6fc54",
            "d98f7175ea10485caa7cadf67e7cd8e7",
            "2c1010d454834208b20b738aab09ff81",
            "8f577fdbc2be482d8930fc62f8b720df",
            "c83908c1b6c54497b1303a051925bd60",
            "a368579025ef46ee8f5b9853e3709e0f",
            "ada0ee740f994229956b9243927474da",
            "caabb7d34ea3475ca43f9ec2e85229ef",
            "d02cc502480049efb1009c5e2237e15b",
            "04640fc7f3074692873dc7fb176bc04f",
            "eb20a2088bd64b39b736db2082d3f272",
            "db65397a19dd4046a680c77f23e49a7f",
            "4a9c96c347c844d7a57e125e50bcfe05",
            "3c6341d4913a42c790340ad35549c237",
            "547cdf9c486b4eff843ff6de6d1dc293",
            "f9b0d78290874cdda4ec55bff799918b"
          ]
        },
        "outputId": "086046d1-f48c-44d1-a479-a88d5a3923d2"
      },
      "execution_count": 33,
      "outputs": [
        {
          "output_type": "display_data",
          "data": {
            "text/plain": [
              "Downloading (…)solve/main/vocab.txt:   0%|          | 0.00/232k [00:00<?, ?B/s]"
            ],
            "application/vnd.jupyter.widget-view+json": {
              "version_major": 2,
              "version_minor": 0,
              "model_id": "37a459fdee7f41dca1c5eabb256793fb"
            }
          },
          "metadata": {}
        },
        {
          "output_type": "display_data",
          "data": {
            "text/plain": [
              "Downloading (…)okenizer_config.json:   0%|          | 0.00/28.0 [00:00<?, ?B/s]"
            ],
            "application/vnd.jupyter.widget-view+json": {
              "version_major": 2,
              "version_minor": 0,
              "model_id": "29e3344c041b484ab8deac1c9e21e0ea"
            }
          },
          "metadata": {}
        },
        {
          "output_type": "display_data",
          "data": {
            "text/plain": [
              "Downloading (…)lve/main/config.json:   0%|          | 0.00/570 [00:00<?, ?B/s]"
            ],
            "application/vnd.jupyter.widget-view+json": {
              "version_major": 2,
              "version_minor": 0,
              "model_id": "9afaa1d699e94915b84851b40f132c9d"
            }
          },
          "metadata": {}
        },
        {
          "output_type": "display_data",
          "data": {
            "text/plain": [
              "Downloading model.safetensors:   0%|          | 0.00/440M [00:00<?, ?B/s]"
            ],
            "application/vnd.jupyter.widget-view+json": {
              "version_major": 2,
              "version_minor": 0,
              "model_id": "a368579025ef46ee8f5b9853e3709e0f"
            }
          },
          "metadata": {}
        }
      ]
    },
    {
      "cell_type": "code",
      "source": [
        "def create_embeddings(text):\n",
        "    inputs = tokenizer(text, return_tensors=\"pt\", padding=True, truncation=True)\n",
        "\n",
        "    with torch.no_grad(): # Don't want to compute gradients since I'm in inference phase\n",
        "        inputs.to('cuda')\n",
        "        output = model(**inputs)  # Forward pass through the BERT model by unpacking inputs dict to key-val format\n",
        "\n",
        "    return output.pooler_output.cpu().numpy()  # Return the pooled output embeddings\n"
      ],
      "metadata": {
        "id": "m1z1SQty8Tjg"
      },
      "execution_count": 34,
      "outputs": []
    },
    {
      "cell_type": "code",
      "source": [
        "# Batch processing and profiling\n",
        "batch_size = 64\n",
        "total_rows = len(df)\n",
        "num_batches = (total_rows + batch_size - 1) // batch_size\n",
        "\n",
        "# Initialize the combined embeddings array\n",
        "combined_embeddings = []\n",
        "\n",
        "start_time = time.time()\n",
        "\n",
        "# Process data in batches using tqdm for progress tracking\n",
        "for batch_idx in tqdm(range(num_batches), desc=\"Processing batches\"):\n",
        "    start_idx = batch_idx * batch_size\n",
        "    end_idx = min((batch_idx + 1) * batch_size, total_rows)\n",
        "    batch_data = df['Cleaned_PlotSummary_Plot'][start_idx:end_idx]\n",
        "\n",
        "    # Create embeddings for the current batch\n",
        "    batch_embeddings = np.array([create_embeddings(text) for text in batch_data])\n",
        "    combined_embeddings.append(batch_embeddings)\n",
        "\n",
        "# concatenates batches results along rows, and then removes any singleton dimensions, resulting in a flattened array\n",
        "combined_embeddings = np.concatenate(combined_embeddings, axis=0).squeeze()\n",
        "\n",
        "end_time = time.time()\n",
        "print(f\"\\nTime taken for embedding generation: {end_time - start_time:.2f} seconds\")\n"
      ],
      "metadata": {
        "colab": {
          "base_uri": "https://localhost:8080/"
        },
        "id": "YtsfpbZa9iVo",
        "outputId": "6f464682-f3c6-42e0-824b-089b061e937d"
      },
      "execution_count": 35,
      "outputs": [
        {
          "output_type": "stream",
          "name": "stderr",
          "text": [
            "Processing batches: 100%|██████████| 477/477 [14:22<00:00,  1.81s/it]"
          ]
        },
        {
          "output_type": "stream",
          "name": "stdout",
          "text": [
            "\n",
            "Time taken for embedding generation: 862.52 seconds\n"
          ]
        },
        {
          "output_type": "stream",
          "name": "stderr",
          "text": [
            "\n"
          ]
        }
      ]
    },
    {
      "cell_type": "code",
      "source": [
        "combined_embeddings.shape"
      ],
      "metadata": {
        "colab": {
          "base_uri": "https://localhost:8080/"
        },
        "id": "hJGInZpiTUIm",
        "outputId": "f91c7eb9-f75f-4b63-cbc6-15c969259d62"
      },
      "execution_count": 36,
      "outputs": [
        {
          "output_type": "execute_result",
          "data": {
            "text/plain": [
              "(30520, 768)"
            ]
          },
          "metadata": {},
          "execution_count": 36
        }
      ]
    },
    {
      "cell_type": "code",
      "source": [
        "# Define the path to save the file\n",
        "save_path = '/content/drive/My Drive/combined_embeddings_movies.npy'\n",
        "\n",
        "# Save the combined_embeddings array\n",
        "np.save(save_path, combined_embeddings)"
      ],
      "metadata": {
        "id": "W97yXRsYp75b"
      },
      "execution_count": 37,
      "outputs": []
    },
    {
      "cell_type": "code",
      "source": [
        "# load_path = '/content/drive/My Drive/combined_embeddings_movies.npy'\n",
        "\n",
        "# loaded_embeddings = np.load(load_path)\n",
        "# combined_embeddings = loaded_embeddings"
      ],
      "metadata": {
        "id": "OTlpXuTnqDF7"
      },
      "execution_count": 112,
      "outputs": []
    },
    {
      "cell_type": "code",
      "source": [
        "# Normalize embeddings using L2 normalization\n",
        "faiss.normalize_L2(combined_embeddings)"
      ],
      "metadata": {
        "id": "c_sNA164XGvA"
      },
      "execution_count": 83,
      "outputs": []
    },
    {
      "cell_type": "code",
      "source": [
        "# Create a single FAISS index for 'Plot_PlotSummary' embeddings\n",
        "index = faiss.IndexFlatIP(combined_embeddings.shape[1])\n",
        "index.add(combined_embeddings)"
      ],
      "metadata": {
        "id": "HLTzI6qtXI6S"
      },
      "execution_count": 84,
      "outputs": []
    },
    {
      "cell_type": "code",
      "source": [
        "# Function to perform semantic search using a given query\n",
        "def semantic_search(query, index):\n",
        "    query_embedding = create_embeddings(query)\n",
        "    faiss.normalize_L2(query_embedding)\n",
        "\n",
        "    # Perform similarity search using the FAISS index\n",
        "    D, I = index.search(query_embedding, k=5)  # Return top 5 most similar indices\n",
        "    return I"
      ],
      "metadata": {
        "id": "hoLXlCyF_J54"
      },
      "execution_count": 85,
      "outputs": []
    },
    {
      "cell_type": "code",
      "source": [
        "example_queries = [\n",
        "  \"Exciting adventures with action\",\n",
        "  \"Heartfelt romance in love story\",\n",
        "  \"Familiar novel set in the United States, preferribly New York\"\n",
        "]\n",
        "\n",
        "search_times = []\n",
        "\n",
        "for query in example_queries:\n",
        "    start_time = time.time()\n",
        "    similar_indices = semantic_search(query, index)\n",
        "    end_time = time.time()\n",
        "\n",
        "    # Track time\n",
        "    search_time = end_time - start_time\n",
        "    search_times.append(search_time)\n",
        "\n",
        "    # Access the rows using Pandas indexing\n",
        "    similar_plots = df.iloc[similar_indices[0]]['Plot']\n",
        "    similar_plot_summaries = df.iloc[similar_indices[0]]['PlotSummary']\n",
        "\n",
        "    # Print the results\n",
        "    print(\"\\n-----> Query:\", query)\n",
        "    print(\"\\n ** Top similar plots and plot summaries:\")\n",
        "    for i, (plot, summary) in enumerate(zip(similar_plots, similar_plot_summaries)):\n",
        "        print(f\"\\nResult {i+1}:\\nPlot: {plot}\\nSummary: {summary}\")\n",
        "\n",
        "    print(f\"Search Time: {search_time:.4f} seconds \\n\\n\")\n",
        "\n",
        "\n",
        "# Calculate average search time\n",
        "average_search_time = sum(search_times) / len(search_times)\n",
        "print(f\"Average Search Time: {average_search_time:.4f} seconds\")"
      ],
      "metadata": {
        "colab": {
          "base_uri": "https://localhost:8080/"
        },
        "id": "J9qGIJA2YTe4",
        "outputId": "79b44c6d-fd2f-459a-dc69-30e8afd88aee"
      },
      "execution_count": 116,
      "outputs": [
        {
          "output_type": "stream",
          "name": "stdout",
          "text": [
            "\n",
            "-----> Query: Exciting adventures with action\n",
            "\n",
            " ** Top similar plots and plot summaries:\n",
            "\n",
            "Result 1:\n",
            "Plot: \n",
            "Summary: Jamie McGregor (Barry Evans) is a virginal sixth-former in a swinging sixties new town, delivering groceries for the local supermarket. However he is more interested in matters sexual and sets out to lose his virginity by attempting to seduce the local girls – Linda, Paula, Caroline, Audrey, and his dream girl Mary.\n",
            "\n",
            "Result 2:\n",
            "Plot: \n",
            "Summary: Luigi, the owner of a Soho saloon, is romancing an unhappily married socialite, Barbara Gale. He finds himself accused for the murder of ex-girl friend, Angela, who was found stabbed in his apartment. He evades the police and asks his friend Limpy for help. It turns out Limpy was the real killer of Angela.\n",
            "\n",
            "Result 3:\n",
            "Plot: \n",
            "Summary: A stranger comes to the town of Tomahawk to investigate who's behind a series of stagecoach holdups. The stranger is determined to find out who's responsible for the series of holdups on stagecoaches. The town is haunted by a string of robberies and robberies.\n",
            "\n",
            "Result 4:\n",
            "Plot: \n",
            "Summary: The crew of a five-man submarine travels the world oceans, planting sensors on the ocean floor to warn scientists of any impending earthquakes. The sensors are planted on the floor to alert scientists of an impending earthquake. The crew planted the sensors to warn of an earthquake in the ocean below.\n",
            "\n",
            "Result 5:\n",
            "Plot: \n",
            "Summary: A prizefighter (Arlen) is struggling to be a champ and is in love with a good girl (Brian), but also involved with a society beauty (Baclanova) at the same time. A society beauty is involved with the society beauty.\n",
            "Search Time: 0.0659 seconds \n",
            "\n",
            "\n",
            "\n",
            "-----> Query: Heartfelt romance in love story\n",
            "\n",
            " ** Top similar plots and plot summaries:\n",
            "\n",
            "Result 1:\n",
            "Plot: \n",
            "Summary: A beautiful but frustrated housewife begins an affair with a former childhood friend. When her suspicious husband starts to show signs of jealousy, the adulterous couple plot to murder him. The film is based on a plot by the wife and her husband who have an affair.\n",
            "\n",
            "Result 2:\n",
            "Plot: The film is mainly based on the rural background. This movie contains a triangular romance between a young woman and two young men.[3][7]\n",
            "Summary: This movie contains a triangular romance between a young woman and two young men. The film is mainly based on the rural background of the film. The movie is based on a triangle romance between the two men and a woman who have a love interest in each other's lives.\n",
            "\n",
            "Result 3:\n",
            "Plot: \n",
            "Summary: An aristocrat marries a singer, but then tries to murder her when he falls in love with another woman. The aristocrat tries to kill the singer when he finds out he has a love for another woman in love. The film is based on the story of an aristocrat's marriage to a singer.\n",
            "\n",
            "Result 4:\n",
            "Plot: Instead of calling her boyfriend, Yoon-jung accidentally calls a total stranger, Hyun-seung, a man who is having trouble getting over his ex-girlfriend. She ends up having phone sex with him and later, they become comfortable with each other and start talking about their respective relationship problems. They eventually decide to meet and a more intimate friendship develops, which leads to both falling for each other.[6]\n",
            "Summary: Instead of calling her boyfriend, Yoon-jung accidentally calls a total stranger, Hyun-seung, a man who is having trouble getting over his ex-girlfriend. She ends up having phone sex with him and later, they become comfortable with each other and start talking about their respective relationship problems. They eventually decide to meet and a more intimate friendship develops.\n",
            "\n",
            "Result 5:\n",
            "Plot: \n",
            "Summary: A woman plans to boost her public profile by getting a divorce and enlists the help of a male friend to act as co-respondent leading to a series of mix-ups and her eventual decision not to get divorced. The woman decides not to have a divorce.\n",
            "Search Time: 0.0512 seconds \n",
            "\n",
            "\n",
            "\n",
            "-----> Query: Familiar novel set in the United States, preferribly New York\n",
            "\n",
            " ** Top similar plots and plot summaries:\n",
            "\n",
            "Result 1:\n",
            "Plot: Set in the 1960s, the film follows the lead character Kent (Lane), as he travels along the California coast.[1] As he drifts, he recalls his former troubled girlfriend, Bobbi (Manuela Thiess) who committed suicide after he broke off their relationship. During his travels he meets up with different women. However, he moves along rather than stay put in hopes of finding a meaning to his life.\n",
            "Summary: Set in the 1960s, the film follows the lead character Kent (Lane), as he travels along the California coast. As he drifts, he recalls his former troubled girlfriend, Bobbi (Manuela Thiess) who committed suicide after he broke off their relationship. During his travels he meets up with different women.\n",
            "\n",
            "Result 2:\n",
            "Plot: Against his better judgment, stockbroker Jimmy King proposes marriage to a Russian refugee called Nadja, promptly complicating his life. He ends up supporting Nadja and all of her family, then must come up with a clever way of getting them all to be self-reliant and out of his house.\n",
            "Summary: Stockbroker Jimmy King proposes marriage to a Russian refugee called Nadja. He ends up supporting Nadja and all of her family, then must come up with a clever way of getting them all to be self-reliant and out of his house. The film is set in New York, New York and London.\n",
            "\n",
            "Result 3:\n",
            "Plot: \n",
            "Summary: During a post-graduation party of a college student obsessed with serial killers, the guests are murdered one by one. Guests are murdered at a party hosted by the student obsessed by serial killers. The film is set in New York City, New York, and is set to be released in September 2015.\n",
            "\n",
            "Result 4:\n",
            "Plot: A shy teacher takes over the running of a hotel.[2]\n",
            "Summary: A shy teacher takes over the running of a hotel from a shy teacher. The story is based on the story of a teacher who runs a hotel in New York City. The book is set to be released in April 2015 and is available on Amazon.com and PBS.com.\n",
            "\n",
            "Result 5:\n",
            "Plot: A meeting of friends descends into a sinister game when one of them accuses the wife of his best friend of infidelity.[2]\n",
            "Summary: A meeting of friends descends into a sinister game when one of them accuses the wife of his best friend of infidelity. The film is based on a plot involving a plot by a group of friends who play a game of sorts. The novel is set in New York City, New York.\n",
            "Search Time: 0.0540 seconds \n",
            "\n",
            "\n",
            "Average Search Time: 0.0570 seconds\n"
          ]
        }
      ]
    },
    {
      "cell_type": "markdown",
      "source": [
        "# Additional questions\n",
        "\n",
        "## Explain your choice of the Hugging Faces model for creating embeddings and its suitability for this task.\n",
        "\n",
        "[BERT](https://arxiv.org/abs/1810.04805) is an excellent choice for generating embeddings in the context of semantic similarity search due to its exceptional natural language understanding capabilities. BERT, which stands for Bidirectional Encoder Representations from Transformers, has been trained on massive amounts of text data, enabling it to comprehend the complex structures of natural language.\n",
        "\n",
        "When applied to the task of creating embeddings for movie plots and summaries, BERT effectively translates textual content into dense representations that encapsulate the semantic meaning of the text. BERT's differencial vs. traditional NLP models lies in the attention mechanism, a component of the Transformer architecture, which enables it to identify and weight the importance of individual words and their contextual relationships within a sentence.\n",
        "\n",
        "In the context of semantic similarity search, BERT embeddings serve as a great tool for measuring the semantic distance between different movie plots and summaries. Given that BERT's embeddings encode semantic meaning, they provide a reliable basis for identifying similarities that extend beyond keyword matches. This results in a more robust and accurate similarity search, enabling to retrieve movies that share conceptual similarities.\n",
        "\n",
        "\n",
        "## Explore how Language Models (LLMs) like GPT or LLama could potentially improve the semantic search performance and explain the possible benefits.\n",
        "\n",
        "Integrating models like GPT or LLama into the solution could improve semantic search results. These LLMs are great in generating contextually accurate language representations. By fine-tuning these models on movie plots and summaries, we could create embeddings that capture more relationships vs. BERT tokens. This would lead to improved accuracy in similarity search results, as the LLMs can understand the context of the text in a better way. Additionally, these models could handle longer and more complex text inputs (longer tokens size), enabling more comprehension of the data processed. In essence, incorporating LLMs would increase the pipeline's ability to understand the context of movie plots and summaries, resulting in more relevant and coherent search outcomes.\n",
        "\n",
        "\n",
        "## Discuss any alternative approaches or techniques that you think could enhance the semantic search.\n",
        "\n",
        "- Instead of concatenating the plot and plot summary, we could generate embeddings separately for each text and create indexes for each column as previously mentioned. This way we avoid merging text columns and avoid loosing information.\n",
        "\n",
        "- I would try integrating the ignored columns—such as \"Title,\" \"Director,\" \"Cast,\" and \"Genre\"—into the feature representation. I'd begin by preprocessing and creating embeddings for these columns using the same BERT-based method as the \"Plot\" and \"PlotSummary\" columns. By combining these embeddings with the existing ones, I can create a more comprehensive representation of each movie. I'd then update the FAISS index to include these new embeddings and perform semantic search with queries that consider multiple aspects of the movies. This way, users can receive more relevant search results considering more attributes of the movies.\n",
        "\n",
        "- Another experiment could be creating indexes for specific categorical attributes. For example, build a Plot+Summary index for each specific genre.\n",
        "This way, the user could input a query and a specific genre (or other attr/s).\n",
        "\n",
        "- Also, analyzing the number of entries per genre (count after group by genre) and probably balancing them before embedding generation could improve results to avoid bias as the moment of searching."
      ],
      "metadata": {
        "id": "-4iKtIPcS1oE"
      }
    }
  ]
}